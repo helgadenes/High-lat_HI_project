{
 "cells": [
  {
   "cell_type": "markdown",
   "id": "34ffe102",
   "metadata": {},
   "source": [
    "info: https://astroquery.readthedocs.io/en/latest/casda/casda.html"
   ]
  },
  {
   "cell_type": "code",
   "execution_count": 5,
   "id": "8d6adbc3",
   "metadata": {},
   "outputs": [],
   "source": [
    "from astroquery.casda import Casda\n",
    "from astropy.coordinates import SkyCoord\n",
    "from astropy import coordinates, units as u, wcs\n",
    "import numpy as np"
   ]
  },
  {
   "cell_type": "code",
   "execution_count": 2,
   "id": "3278aeb2",
   "metadata": {},
   "outputs": [
    {
     "name": "stdout",
     "output_type": "stream",
     "text": [
      "obs_publisher_did       s_ra           s_dec           obs_release_date    \n",
      "                        deg             deg                                \n",
      "----------------- --------------- ---------------- ------------------------\n",
      "       cube-11460 326.52250211117 -43.891190432671 2020-11-18T09:49:27.134Z\n",
      "       cube-11461 326.52250211117 -43.891190432671 2020-11-18T09:49:27.134Z\n",
      "       cube-11462 326.52250211117 -43.891190432671 2020-11-18T09:49:27.134Z\n",
      "       cube-11463 326.52250211117 -43.891190432671 2020-11-18T09:49:27.134Z\n",
      "       cube-11464 326.52250211117 -43.891190432671 2020-11-18T09:49:27.134Z\n"
     ]
    }
   ],
   "source": [
    "centre = SkyCoord.from_name('NGC 7232')\n",
    "result_table = Casda.query_region(centre, radius=30*u.arcmin)\n",
    "print(result_table['obs_publisher_did','s_ra', 's_dec', 'obs_release_date'][:5])"
   ]
  },
  {
   "cell_type": "code",
   "execution_count": 7,
   "id": "566dbe8e",
   "metadata": {},
   "outputs": [
    {
     "name": "stdout",
     "output_type": "stream",
     "text": [
      "dataproduct_type calib_level ... thumbnail_id        filename       \n",
      "                             ...                                    \n",
      "---------------- ----------- ... ------------ ----------------------\n",
      "            cube           3 ...           -- RACS-DR1_0926-69A.fits\n",
      "            cube           3 ...           -- RACS-DR1_0805-71A.fits\n",
      "            cube           3 ...           -- RACS-DR1_0730-68A.fits\n",
      "            cube           3 ...           -- RACS-DR1_0900-76A.fits\n",
      "            cube           3 ...           -- RACS-DR1_0830-68A.fits\n"
     ]
    },
    {
     "ename": "AttributeError",
     "evalue": "'CasdaClass' object has no attribute 'cutout'",
     "output_type": "error",
     "traceback": [
      "\u001b[0;31m---------------------------------------------------------------------------\u001b[0m",
      "\u001b[0;31mAttributeError\u001b[0m                            Traceback (most recent call last)",
      "\u001b[0;32m<ipython-input-7-94068129dbf0>\u001b[0m in \u001b[0;36m<module>\u001b[0;34m\u001b[0m\n\u001b[1;32m      7\u001b[0m \u001b[0mprint\u001b[0m\u001b[0;34m(\u001b[0m\u001b[0msubset\u001b[0m\u001b[0;34m)\u001b[0m\u001b[0;34m\u001b[0m\u001b[0;34m\u001b[0m\u001b[0m\n\u001b[1;32m      8\u001b[0m \u001b[0;34m\u001b[0m\u001b[0m\n\u001b[0;32m----> 9\u001b[0;31m \u001b[0murl_list\u001b[0m \u001b[0;34m=\u001b[0m \u001b[0mcasda\u001b[0m\u001b[0;34m.\u001b[0m\u001b[0mcutout\u001b[0m\u001b[0;34m(\u001b[0m\u001b[0msubset\u001b[0m\u001b[0;34m[\u001b[0m\u001b[0;34m:\u001b[0m\u001b[0;36m1\u001b[0m\u001b[0;34m]\u001b[0m\u001b[0;34m,\u001b[0m \u001b[0mcoordinates\u001b[0m\u001b[0;34m=\u001b[0m\u001b[0mcentre\u001b[0m\u001b[0;34m,\u001b[0m \u001b[0mradius\u001b[0m\u001b[0;34m=\u001b[0m\u001b[0;36m14\u001b[0m\u001b[0;34m*\u001b[0m\u001b[0mu\u001b[0m\u001b[0;34m.\u001b[0m\u001b[0marcmin\u001b[0m\u001b[0;34m)\u001b[0m\u001b[0;34m\u001b[0m\u001b[0;34m\u001b[0m\u001b[0m\n\u001b[0m\u001b[1;32m     10\u001b[0m \u001b[0mfilelist\u001b[0m \u001b[0;34m=\u001b[0m \u001b[0mcasda\u001b[0m\u001b[0;34m.\u001b[0m\u001b[0mdownload_files\u001b[0m\u001b[0;34m(\u001b[0m\u001b[0murl_list\u001b[0m\u001b[0;34m,\u001b[0m \u001b[0msavedir\u001b[0m\u001b[0;34m=\u001b[0m\u001b[0;34m'/tmp'\u001b[0m\u001b[0;34m)\u001b[0m\u001b[0;34m\u001b[0m\u001b[0;34m\u001b[0m\u001b[0m\n",
      "\u001b[0;31mAttributeError\u001b[0m: 'CasdaClass' object has no attribute 'cutout'"
     ]
    }
   ],
   "source": [
    "centre = coordinates.SkyCoord.from_name('2MASX J08161181-7039447')\n",
    "casda = Casda('helgadenes@gmail.com', 'Ngc1515')\n",
    "result = Casda.query_region(centre, radius=30*u.arcmin)\n",
    "public_data = Casda.filter_out_unreleased(result)\n",
    "subset = public_data[((public_data['obs_collection'] == 'The Rapid ASKAP Continuum Survey') & (np.char.endswith(public_data['filename'], 'A.fits')))]\n",
    "\n",
    "print(subset)\n",
    "\n",
    "url_list = casda.cutout(subset[:1], coordinates=centre, radius=14*u.arcmin)\n",
    "filelist = casda.download_files(url_list, savedir='/tmp')\n"
   ]
  },
  {
   "cell_type": "code",
   "execution_count": null,
   "id": "4be52383",
   "metadata": {},
   "outputs": [],
   "source": []
  }
 ],
 "metadata": {
  "kernelspec": {
   "display_name": "Python 3",
   "language": "python",
   "name": "python3"
  },
  "language_info": {
   "codemirror_mode": {
    "name": "ipython",
    "version": 3
   },
   "file_extension": ".py",
   "mimetype": "text/x-python",
   "name": "python",
   "nbconvert_exporter": "python",
   "pygments_lexer": "ipython3",
   "version": "3.8.8"
  }
 },
 "nbformat": 4,
 "nbformat_minor": 5
}
