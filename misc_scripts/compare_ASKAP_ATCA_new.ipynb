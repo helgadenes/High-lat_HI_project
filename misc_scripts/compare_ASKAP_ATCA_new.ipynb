{
 "cells": [
  {
   "cell_type": "markdown",
   "metadata": {},
   "source": [
    "# Compare ASKAP & ATCA spectrum\n",
    "\n",
    "- need to check if bot velocity frames have the baricentric correction\n",
    "- need to save tha ASKAP spectra properly converted to minus tau hi"
   ]
  },
  {
   "cell_type": "code",
   "execution_count": 1,
   "metadata": {},
   "outputs": [
    {
     "name": "stderr",
     "output_type": "stream",
     "text": [
      "WARNING: AstropyDeprecationWarning: block_reduce was moved to the astropy.nddata.blocks module.  Please update your import statement. [astropy.nddata.utils]\n"
     ]
    }
   ],
   "source": [
    "import numpy as np\n",
    "import matplotlib as mpl\n",
    "import matplotlib.pyplot as plt\n",
    "from astropy import units as u\n",
    "from astropy.coordinates import SkyCoord, EarthLocation\n",
    "from astropy.io import fits\n",
    "from spectral_cube import SpectralCube, BooleanArrayMask\n",
    "from astropy.convolution import Gaussian1DKernel, convolve\n",
    "import aplpy  \n",
    "from astropy.wcs import WCS\n",
    "from astropy.time import Time\n",
    "import pandas as pd\n",
    "import os\n",
    "\n",
    "\n",
    "mpl.rcParams['font.family'] = 'serif'\n",
    "mpl.rcParams['font.size'] = '16'\n",
    "mpl.rcParams['xtick.direction'] = 'in'\n",
    "mpl.rcParams['ytick.direction'] = 'in'\n",
    "%matplotlib inline"
   ]
  },
  {
   "cell_type": "markdown",
   "metadata": {},
   "source": [
    "# start with ATCA cubes\n",
    "- this method does not work very well, because the ATCA coordinate is not alwas exactely the same as the ASKAP one, this is probably because the cell size used is 10 arcsec for hydra, so there is a bit of error in the last two digits of dec"
   ]
  },
  {
   "cell_type": "code",
   "execution_count": 5,
   "metadata": {},
   "outputs": [],
   "source": [
    "files = os.listdir('/Users/Denes/Research/High_lat_HI/ATCA_data/data_cubes_4k/Hydra/')\n",
    "\n",
    "def make_plot(file):    \n",
    "    cube_atca = SpectralCube.read('/Users/Denes/Research/High_lat_HI/ATCA_data/data_cubes_4k/Hydra/{}'.format(file))  # Open the FITS file for reading\n",
    "\n",
    "    atca = fits.open('/Users/Denes/Research/High_lat_HI/ATCA_data/data_cubes_4k/Hydra/{}'.format(file))  # Open the FITS file for reading\n",
    "    d_atca = atca[0].data\n",
    "    h_atca = atca[0].header\n",
    "    w_atca = WCS(h_atca, atca)\n",
    "    \n",
    "    c_atca = SkyCoord(ra=h_atca['CRVAL1'], dec=h_atca['CRVAL2'], unit=(u.deg, u.deg))\n",
    "    pixels_atca = c_atca.to_pixel(w_atca)\n",
    "    print(c_atca)\n",
    "\n",
    "    askap_name = '{}{}'.format(c_atca.ra.to_string(unit=u.hour, sep=':').replace(':',''),c_atca.dec.to_string(unit=u.deg, sep=':')[:9].replace(':',''))\n",
    "    print(askap_name)\n",
    "    data_askap = pd.read_csv('./spectra/Hydra/{}_askap_spectrum.txt'.format(askap_name), sep='\\t')\n",
    "\n",
    "    # ATCA spectrum\n",
    "    spectrum_atca = cube_atca[:, int(pixels_atca[1]), int(pixels_atca[0])]  \n",
    "    vel_atca = cube_atca.spectral_axis\n",
    "    y1 = spectrum_atca[:300]\n",
    "    x1 = vel_atca[-300:].value/1000\n",
    "    y2 = spectrum_atca[:300]\n",
    "    x2 = vel_atca[-300:].value/1000\n",
    "    x = np.concatenate((x1,x2), axis=None)\n",
    "    y = np.concatenate((y1,y2), axis=None)\n",
    "    pars = np.polyfit(vel_atca.value, spectrum_atca.value, 1)\n",
    "    p = np.poly1d(pars)\n",
    "    print(p[0])\n",
    "\n",
    "    g = Gaussian1DKernel(4.0)\n",
    "    hismooth = convolve(spectrum_atca, g, boundary='extend')\n",
    "    tauhi_smooth = hismooth/p(vel_atca.value/1000)\n",
    "    tauhi = spectrum_atca/p(vel_atca.value/1000)\n",
    "    tauhi = np.array(tauhi)\n",
    "    tau_atca = np.log(tauhi) * -1.\n",
    "\n",
    "    #tauhi = hismooth/p(hiv)\n",
    "    minustauhi = 1. - tauhi\n",
    "    minustauhi_smooth = 1. - tauhi_smooth\n",
    "    rms_atca = np.sqrt(np.mean(tauhi**2))\n",
    "\n",
    "\n",
    "    # ASKAP spectrum\n",
    "    spectrum_askap = np.array(data_askap['Amplitude'])\n",
    "    vel_askap = np.array(data_askap['velocity'])\n",
    "\n",
    "    # plot\n",
    "    fig = plt.figure(figsize=(16, 12))\n",
    "    ax = fig.add_subplot(111)\n",
    "    plt.plot(vel_atca/1000, tauhi, 'C0', linewidth=3,  label='ATCA')\n",
    "    #plt.plot(vel_askap, spectrum_askap+1, 'C1', linewidth=3, label='ASKAP')\n",
    "    plt.plot(vel_askap, (spectrum_askap+p[0])/p[0], 'C1', linewidth=3, label='ASKAP')\n",
    "    #ax.axhspan(1-rms_askap, 1+rms_askap, alpha=0.5, color='lightgrey')\n",
    "    plt.title('{}'.format(file[:12]), fontsize=30)\n",
    "    plt.ylabel(r'e$^{-\\tau}$', fontsize=28)\n",
    "    plt.xlabel(\"v [km/s]\", fontsize=28)\n",
    "    plt.xlim(-200,400)\n",
    "    plt.axhline(1, color='k', linestyle='--')\n",
    "    plt.legend(fontsize=20)\n",
    "    ax.tick_params(axis='both', which='major', labelsize=25)\n",
    "    fig.savefig('spectra_{}_ASKAP_ATCA_test.png'.format(file[:12]))"
   ]
  },
  {
   "cell_type": "code",
   "execution_count": 6,
   "metadata": {},
   "outputs": [
    {
     "name": "stderr",
     "output_type": "stream",
     "text": [
      "WARNING: non-ASCII characters are present in the FITS file header and have been replaced by \"?\" characters [astropy.io.fits.util]\n",
      "WARNING: VerifyWarning: Invalid 'BLANK' keyword in header.  The 'BLANK' keyword is only applicable to integer data, and will be ignored in this HDU. [astropy.io.fits.hdu.image]\n",
      "WARNING: StokesWarning: Cube is a Stokes cube, returning spectral cube for I component [spectral_cube.io.core]\n",
      "WARNING: non-ASCII characters are present in the FITS file header and have been replaced by \"?\" characters [astropy.io.fits.util]\n",
      "WARNING: VerifyWarning: Invalid 'BLANK' keyword in header.  The 'BLANK' keyword is only applicable to integer data, and will be ignored in this HDU. [astropy.io.fits.hdu.image]\n",
      "WARNING: VerifyWarning: Invalid 'BLANK' keyword in header.  The 'BLANK' keyword is only applicable to integer data, and will be ignored in this HDU. [astropy.io.fits.hdu.image]\n"
     ]
    },
    {
     "name": "stdout",
     "output_type": "stream",
     "text": [
      "<SkyCoord (ICRS): (ra, dec) in deg\n",
      "    (161.59666669, -26.37138886)>\n",
      "104623.2-262216\n",
      "[Errno 2] No such file or directory: './spectra/Hydra/104623.2-262216_askap_spectrum.txt'\n",
      "<SkyCoord (ICRS): (ra, dec) in deg\n",
      "    (153.06041665, -24.86694442)>\n",
      "101214.5-245200\n",
      "[Errno 2] No such file or directory: './spectra/Hydra/101214.5-245200_askap_spectrum.txt'\n"
     ]
    },
    {
     "name": "stderr",
     "output_type": "stream",
     "text": [
      "WARNING: StokesWarning: Cube is a Stokes cube, returning spectral cube for I component [spectral_cube.io.core]\n",
      "WARNING: VerifyWarning: Invalid 'BLANK' keyword in header.  The 'BLANK' keyword is only applicable to integer data, and will be ignored in this HDU. [astropy.io.fits.hdu.image]\n",
      "WARNING: VerifyWarning: Invalid 'BLANK' keyword in header.  The 'BLANK' keyword is only applicable to integer data, and will be ignored in this HDU. [astropy.io.fits.hdu.image]\n",
      "WARNING: StokesWarning: Cube is a Stokes cube, returning spectral cube for I component [spectral_cube.io.core]\n",
      "WARNING: VerifyWarning: Invalid 'BLANK' keyword in header.  The 'BLANK' keyword is only applicable to integer data, and will be ignored in this HDU. [astropy.io.fits.hdu.image]\n"
     ]
    },
    {
     "name": "stdout",
     "output_type": "stream",
     "text": [
      "<SkyCoord (ICRS): (ra, dec) in deg\n",
      "    (152.31875, -28.66833335)>\n",
      "100916.5-284006\n",
      "0.046399303064335005\n",
      "Can only apply 'subtract' function to dimensionless quantities when other argument is not a quantity (unless the latter is all zero/infinity/nan)\n"
     ]
    },
    {
     "name": "stderr",
     "output_type": "stream",
     "text": [
      "WARNING: VerifyWarning: Invalid 'BLANK' keyword in header.  The 'BLANK' keyword is only applicable to integer data, and will be ignored in this HDU. [astropy.io.fits.hdu.image]\n",
      "WARNING: StokesWarning: Cube is a Stokes cube, returning spectral cube for I component [spectral_cube.io.core]\n",
      "WARNING: VerifyWarning: Invalid 'BLANK' keyword in header.  The 'BLANK' keyword is only applicable to integer data, and will be ignored in this HDU. [astropy.io.fits.hdu.image]\n",
      "WARNING: VerifyWarning: Invalid 'BLANK' keyword in header.  The 'BLANK' keyword is only applicable to integer data, and will be ignored in this HDU. [astropy.io.fits.hdu.image]\n"
     ]
    },
    {
     "name": "stdout",
     "output_type": "stream",
     "text": [
      "<SkyCoord (ICRS): (ra, dec) in deg\n",
      "    (159.07583333, -26.21305553)>\n",
      "103618.2-261246\n",
      "[Errno 2] No such file or directory: './spectra/Hydra/103618.2-261246_askap_spectrum.txt'\n",
      "<SkyCoord (ICRS): (ra, dec) in deg\n",
      "    (156.12333334, -30.21750002)>\n",
      "102429.6-301303\n"
     ]
    },
    {
     "name": "stderr",
     "output_type": "stream",
     "text": [
      "WARNING: StokesWarning: Cube is a Stokes cube, returning spectral cube for I component [spectral_cube.io.core]\n",
      "WARNING: VerifyWarning: Invalid 'BLANK' keyword in header.  The 'BLANK' keyword is only applicable to integer data, and will be ignored in this HDU. [astropy.io.fits.hdu.image]\n",
      "WARNING: VerifyWarning: Invalid 'BLANK' keyword in header.  The 'BLANK' keyword is only applicable to integer data, and will be ignored in this HDU. [astropy.io.fits.hdu.image]\n"
     ]
    },
    {
     "name": "stdout",
     "output_type": "stream",
     "text": [
      "0.29224794552481104\n",
      "Can only apply 'subtract' function to dimensionless quantities when other argument is not a quantity (unless the latter is all zero/infinity/nan)\n",
      "<SkyCoord (ICRS): (ra, dec) in deg\n",
      "    (157.03749999, -26.73833332)>\n",
      "102809-264418\n",
      "[Errno 2] No such file or directory: './spectra/Hydra/102809-264418_askap_spectrum.txt'\n"
     ]
    },
    {
     "name": "stderr",
     "output_type": "stream",
     "text": [
      "WARNING: StokesWarning: Cube is a Stokes cube, returning spectral cube for I component [spectral_cube.io.core]\n",
      "WARNING: VerifyWarning: Invalid 'BLANK' keyword in header.  The 'BLANK' keyword is only applicable to integer data, and will be ignored in this HDU. [astropy.io.fits.hdu.image]\n",
      "WARNING: VerifyWarning: Invalid 'BLANK' keyword in header.  The 'BLANK' keyword is only applicable to integer data, and will be ignored in this HDU. [astropy.io.fits.hdu.image]\n",
      "WARNING: StokesWarning: Cube is a Stokes cube, returning spectral cube for I component [spectral_cube.io.core]\n",
      "WARNING: VerifyWarning: Invalid 'BLANK' keyword in header.  The 'BLANK' keyword is only applicable to integer data, and will be ignored in this HDU. [astropy.io.fits.hdu.image]\n"
     ]
    },
    {
     "name": "stdout",
     "output_type": "stream",
     "text": [
      "<SkyCoord (ICRS): (ra, dec) in deg\n",
      "    (159.80625001, -25.15777779)>\n",
      "103913.5-250928\n",
      "0.23501251033626064\n",
      "Can only apply 'subtract' function to dimensionless quantities when other argument is not a quantity (unless the latter is all zero/infinity/nan)\n",
      "<SkyCoord (ICRS): (ra, dec) in deg\n",
      "    (157.03749999, -26.73833332)>\n",
      "102809-264418\n",
      "[Errno 2] No such file or directory: './spectra/Hydra/102809-264418_askap_spectrum.txt'\n"
     ]
    },
    {
     "name": "stderr",
     "output_type": "stream",
     "text": [
      "WARNING: VerifyWarning: Invalid 'BLANK' keyword in header.  The 'BLANK' keyword is only applicable to integer data, and will be ignored in this HDU. [astropy.io.fits.hdu.image]\n",
      "WARNING: StokesWarning: Cube is a Stokes cube, returning spectral cube for I component [spectral_cube.io.core]\n",
      "WARNING: VerifyWarning: Invalid 'BLANK' keyword in header.  The 'BLANK' keyword is only applicable to integer data, and will be ignored in this HDU. [astropy.io.fits.hdu.image]\n",
      "WARNING: VerifyWarning: Invalid 'BLANK' keyword in header.  The 'BLANK' keyword is only applicable to integer data, and will be ignored in this HDU. [astropy.io.fits.hdu.image]\n",
      "WARNING: StokesWarning: Cube is a Stokes cube, returning spectral cube for I component [spectral_cube.io.core]\n",
      "WARNING: VerifyWarning: Invalid 'BLANK' keyword in header.  The 'BLANK' keyword is only applicable to integer data, and will be ignored in this HDU. [astropy.io.fits.hdu.image]\n",
      "WARNING: VerifyWarning: Invalid 'BLANK' keyword in header.  The 'BLANK' keyword is only applicable to integer data, and will be ignored in this HDU. [astropy.io.fits.hdu.image]\n"
     ]
    },
    {
     "name": "stdout",
     "output_type": "stream",
     "text": [
      "<SkyCoord (ICRS): (ra, dec) in deg\n",
      "    (153.70250003, -29.74250001)>\n",
      "101448.6-294433\n",
      "0.07155706975534809\n",
      "Can only apply 'subtract' function to dimensionless quantities when other argument is not a quantity (unless the latter is all zero/infinity/nan)\n"
     ]
    },
    {
     "name": "stderr",
     "output_type": "stream",
     "text": [
      "WARNING: StokesWarning: Cube is a Stokes cube, returning spectral cube for I component [spectral_cube.io.core]\n",
      "WARNING: VerifyWarning: Invalid 'BLANK' keyword in header.  The 'BLANK' keyword is only applicable to integer data, and will be ignored in this HDU. [astropy.io.fits.hdu.image]\n",
      "WARNING: VerifyWarning: Invalid 'BLANK' keyword in header.  The 'BLANK' keyword is only applicable to integer data, and will be ignored in this HDU. [astropy.io.fits.hdu.image]\n",
      "WARNING: StokesWarning: Cube is a Stokes cube, returning spectral cube for I component [spectral_cube.io.core]\n",
      "WARNING: VerifyWarning: Invalid 'BLANK' keyword in header.  The 'BLANK' keyword is only applicable to integer data, and will be ignored in this HDU. [astropy.io.fits.hdu.image]\n"
     ]
    },
    {
     "name": "stdout",
     "output_type": "stream",
     "text": [
      "<SkyCoord (ICRS): (ra, dec) in deg\n",
      "    (153.30458336, -25.78166667)>\n",
      "101313.1-254654\n",
      "[Errno 2] No such file or directory: './spectra/Hydra/101313.1-254654_askap_spectrum.txt'\n",
      "<SkyCoord (ICRS): (ra, dec) in deg\n",
      "    (159.13291666, -25.88861113)>\n",
      "103631.9-255319\n",
      "0.256399114050853\n",
      "Can only apply 'subtract' function to dimensionless quantities when other argument is not a quantity (unless the latter is all zero/infinity/nan)\n",
      "<SkyCoord (ICRS): (ra, dec) in deg\n",
      "    (154.26916669, -28.06777778)>\n",
      "101704.6-280404\n"
     ]
    },
    {
     "name": "stderr",
     "output_type": "stream",
     "text": [
      "WARNING: non-ASCII characters are present in the FITS file header and have been replaced by \"?\" characters [astropy.io.fits.util]\n",
      "WARNING: VerifyWarning: Invalid 'BLANK' keyword in header.  The 'BLANK' keyword is only applicable to integer data, and will be ignored in this HDU. [astropy.io.fits.hdu.image]\n",
      "WARNING: StokesWarning: Cube is a Stokes cube, returning spectral cube for I component [spectral_cube.io.core]\n",
      "WARNING: non-ASCII characters are present in the FITS file header and have been replaced by \"?\" characters [astropy.io.fits.util]\n",
      "WARNING: VerifyWarning: Invalid 'BLANK' keyword in header.  The 'BLANK' keyword is only applicable to integer data, and will be ignored in this HDU. [astropy.io.fits.hdu.image]\n"
     ]
    },
    {
     "name": "stdout",
     "output_type": "stream",
     "text": [
      "0.29906223964695916\n",
      "Can only apply 'subtract' function to dimensionless quantities when other argument is not a quantity (unless the latter is all zero/infinity/nan)\n",
      "<SkyCoord (ICRS): (ra, dec) in deg\n",
      "    (155.62083331, -26.79277778)>\n",
      "102229-264734\n",
      "[Errno 2] No such file or directory: './spectra/Hydra/102229-264734_askap_spectrum.txt'\n"
     ]
    },
    {
     "name": "stderr",
     "output_type": "stream",
     "text": [
      "WARNING: VerifyWarning: Invalid 'BLANK' keyword in header.  The 'BLANK' keyword is only applicable to integer data, and will be ignored in this HDU. [astropy.io.fits.hdu.image]\n",
      "WARNING: StokesWarning: Cube is a Stokes cube, returning spectral cube for I component [spectral_cube.io.core]\n",
      "WARNING: VerifyWarning: Invalid 'BLANK' keyword in header.  The 'BLANK' keyword is only applicable to integer data, and will be ignored in this HDU. [astropy.io.fits.hdu.image]\n",
      "WARNING: VerifyWarning: Invalid 'BLANK' keyword in header.  The 'BLANK' keyword is only applicable to integer data, and will be ignored in this HDU. [astropy.io.fits.hdu.image]\n",
      "WARNING: StokesWarning: Cube is a Stokes cube, returning spectral cube for I component [spectral_cube.io.core]\n",
      "WARNING: VerifyWarning: Invalid 'BLANK' keyword in header.  The 'BLANK' keyword is only applicable to integer data, and will be ignored in this HDU. [astropy.io.fits.hdu.image]\n",
      "WARNING: VerifyWarning: Invalid 'BLANK' keyword in header.  The 'BLANK' keyword is only applicable to integer data, and will be ignored in this HDU. [astropy.io.fits.hdu.image]\n",
      "WARNING: StokesWarning: Cube is a Stokes cube, returning spectral cube for I component [spectral_cube.io.core]\n",
      "WARNING: VerifyWarning: Invalid 'BLANK' keyword in header.  The 'BLANK' keyword is only applicable to integer data, and will be ignored in this HDU. [astropy.io.fits.hdu.image]\n",
      "WARNING: non-ASCII characters are present in the FITS file header and have been replaced by \"?\" characters [astropy.io.fits.util]\n",
      "WARNING: VerifyWarning: Invalid 'BLANK' keyword in header.  The 'BLANK' keyword is only applicable to integer data, and will be ignored in this HDU. [astropy.io.fits.hdu.image]\n"
     ]
    },
    {
     "name": "stdout",
     "output_type": "stream",
     "text": [
      "<SkyCoord (ICRS): (ra, dec) in deg\n",
      "    (152.29625, -28.93138887)>\n",
      "100911.1-285552\n",
      "[Errno 2] No such file or directory: './spectra/Hydra/100911.1-285552_askap_spectrum.txt'\n",
      "<SkyCoord (ICRS): (ra, dec) in deg\n",
      "    (159.31708334, -29.5672222)>\n",
      "103716.1-293401\n",
      "[Errno 2] No such file or directory: './spectra/Hydra/103716.1-293401_askap_spectrum.txt'\n"
     ]
    },
    {
     "name": "stderr",
     "output_type": "stream",
     "text": [
      "WARNING: StokesWarning: Cube is a Stokes cube, returning spectral cube for I component [spectral_cube.io.core]\n",
      "WARNING: non-ASCII characters are present in the FITS file header and have been replaced by \"?\" characters [astropy.io.fits.util]\n",
      "WARNING: VerifyWarning: Invalid 'BLANK' keyword in header.  The 'BLANK' keyword is only applicable to integer data, and will be ignored in this HDU. [astropy.io.fits.hdu.image]\n",
      "WARNING: VerifyWarning: Invalid 'BLANK' keyword in header.  The 'BLANK' keyword is only applicable to integer data, and will be ignored in this HDU. [astropy.io.fits.hdu.image]\n"
     ]
    },
    {
     "name": "stdout",
     "output_type": "stream",
     "text": [
      "<SkyCoord (ICRS): (ra, dec) in deg\n",
      "    (160.73041667, -28.82138888)>\n",
      "104255.3-284917\n",
      "0.24534036948580157\n",
      "Can only apply 'subtract' function to dimensionless quantities when other argument is not a quantity (unless the latter is all zero/infinity/nan)\n"
     ]
    },
    {
     "name": "stderr",
     "output_type": "stream",
     "text": [
      "WARNING: StokesWarning: Cube is a Stokes cube, returning spectral cube for I component [spectral_cube.io.core]\n",
      "WARNING: VerifyWarning: Invalid 'BLANK' keyword in header.  The 'BLANK' keyword is only applicable to integer data, and will be ignored in this HDU. [astropy.io.fits.hdu.image]\n",
      "WARNING: VerifyWarning: Invalid 'BLANK' keyword in header.  The 'BLANK' keyword is only applicable to integer data, and will be ignored in this HDU. [astropy.io.fits.hdu.image]\n",
      "WARNING: StokesWarning: Cube is a Stokes cube, returning spectral cube for I component [spectral_cube.io.core]\n",
      "WARNING: VerifyWarning: Invalid 'BLANK' keyword in header.  The 'BLANK' keyword is only applicable to integer data, and will be ignored in this HDU. [astropy.io.fits.hdu.image]\n"
     ]
    },
    {
     "name": "stdout",
     "output_type": "stream",
     "text": [
      "<SkyCoord (ICRS): (ra, dec) in deg\n",
      "    (152.22999998, -30.18666669)>\n",
      "100855.2-301112\n",
      "0.1563542047308036\n",
      "Can only apply 'subtract' function to dimensionless quantities when other argument is not a quantity (unless the latter is all zero/infinity/nan)\n",
      "<SkyCoord (ICRS): (ra, dec) in deg\n",
      "    (157.01208336, -29.61944443)>\n",
      "102802.9-293710\n",
      "0.28638407115441966\n",
      "Can only apply 'subtract' function to dimensionless quantities when other argument is not a quantity (unless the latter is all zero/infinity/nan)\n",
      "<SkyCoord (ICRS): (ra, dec) in deg\n",
      "    (152.97416668, -26.17083335)>\n",
      "101153.8-261015\n"
     ]
    },
    {
     "name": "stderr",
     "output_type": "stream",
     "text": [
      "WARNING: VerifyWarning: Invalid 'BLANK' keyword in header.  The 'BLANK' keyword is only applicable to integer data, and will be ignored in this HDU. [astropy.io.fits.hdu.image]\n",
      "WARNING: StokesWarning: Cube is a Stokes cube, returning spectral cube for I component [spectral_cube.io.core]\n",
      "WARNING: VerifyWarning: Invalid 'BLANK' keyword in header.  The 'BLANK' keyword is only applicable to integer data, and will be ignored in this HDU. [astropy.io.fits.hdu.image]\n"
     ]
    },
    {
     "name": "stdout",
     "output_type": "stream",
     "text": [
      "0.48165254485528275\n",
      "Can only apply 'subtract' function to dimensionless quantities when other argument is not a quantity (unless the latter is all zero/infinity/nan)\n",
      "<SkyCoord (ICRS): (ra, dec) in deg\n",
      "    (155.62083331, -26.79277778)>\n",
      "102229-264734\n",
      "[Errno 2] No such file or directory: './spectra/Hydra/102229-264734_askap_spectrum.txt'\n"
     ]
    },
    {
     "name": "stderr",
     "output_type": "stream",
     "text": [
      "WARNING: VerifyWarning: Invalid 'BLANK' keyword in header.  The 'BLANK' keyword is only applicable to integer data, and will be ignored in this HDU. [astropy.io.fits.hdu.image]\n",
      "WARNING: StokesWarning: Cube is a Stokes cube, returning spectral cube for I component [spectral_cube.io.core]\n",
      "WARNING: VerifyWarning: Invalid 'BLANK' keyword in header.  The 'BLANK' keyword is only applicable to integer data, and will be ignored in this HDU. [astropy.io.fits.hdu.image]\n",
      "WARNING: VerifyWarning: Invalid 'BLANK' keyword in header.  The 'BLANK' keyword is only applicable to integer data, and will be ignored in this HDU. [astropy.io.fits.hdu.image]\n",
      "WARNING: StokesWarning: Cube is a Stokes cube, returning spectral cube for I component [spectral_cube.io.core]\n",
      "WARNING: VerifyWarning: Invalid 'BLANK' keyword in header.  The 'BLANK' keyword is only applicable to integer data, and will be ignored in this HDU. [astropy.io.fits.hdu.image]\n",
      "WARNING: VerifyWarning: Invalid 'BLANK' keyword in header.  The 'BLANK' keyword is only applicable to integer data, and will be ignored in this HDU. [astropy.io.fits.hdu.image]\n"
     ]
    },
    {
     "name": "stdout",
     "output_type": "stream",
     "text": [
      "<SkyCoord (ICRS): (ra, dec) in deg\n",
      "    (159.34916669, -29.13166667)>\n",
      "103723.8-290754\n",
      "0.45690138913274025\n",
      "Can only apply 'subtract' function to dimensionless quantities when other argument is not a quantity (unless the latter is all zero/infinity/nan)\n"
     ]
    },
    {
     "name": "stderr",
     "output_type": "stream",
     "text": [
      "WARNING: StokesWarning: Cube is a Stokes cube, returning spectral cube for I component [spectral_cube.io.core]\n",
      "WARNING: VerifyWarning: Invalid 'BLANK' keyword in header.  The 'BLANK' keyword is only applicable to integer data, and will be ignored in this HDU. [astropy.io.fits.hdu.image]\n",
      "WARNING: VerifyWarning: Invalid 'BLANK' keyword in header.  The 'BLANK' keyword is only applicable to integer data, and will be ignored in this HDU. [astropy.io.fits.hdu.image]\n",
      "WARNING: StokesWarning: Cube is a Stokes cube, returning spectral cube for I component [spectral_cube.io.core]\n",
      "WARNING: VerifyWarning: Invalid 'BLANK' keyword in header.  The 'BLANK' keyword is only applicable to integer data, and will be ignored in this HDU. [astropy.io.fits.hdu.image]\n",
      "WARNING: VerifyWarning: Invalid 'BLANK' keyword in header.  The 'BLANK' keyword is only applicable to integer data, and will be ignored in this HDU. [astropy.io.fits.hdu.image]\n"
     ]
    },
    {
     "name": "stdout",
     "output_type": "stream",
     "text": [
      "<SkyCoord (ICRS): (ra, dec) in deg\n",
      "    (255.90166669, -62.2111111)>\n",
      "170336.4-621240\n",
      "[Errno 2] No such file or directory: './spectra/Hydra/170336.4-621240_askap_spectrum.txt'\n",
      "<SkyCoord (ICRS): (ra, dec) in deg\n",
      "    (153.49083332, -24.99222221)>\n",
      "101357.8-245932\n",
      "[Errno 2] No such file or directory: './spectra/Hydra/101357.8-245932_askap_spectrum.txt'\n"
     ]
    },
    {
     "name": "stderr",
     "output_type": "stream",
     "text": [
      "WARNING: StokesWarning: Cube is a Stokes cube, returning spectral cube for I component [spectral_cube.io.core]\n",
      "WARNING: VerifyWarning: Invalid 'BLANK' keyword in header.  The 'BLANK' keyword is only applicable to integer data, and will be ignored in this HDU. [astropy.io.fits.hdu.image]\n",
      "WARNING: VerifyWarning: Invalid 'BLANK' keyword in header.  The 'BLANK' keyword is only applicable to integer data, and will be ignored in this HDU. [astropy.io.fits.hdu.image]\n",
      "WARNING: StokesWarning: Cube is a Stokes cube, returning spectral cube for I component [spectral_cube.io.core]\n",
      "WARNING: VerifyWarning: Invalid 'BLANK' keyword in header.  The 'BLANK' keyword is only applicable to integer data, and will be ignored in this HDU. [astropy.io.fits.hdu.image]\n",
      "WARNING: VerifyWarning: Invalid 'BLANK' keyword in header.  The 'BLANK' keyword is only applicable to integer data, and will be ignored in this HDU. [astropy.io.fits.hdu.image]\n"
     ]
    },
    {
     "name": "stdout",
     "output_type": "stream",
     "text": [
      "<SkyCoord (ICRS): (ra, dec) in deg\n",
      "    (154.78333334, -27.14888887)>\n",
      "101908-270855\n",
      "[Errno 2] No such file or directory: './spectra/Hydra/101908-270855_askap_spectrum.txt'\n",
      "<SkyCoord (ICRS): (ra, dec) in deg\n",
      "    (152.69583335, -26.4427778)>\n",
      "101047-262634\n",
      "[Errno 2] No such file or directory: './spectra/Hydra/101047-262634_askap_spectrum.txt'\n"
     ]
    },
    {
     "name": "stderr",
     "output_type": "stream",
     "text": [
      "WARNING: StokesWarning: Cube is a Stokes cube, returning spectral cube for I component [spectral_cube.io.core]\n",
      "WARNING: VerifyWarning: Invalid 'BLANK' keyword in header.  The 'BLANK' keyword is only applicable to integer data, and will be ignored in this HDU. [astropy.io.fits.hdu.image]\n",
      "WARNING: non-ASCII characters are present in the FITS file header and have been replaced by \"?\" characters [astropy.io.fits.util]\n",
      "WARNING: VerifyWarning: Invalid 'BLANK' keyword in header.  The 'BLANK' keyword is only applicable to integer data, and will be ignored in this HDU. [astropy.io.fits.hdu.image]\n"
     ]
    },
    {
     "name": "stdout",
     "output_type": "stream",
     "text": [
      "<SkyCoord (ICRS): (ra, dec) in deg\n",
      "    (159.29291667, -26.79444446)>\n",
      "103710.3-264740\n",
      "0.29989918683198746\n",
      "Can only apply 'subtract' function to dimensionless quantities when other argument is not a quantity (unless the latter is all zero/infinity/nan)\n"
     ]
    },
    {
     "name": "stderr",
     "output_type": "stream",
     "text": [
      "WARNING: StokesWarning: Cube is a Stokes cube, returning spectral cube for I component [spectral_cube.io.core]\n",
      "WARNING: non-ASCII characters are present in the FITS file header and have been replaced by \"?\" characters [astropy.io.fits.util]\n",
      "WARNING: VerifyWarning: Invalid 'BLANK' keyword in header.  The 'BLANK' keyword is only applicable to integer data, and will be ignored in this HDU. [astropy.io.fits.hdu.image]\n",
      "WARNING: VerifyWarning: Invalid 'BLANK' keyword in header.  The 'BLANK' keyword is only applicable to integer data, and will be ignored in this HDU. [astropy.io.fits.hdu.image]\n"
     ]
    },
    {
     "name": "stdout",
     "output_type": "stream",
     "text": [
      "<SkyCoord (ICRS): (ra, dec) in deg\n",
      "    (162.67666669, -27.55249999)>\n",
      "105042.4-273309\n",
      "0.6745048046739666\n",
      "Can only apply 'subtract' function to dimensionless quantities when other argument is not a quantity (unless the latter is all zero/infinity/nan)\n"
     ]
    },
    {
     "name": "stderr",
     "output_type": "stream",
     "text": [
      "WARNING: StokesWarning: Cube is a Stokes cube, returning spectral cube for I component [spectral_cube.io.core]\n",
      "WARNING: VerifyWarning: Invalid 'BLANK' keyword in header.  The 'BLANK' keyword is only applicable to integer data, and will be ignored in this HDU. [astropy.io.fits.hdu.image]\n",
      "WARNING: VerifyWarning: Invalid 'BLANK' keyword in header.  The 'BLANK' keyword is only applicable to integer data, and will be ignored in this HDU. [astropy.io.fits.hdu.image]\n"
     ]
    },
    {
     "name": "stdout",
     "output_type": "stream",
     "text": [
      "<SkyCoord (ICRS): (ra, dec) in deg\n",
      "    (161.15708333, -27.205)>\n",
      "104437.7-271218\n",
      "0.5383294925119925\n",
      "Can only apply 'subtract' function to dimensionless quantities when other argument is not a quantity (unless the latter is all zero/infinity/nan)\n"
     ]
    },
    {
     "name": "stderr",
     "output_type": "stream",
     "text": [
      "WARNING: StokesWarning: Cube is a Stokes cube, returning spectral cube for I component [spectral_cube.io.core]\n",
      "WARNING: VerifyWarning: Invalid 'BLANK' keyword in header.  The 'BLANK' keyword is only applicable to integer data, and will be ignored in this HDU. [astropy.io.fits.hdu.image]\n",
      "WARNING: VerifyWarning: Invalid 'BLANK' keyword in header.  The 'BLANK' keyword is only applicable to integer data, and will be ignored in this HDU. [astropy.io.fits.hdu.image]\n",
      "WARNING: StokesWarning: Cube is a Stokes cube, returning spectral cube for I component [spectral_cube.io.core]\n",
      "WARNING: VerifyWarning: Invalid 'BLANK' keyword in header.  The 'BLANK' keyword is only applicable to integer data, and will be ignored in this HDU. [astropy.io.fits.hdu.image]\n"
     ]
    },
    {
     "name": "stdout",
     "output_type": "stream",
     "text": [
      "<SkyCoord (ICRS): (ra, dec) in deg\n",
      "    (154.78333334, -27.14888887)>\n",
      "101908-270855\n",
      "[Errno 2] No such file or directory: './spectra/Hydra/101908-270855_askap_spectrum.txt'\n",
      "<SkyCoord (ICRS): (ra, dec) in deg\n",
      "    (151.6425, -29.23500001)>\n",
      "100634.2-291406\n",
      "0.12858413433693944\n",
      "Can only apply 'subtract' function to dimensionless quantities when other argument is not a quantity (unless the latter is all zero/infinity/nan)\n",
      "<SkyCoord (ICRS): (ra, dec) in deg\n",
      "    (159.42708333, -28.38444445)>\n",
      "103742.5-282304\n"
     ]
    },
    {
     "name": "stderr",
     "output_type": "stream",
     "text": [
      "WARNING: VerifyWarning: Invalid 'BLANK' keyword in header.  The 'BLANK' keyword is only applicable to integer data, and will be ignored in this HDU. [astropy.io.fits.hdu.image]\n",
      "WARNING: StokesWarning: Cube is a Stokes cube, returning spectral cube for I component [spectral_cube.io.core]\n",
      "WARNING: VerifyWarning: Invalid 'BLANK' keyword in header.  The 'BLANK' keyword is only applicable to integer data, and will be ignored in this HDU. [astropy.io.fits.hdu.image]\n"
     ]
    },
    {
     "name": "stdout",
     "output_type": "stream",
     "text": [
      "0.2794226698385291\n",
      "Can only apply 'subtract' function to dimensionless quantities when other argument is not a quantity (unless the latter is all zero/infinity/nan)\n",
      "<SkyCoord (ICRS): (ra, dec) in deg\n",
      "    (161.41916666, -29.45722221)>\n",
      "104540.6-292725\n",
      "[Errno 2] No such file or directory: './spectra/Hydra/104540.6-292725_askap_spectrum.txt'\n"
     ]
    },
    {
     "name": "stderr",
     "output_type": "stream",
     "text": [
      "WARNING: non-ASCII characters are present in the FITS file header and have been replaced by \"?\" characters [astropy.io.fits.util]\n",
      "WARNING: VerifyWarning: Invalid 'BLANK' keyword in header.  The 'BLANK' keyword is only applicable to integer data, and will be ignored in this HDU. [astropy.io.fits.hdu.image]\n",
      "WARNING: StokesWarning: Cube is a Stokes cube, returning spectral cube for I component [spectral_cube.io.core]\n",
      "WARNING: non-ASCII characters are present in the FITS file header and have been replaced by \"?\" characters [astropy.io.fits.util]\n",
      "WARNING: VerifyWarning: Invalid 'BLANK' keyword in header.  The 'BLANK' keyword is only applicable to integer data, and will be ignored in this HDU. [astropy.io.fits.hdu.image]\n"
     ]
    }
   ],
   "source": [
    "#make_plot(files[2])\n",
    "\n",
    "for i in files:\n",
    "    try:\n",
    "        make_plot(i)\n",
    "    except Exception as e:\n",
    "        print(e)\n",
    "        continue"
   ]
  },
  {
   "cell_type": "markdown",
   "metadata": {},
   "source": [
    "# Read ASKAP files first"
   ]
  },
  {
   "cell_type": "code",
   "execution_count": 21,
   "metadata": {},
   "outputs": [],
   "source": []
  },
  {
   "cell_type": "code",
   "execution_count": 9,
   "metadata": {},
   "outputs": [],
   "source": [
    "#field = 'Hydra'\n",
    "\n",
    "def make_plot_v2(askap_file, field):    \n",
    "\n",
    "    askap_5sig = pd.read_csv('5_sigma_askap_sources_{}.csv'.format(field))\n",
    "    ra = np.array(askap_5sig['ra_hms_cont'])\n",
    "    dec = np.array(askap_5sig['dec_dms_cont'])\n",
    "    flux_peak = np.array(askap_5sig['flux_peak'])\n",
    "    flux_int = np.array(askap_5sig['flux_int'])\n",
    "    \n",
    "    atca_name = '{}{}'.format(askap_file[:6], askap_file[8:13])\n",
    "    cube_atca = SpectralCube.read('/Users/denes/Research/High_lat_HI/ATCA_data/data_cubes_4k/{}/j{}_cube_4k.fits'.format(field, atca_name))  # Open the FITS file for reading\n",
    "\n",
    "    atca = fits.open('/Users/denes/Research/High_lat_HI/ATCA_data/data_cubes_4k/{}/j{}_cube_4k.fits'.format(field, atca_name))  # Open the FITS file for reading\n",
    "    d_atca = atca[0].data\n",
    "    h_atca = atca[0].header\n",
    "    w_atca = WCS(h_atca, atca)\n",
    "    #print(h_atca)\n",
    "    \n",
    "    c_atca = SkyCoord(ra=h_atca['CRVAL1'], dec=h_atca['CRVAL2'], unit=(u.deg, u.deg))\n",
    "    pixels_atca = c_atca.to_pixel(w_atca)\n",
    "    #print(c_atca)\n",
    "\n",
    "    data_askap = pd.read_csv('./spectra/{}/{}'.format(field, askap_file), sep='\\t')\n",
    "\n",
    "    # ATCA spectrum\n",
    "    spectrum_atca = cube_atca[:, int(pixels_atca[1]), int(pixels_atca[0])]  \n",
    "    #ATCA = EarthLocation.from_geocentric(-4750915.837, 2792906.182, -3200483.747, unit='m')\n",
    "    #barycorr = c_atca.radial_velocity_correction(obstime=Time(h_atca['DATE-OBS']), location=ATCA)\n",
    "    #print('barycorr', barycorr, h_atca['VOBS'])\n",
    "    vel_atca = cube_atca.spectral_axis \n",
    "    y1 = spectrum_atca[:300]\n",
    "    x1 = vel_atca[-300:].value/1000\n",
    "    y2 = spectrum_atca[:300]\n",
    "    x2 = vel_atca[-300:].value/1000\n",
    "    x = np.concatenate((x1,x2), axis=None)\n",
    "    y = np.concatenate((y1,y2), axis=None)\n",
    "    pars = np.polyfit(vel_atca.value, spectrum_atca.value, 1)\n",
    "    p = np.poly1d(pars)\n",
    "    print(p[0])\n",
    "\n",
    "    g = Gaussian1DKernel(4.0)\n",
    "    hismooth = convolve(spectrum_atca, g, boundary='extend')\n",
    "    tauhi_smooth = hismooth/p(vel_atca.value/1000)\n",
    "    tauhi = spectrum_atca/p(vel_atca.value/1000)\n",
    "    tauhi = np.array(tauhi)\n",
    "    tau_atca = np.log(tauhi) * -1.\n",
    "\n",
    "    #tauhi = hismooth/p(hiv)\n",
    "    minustauhi = 1. - tauhi\n",
    "    minustauhi_smooth = 1. - tauhi_smooth\n",
    "    rms_atca = np.sqrt(np.mean(tauhi**2))\n",
    "\n",
    "\n",
    "    # ASKAP spectrum\n",
    "    spectrum_askap = np.array(data_askap['Amplitude'])\n",
    "    vel_askap = np.array(data_askap['velocity'])\n",
    "    f_p = 1\n",
    "    \n",
    "    for i in range(len(ra)):\n",
    "        if askap_file[:8] == ra[i].replace(':',''):\n",
    "            f_p = flux_peak[i]/1000\n",
    "\n",
    "    # plot\n",
    "    fig = plt.figure(figsize=(16, 12))\n",
    "    ax = fig.add_subplot(111)\n",
    "    plt.plot(vel_atca/1000, tauhi, 'C0', linewidth=3,  label='ATCA', alpha=0.8)\n",
    "    plt.plot(vel_askap, spectrum_askap, 'C1', linewidth=3, label='ASKAP', alpha=0.8)\n",
    "    #plt.plot(vel_askap, (spectrum_askap+f_p)/f_p, 'C1', linewidth=3, label='ASKAP') # scale with ASKAP catalogue flux\n",
    "    plt.text(200, 0.9, 'ASKAP peak flux: {}'.format(round(f_p,2)), fontsize=20)\n",
    "    #ax.axhspan(1-rms_askap, 1+rms_askap, alpha=0.5, color='lightgrey')\n",
    "    plt.title('{}'.format(atca_name), fontsize=30)\n",
    "    plt.ylabel(r'e$^{-\\tau}$', fontsize=28)\n",
    "    plt.xlabel(\"v [km/s]\", fontsize=28)\n",
    "    plt.xlim(-200,400)\n",
    "    #plt.ylim(0.0,1.1)\n",
    "    plt.axhline(1, color='k', linestyle='--')\n",
    "    plt.axvline(0, color='k', linestyle='--')\n",
    "    plt.grid(color='grey', linestyle='--')\n",
    "    plt.legend(fontsize=20)\n",
    "    ax.tick_params(axis='both', which='major', labelsize=25)\n",
    "    fig.savefig('./spectra_ASKAP_ATCA/{}/spectra_{}_ASKAP_ATCA.png'.format(field, atca_name))\n",
    "    "
   ]
  },
  {
   "cell_type": "code",
   "execution_count": 10,
   "metadata": {},
   "outputs": [
    {
     "name": "stdout",
     "output_type": "stream",
     "text": [
      "[Errno 2] No such file or directory: '/Users/denes/Research/High_lat_HI/ATCA_data/data_cubes_4k/Norma/j161347-5937_cube_4k.fits'\n",
      "[Errno 2] No such file or directory: '/Users/denes/Research/High_lat_HI/ATCA_data/data_cubes_4k/Norma/j165646-6130_cube_4k.fits'\n",
      "[Errno 2] No such file or directory: '/Users/denes/Research/High_lat_HI/ATCA_data/data_cubes_4k/Norma/j161243-5736_cube_4k.fits'\n",
      "[Errno 2] No such file or directory: '/Users/denes/Research/High_lat_HI/ATCA_data/data_cubes_4k/Norma/j171655-6045_cube_4k.fits'\n",
      "[Errno 2] No such file or directory: '/Users/denes/Research/High_lat_HI/ATCA_data/data_cubes_4k/Norma/j161259-6037_cube_4k.fits'\n",
      "[Errno 2] No such file or directory: '/Users/denes/Research/High_lat_HI/ATCA_data/data_cubes_4k/Norma/j161939-5721_cube_4k.fits'\n",
      "[Errno 2] No such file or directory: '/Users/denes/Research/High_lat_HI/ATCA_data/data_cubes_4k/Norma/j164204-6219_cube_4k.fits'\n",
      "[Errno 2] No such file or directory: '/Users/denes/Research/High_lat_HI/ATCA_data/data_cubes_4k/Norma/j161554-5824_cube_4k.fits'\n",
      "[Errno 2] No such file or directory: '/Users/denes/Research/High_lat_HI/ATCA_data/data_cubes_4k/Norma/j161905-5923_cube_4k.fits'\n",
      "[Errno 2] No such file or directory: '/Users/denes/Research/High_lat_HI/ATCA_data/data_cubes_4k/Norma/j170350-5937_cube_4k.fits'\n",
      "[Errno 2] No such file or directory: '/Users/denes/Research/High_lat_HI/ATCA_data/data_cubes_4k/Norma/j171436-5930_cube_4k.fits'\n",
      "[Errno 2] No such file or directory: '/Users/denes/Research/High_lat_HI/ATCA_data/data_cubes_4k/Norma/j172109-5812_cube_4k.fits'\n",
      "[Errno 2] No such file or directory: '/Users/denes/Research/High_lat_HI/ATCA_data/data_cubes_4k/Norma/j170303-5853_cube_4k.fits'\n",
      "[Errno 2] No such file or directory: '/Users/denes/Research/High_lat_HI/ATCA_data/data_cubes_4k/Norma/j161440-6058_cube_4k.fits'\n",
      "[Errno 2] No such file or directory: '/Users/denes/Research/High_lat_HI/ATCA_data/data_cubes_4k/Norma/j171715-6209_cube_4k.fits'\n",
      "[Errno 2] No such file or directory: '/Users/denes/Research/High_lat_HI/ATCA_data/data_cubes_4k/Norma/j165023-5742_cube_4k.fits'\n",
      "[Errno 2] No such file or directory: '/Users/denes/Research/High_lat_HI/ATCA_data/data_cubes_4k/Norma/j162157-6009_cube_4k.fits'\n",
      "[Errno 2] No such file or directory: '/Users/denes/Research/High_lat_HI/ATCA_data/data_cubes_4k/Norma/j170753-5651_cube_4k.fits'\n",
      "[Errno 2] No such file or directory: '/Users/denes/Research/High_lat_HI/ATCA_data/data_cubes_4k/Norma/j164333-5908_cube_4k.fits'\n",
      "[Errno 2] No such file or directory: '/Users/denes/Research/High_lat_HI/ATCA_data/data_cubes_4k/Norma/j163407-6137_cube_4k.fits'\n",
      "[Errno 2] No such file or directory: '/Users/denes/Research/High_lat_HI/ATCA_data/data_cubes_4k/Norma/j161602-5823_cube_4k.fits'\n",
      "[Errno 2] No such file or directory: '/Users/denes/Research/High_lat_HI/ATCA_data/data_cubes_4k/Norma/j164932-6223_cube_4k.fits'\n",
      "[Errno 2] No such file or directory: '/Users/denes/Research/High_lat_HI/ATCA_data/data_cubes_4k/Norma/j171701-5702_cube_4k.fits'\n",
      "[Errno 2] No such file or directory: '/Users/denes/Research/High_lat_HI/ATCA_data/data_cubes_4k/Norma/j170026-5918_cube_4k.fits'\n",
      "[Errno 2] No such file or directory: '/Users/denes/Research/High_lat_HI/ATCA_data/data_cubes_4k/Norma/j170647-6036_cube_4k.fits'\n",
      "[Errno 2] No such file or directory: '/Users/denes/Research/High_lat_HI/ATCA_data/data_cubes_4k/Norma/j161742-5914_cube_4k.fits'\n",
      "[Errno 2] No such file or directory: '/Users/denes/Research/High_lat_HI/ATCA_data/data_cubes_4k/Norma/j161254-5916_cube_4k.fits'\n",
      "[Errno 2] No such file or directory: '/Users/denes/Research/High_lat_HI/ATCA_data/data_cubes_4k/Norma/j161422-6058_cube_4k.fits'\n",
      "[Errno 2] No such file or directory: '/Users/denes/Research/High_lat_HI/ATCA_data/data_cubes_4k/Norma/j164929-5944_cube_4k.fits'\n",
      "[Errno 2] No such file or directory: '/Users/denes/Research/High_lat_HI/ATCA_data/data_cubes_4k/Norma/j163056-5801_cube_4k.fits'\n"
     ]
    },
    {
     "name": "stderr",
     "output_type": "stream",
     "text": [
      "WARNING: VerifyWarning: Invalid 'BLANK' keyword in header.  The 'BLANK' keyword is only applicable to integer data, and will be ignored in this HDU. [astropy.io.fits.hdu.image]\n",
      "WARNING: StokesWarning: Cube is a Stokes cube, returning spectral cube for I component [spectral_cube.io.core]\n",
      "WARNING: VerifyWarning: Invalid 'BLANK' keyword in header.  The 'BLANK' keyword is only applicable to integer data, and will be ignored in this HDU. [astropy.io.fits.hdu.image]\n"
     ]
    },
    {
     "name": "stdout",
     "output_type": "stream",
     "text": [
      "0.09083021830340018\n",
      "Can only apply 'subtract' function to dimensionless quantities when other argument is not a quantity (unless the latter is all zero/infinity/nan)\n",
      "[Errno 2] No such file or directory: '/Users/denes/Research/High_lat_HI/ATCA_data/data_cubes_4k/Norma/j170320-6053_cube_4k.fits'\n",
      "[Errno 2] No such file or directory: '/Users/denes/Research/High_lat_HI/ATCA_data/data_cubes_4k/Norma/j162049-5823_cube_4k.fits'\n",
      "[Errno 2] No such file or directory: '/Users/denes/Research/High_lat_HI/ATCA_data/data_cubes_4k/Norma/j160352-5653_cube_4k.fits'\n",
      "[Errno 2] No such file or directory: '/Users/denes/Research/High_lat_HI/ATCA_data/data_cubes_4k/Norma/j170421-6012_cube_4k.fits'\n",
      "[Errno 2] No such file or directory: '/Users/denes/Research/High_lat_HI/ATCA_data/data_cubes_4k/Norma/j155339-5857_cube_4k.fits'\n",
      "[Errno 2] No such file or directory: '/Users/denes/Research/High_lat_HI/ATCA_data/data_cubes_4k/Norma/j171717-6042_cube_4k.fits'\n",
      "[Errno 2] No such file or directory: '/Users/denes/Research/High_lat_HI/ATCA_data/data_cubes_4k/Norma/j162543-5945_cube_4k.fits'\n",
      "[Errno 2] No such file or directory: '/Users/denes/Research/High_lat_HI/ATCA_data/data_cubes_4k/Norma/j155928-5849_cube_4k.fits'\n",
      "[Errno 2] No such file or directory: '/Users/denes/Research/High_lat_HI/ATCA_data/data_cubes_4k/Norma/j171626-6057_cube_4k.fits'\n",
      "[Errno 2] No such file or directory: '/Users/denes/Research/High_lat_HI/ATCA_data/data_cubes_4k/Norma/j161514-6054_cube_4k.fits'\n",
      "[Errno 2] No such file or directory: '/Users/denes/Research/High_lat_HI/ATCA_data/data_cubes_4k/Norma/j164445-6135_cube_4k.fits'\n",
      "[Errno 2] No such file or directory: '/Users/denes/Research/High_lat_HI/ATCA_data/data_cubes_4k/Norma/j155939-6011_cube_4k.fits'\n",
      "[Errno 2] No such file or directory: '/Users/denes/Research/High_lat_HI/ATCA_data/data_cubes_4k/Norma/j163857-5951_cube_4k.fits'\n",
      "[Errno 2] No such file or directory: '/Users/denes/Research/High_lat_HI/ATCA_data/data_cubes_4k/Norma/j163920-5922_cube_4k.fits'\n",
      "[Errno 2] No such file or directory: '/Users/denes/Research/High_lat_HI/ATCA_data/data_cubes_4k/Norma/j163711-5857_cube_4k.fits'\n",
      "[Errno 2] No such file or directory: '/Users/denes/Research/High_lat_HI/ATCA_data/data_cubes_4k/Norma/j171838-5815_cube_4k.fits'\n",
      "[Errno 2] No such file or directory: '/Users/denes/Research/High_lat_HI/ATCA_data/data_cubes_4k/Norma/j170733-5934_cube_4k.fits'\n",
      "[Errno 2] No such file or directory: '/Users/denes/Research/High_lat_HI/ATCA_data/data_cubes_4k/Norma/j161942-5902_cube_4k.fits'\n",
      "[Errno 2] No such file or directory: '/Users/denes/Research/High_lat_HI/ATCA_data/data_cubes_4k/Norma/j163852-5712_cube_4k.fits'\n",
      "[Errno 2] No such file or directory: '/Users/denes/Research/High_lat_HI/ATCA_data/data_cubes_4k/Norma/j163807-5959_cube_4k.fits'\n",
      "[Errno 2] No such file or directory: '/Users/denes/Research/High_lat_HI/ATCA_data/data_cubes_4k/Norma/j163203-6000_cube_4k.fits'\n",
      "[Errno 2] No such file or directory: '/Users/denes/Research/High_lat_HI/ATCA_data/data_cubes_4k/Norma/j163126-5835_cube_4k.fits'\n",
      "[Errno 2] No such file or directory: '/Users/denes/Research/High_lat_HI/ATCA_data/data_cubes_4k/Norma/j163959-6037_cube_4k.fits'\n"
     ]
    },
    {
     "name": "stderr",
     "output_type": "stream",
     "text": [
      "WARNING: VerifyWarning: Invalid 'BLANK' keyword in header.  The 'BLANK' keyword is only applicable to integer data, and will be ignored in this HDU. [astropy.io.fits.hdu.image]\n",
      "WARNING: StokesWarning: Cube is a Stokes cube, returning spectral cube for I component [spectral_cube.io.core]\n",
      "WARNING: VerifyWarning: Invalid 'BLANK' keyword in header.  The 'BLANK' keyword is only applicable to integer data, and will be ignored in this HDU. [astropy.io.fits.hdu.image]\n"
     ]
    },
    {
     "name": "stdout",
     "output_type": "stream",
     "text": [
      "0.1225952956038696\n",
      "Can only apply 'subtract' function to dimensionless quantities when other argument is not a quantity (unless the latter is all zero/infinity/nan)\n",
      "[Errno 2] No such file or directory: '/Users/denes/Research/High_lat_HI/ATCA_data/data_cubes_4k/Norma/j161855-5910_cube_4k.fits'\n",
      "[Errno 2] No such file or directory: '/Users/denes/Research/High_lat_HI/ATCA_data/data_cubes_4k/Norma/j163250-6009_cube_4k.fits'\n",
      "[Errno 2] No such file or directory: '/Users/denes/Research/High_lat_HI/ATCA_data/data_cubes_4k/Norma/j165405-5931_cube_4k.fits'\n",
      "[Errno 2] No such file or directory: '/Users/denes/Research/High_lat_HI/ATCA_data/data_cubes_4k/Norma/j171512-6207_cube_4k.fits'\n",
      "[Errno 2] No such file or directory: '/Users/denes/Research/High_lat_HI/ATCA_data/data_cubes_4k/Norma/j163126-5835_cube_4k.fits'\n",
      "[Errno 2] No such file or directory: '/Users/denes/Research/High_lat_HI/ATCA_data/data_cubes_4k/Norma/j164909-5730_cube_4k.fits'\n",
      "[Errno 2] No such file or directory: '/Users/denes/Research/High_lat_HI/ATCA_data/data_cubes_4k/Norma/j171116-6141_cube_4k.fits'\n",
      "[Errno 2] No such file or directory: '/Users/denes/Research/High_lat_HI/ATCA_data/data_cubes_4k/Norma/j162630-5800_cube_4k.fits'\n",
      "[Errno 2] No such file or directory: '/Users/denes/Research/High_lat_HI/ATCA_data/data_cubes_4k/Norma/j171026-5908_cube_4k.fits'\n",
      "[Errno 2] No such file or directory: '/Users/denes/Research/High_lat_HI/ATCA_data/data_cubes_4k/Norma/j163126-5835_cube_4k.fits'\n",
      "[Errno 2] No such file or directory: '/Users/denes/Research/High_lat_HI/ATCA_data/data_cubes_4k/Norma/j172121-6201_cube_4k.fits'\n",
      "[Errno 2] No such file or directory: '/Users/denes/Research/High_lat_HI/ATCA_data/data_cubes_4k/Norma/j165756-6038_cube_4k.fits'\n",
      "[Errno 2] No such file or directory: '/Users/denes/Research/High_lat_HI/ATCA_data/data_cubes_4k/Norma/j160924-5820_cube_4k.fits'\n",
      "[Errno 2] No such file or directory: '/Users/denes/Research/High_lat_HI/ATCA_data/data_cubes_4k/Norma/j165756-6038_cube_4k.fits'\n",
      "[Errno 2] No such file or directory: '/Users/denes/Research/High_lat_HI/ATCA_data/data_cubes_4k/Norma/j162409-5819_cube_4k.fits'\n",
      "[Errno 2] No such file or directory: '/Users/denes/Research/High_lat_HI/ATCA_data/data_cubes_4k/Norma/j161851-5722_cube_4k.fits'\n",
      "[Errno 2] No such file or directory: '/Users/denes/Research/High_lat_HI/ATCA_data/data_cubes_4k/Norma/j165715-5653_cube_4k.fits'\n",
      "[Errno 2] No such file or directory: '/Users/denes/Research/High_lat_HI/ATCA_data/data_cubes_4k/Norma/j163852-5712_cube_4k.fits'\n"
     ]
    },
    {
     "name": "stderr",
     "output_type": "stream",
     "text": [
      "WARNING: VerifyWarning: Invalid 'BLANK' keyword in header.  The 'BLANK' keyword is only applicable to integer data, and will be ignored in this HDU. [astropy.io.fits.hdu.image]\n",
      "WARNING: StokesWarning: Cube is a Stokes cube, returning spectral cube for I component [spectral_cube.io.core]\n",
      "WARNING: VerifyWarning: Invalid 'BLANK' keyword in header.  The 'BLANK' keyword is only applicable to integer data, and will be ignored in this HDU. [astropy.io.fits.hdu.image]\n"
     ]
    },
    {
     "name": "stdout",
     "output_type": "stream",
     "text": [
      "0.06608863640182686\n",
      "Can only apply 'subtract' function to dimensionless quantities when other argument is not a quantity (unless the latter is all zero/infinity/nan)\n",
      "[Errno 2] No such file or directory: '/Users/denes/Research/High_lat_HI/ATCA_data/data_cubes_4k/Norma/j161721-5847_cube_4k.fits'\n",
      "[Errno 2] No such file or directory: '/Users/denes/Research/High_lat_HI/ATCA_data/data_cubes_4k/Norma/j171436-5930_cube_4k.fits'\n",
      "[Errno 2] No such file or directory: '/Users/denes/Research/High_lat_HI/ATCA_data/data_cubes_4k/Norma/j172149-5828_cube_4k.fits'\n",
      "[Errno 2] No such file or directory: '/Users/denes/Research/High_lat_HI/ATCA_data/data_cubes_4k/Norma/j160532-6132_cube_4k.fits'\n",
      "[Errno 2] No such file or directory: '/Users/denes/Research/High_lat_HI/ATCA_data/data_cubes_4k/Norma/j161905-5923_cube_4k.fits'\n"
     ]
    },
    {
     "name": "stderr",
     "output_type": "stream",
     "text": [
      "WARNING: VerifyWarning: Invalid 'BLANK' keyword in header.  The 'BLANK' keyword is only applicable to integer data, and will be ignored in this HDU. [astropy.io.fits.hdu.image]\n",
      "WARNING: StokesWarning: Cube is a Stokes cube, returning spectral cube for I component [spectral_cube.io.core]\n",
      "WARNING: VerifyWarning: Invalid 'BLANK' keyword in header.  The 'BLANK' keyword is only applicable to integer data, and will be ignored in this HDU. [astropy.io.fits.hdu.image]\n"
     ]
    },
    {
     "name": "stdout",
     "output_type": "stream",
     "text": [
      "0.103037432315838\n",
      "Can only apply 'subtract' function to dimensionless quantities when other argument is not a quantity (unless the latter is all zero/infinity/nan)\n",
      "[Errno 2] No such file or directory: '/Users/denes/Research/High_lat_HI/ATCA_data/data_cubes_4k/Norma/j170418-5700_cube_4k.fits'\n"
     ]
    },
    {
     "name": "stderr",
     "output_type": "stream",
     "text": [
      "WARNING: VerifyWarning: Invalid 'BLANK' keyword in header.  The 'BLANK' keyword is only applicable to integer data, and will be ignored in this HDU. [astropy.io.fits.hdu.image]\n",
      "WARNING: StokesWarning: Cube is a Stokes cube, returning spectral cube for I component [spectral_cube.io.core]\n",
      "WARNING: VerifyWarning: Invalid 'BLANK' keyword in header.  The 'BLANK' keyword is only applicable to integer data, and will be ignored in this HDU. [astropy.io.fits.hdu.image]\n",
      "WARNING: VerifyWarning: Invalid 'BLANK' keyword in header.  The 'BLANK' keyword is only applicable to integer data, and will be ignored in this HDU. [astropy.io.fits.hdu.image]\n"
     ]
    },
    {
     "name": "stdout",
     "output_type": "stream",
     "text": [
      "0.05592617308572607\n",
      "Can only apply 'subtract' function to dimensionless quantities when other argument is not a quantity (unless the latter is all zero/infinity/nan)\n",
      "[Errno 2] No such file or directory: '/Users/denes/Research/High_lat_HI/ATCA_data/data_cubes_4k/Norma/j161804-5721_cube_4k.fits'\n"
     ]
    },
    {
     "name": "stderr",
     "output_type": "stream",
     "text": [
      "WARNING: StokesWarning: Cube is a Stokes cube, returning spectral cube for I component [spectral_cube.io.core]\n",
      "WARNING: VerifyWarning: Invalid 'BLANK' keyword in header.  The 'BLANK' keyword is only applicable to integer data, and will be ignored in this HDU. [astropy.io.fits.hdu.image]\n",
      "WARNING: VerifyWarning: Invalid 'BLANK' keyword in header.  The 'BLANK' keyword is only applicable to integer data, and will be ignored in this HDU. [astropy.io.fits.hdu.image]\n"
     ]
    },
    {
     "name": "stdout",
     "output_type": "stream",
     "text": [
      "0.07911305431111358\n",
      "Can only apply 'subtract' function to dimensionless quantities when other argument is not a quantity (unless the latter is all zero/infinity/nan)\n",
      "[Errno 2] No such file or directory: '/Users/denes/Research/High_lat_HI/ATCA_data/data_cubes_4k/Norma/j162547-5838_cube_4k.fits'\n",
      "[Errno 2] No such file or directory: '/Users/denes/Research/High_lat_HI/ATCA_data/data_cubes_4k/Norma/j171353-6233_cube_4k.fits'\n",
      "[Errno 2] No such file or directory: '/Users/denes/Research/High_lat_HI/ATCA_data/data_cubes_4k/Norma/j155508-6038_cube_4k.fits'\n",
      "[Errno 2] No such file or directory: '/Users/denes/Research/High_lat_HI/ATCA_data/data_cubes_4k/Norma/j163250-6009_cube_4k.fits'\n",
      "[Errno 2] No such file or directory: '/Users/denes/Research/High_lat_HI/ATCA_data/data_cubes_4k/Norma/j164556-5824_cube_4k.fits'\n",
      "[Errno 2] No such file or directory: '/Users/denes/Research/High_lat_HI/ATCA_data/data_cubes_4k/Norma/j165541-5931_cube_4k.fits'\n",
      "[Errno 2] No such file or directory: '/Users/denes/Research/High_lat_HI/ATCA_data/data_cubes_4k/Norma/j155643-6227_cube_4k.fits'\n",
      "[Errno 2] No such file or directory: '/Users/denes/Research/High_lat_HI/ATCA_data/data_cubes_4k/Norma/j161851-5722_cube_4k.fits'\n"
     ]
    },
    {
     "name": "stderr",
     "output_type": "stream",
     "text": [
      "WARNING: StokesWarning: Cube is a Stokes cube, returning spectral cube for I component [spectral_cube.io.core]\n",
      "WARNING: VerifyWarning: Invalid 'BLANK' keyword in header.  The 'BLANK' keyword is only applicable to integer data, and will be ignored in this HDU. [astropy.io.fits.hdu.image]\n"
     ]
    },
    {
     "name": "stdout",
     "output_type": "stream",
     "text": [
      "0.0786364255165721\n",
      "Can only apply 'subtract' function to dimensionless quantities when other argument is not a quantity (unless the latter is all zero/infinity/nan)\n",
      "[Errno 2] No such file or directory: '/Users/denes/Research/High_lat_HI/ATCA_data/data_cubes_4k/Norma/j170320-6053_cube_4k.fits'\n",
      "[Errno 2] No such file or directory: '/Users/denes/Research/High_lat_HI/ATCA_data/data_cubes_4k/Norma/j170710-5935_cube_4k.fits'\n",
      "[Errno 2] No such file or directory: '/Users/denes/Research/High_lat_HI/ATCA_data/data_cubes_4k/Norma/j171638-6109_cube_4k.fits'\n",
      "[Errno 2] No such file or directory: '/Users/denes/Research/High_lat_HI/ATCA_data/data_cubes_4k/Norma/j162543-5945_cube_4k.fits'\n",
      "[Errno 2] No such file or directory: '/Users/denes/Research/High_lat_HI/ATCA_data/data_cubes_4k/Norma/j171438-5702_cube_4k.fits'\n",
      "[Errno 2] No such file or directory: '/Users/denes/Research/High_lat_HI/ATCA_data/data_cubes_4k/Norma/j155858-6144_cube_4k.fits'\n",
      "[Errno 2] No such file or directory: '/Users/denes/Research/High_lat_HI/ATCA_data/data_cubes_4k/Norma/j171230-5722_cube_4k.fits'\n",
      "[Errno 2] No such file or directory: '/Users/denes/Research/High_lat_HI/ATCA_data/data_cubes_4k/Norma/j171054-5859_cube_4k.fits'\n",
      "[Errno 2] No such file or directory: '/Users/denes/Research/High_lat_HI/ATCA_data/data_cubes_4k/Norma/j162416-6247_cube_4k.fits'\n",
      "[Errno 2] No such file or directory: '/Users/denes/Research/High_lat_HI/ATCA_data/data_cubes_4k/Norma/j170236-5653_cube_4k.fits'\n",
      "[Errno 2] No such file or directory: '/Users/denes/Research/High_lat_HI/ATCA_data/data_cubes_4k/Norma/j172057-6009_cube_4k.fits'\n",
      "[Errno 2] No such file or directory: '/Users/denes/Research/High_lat_HI/ATCA_data/data_cubes_4k/Norma/j172152-6208_cube_4k.fits'\n"
     ]
    },
    {
     "name": "stderr",
     "output_type": "stream",
     "text": [
      "WARNING: VerifyWarning: Invalid 'BLANK' keyword in header.  The 'BLANK' keyword is only applicable to integer data, and will be ignored in this HDU. [astropy.io.fits.hdu.image]\n",
      "WARNING: StokesWarning: Cube is a Stokes cube, returning spectral cube for I component [spectral_cube.io.core]\n",
      "WARNING: VerifyWarning: Invalid 'BLANK' keyword in header.  The 'BLANK' keyword is only applicable to integer data, and will be ignored in this HDU. [astropy.io.fits.hdu.image]\n"
     ]
    },
    {
     "name": "stdout",
     "output_type": "stream",
     "text": [
      "0.07622165264311508\n",
      "Can only apply 'subtract' function to dimensionless quantities when other argument is not a quantity (unless the latter is all zero/infinity/nan)\n",
      "[Errno 2] No such file or directory: '/Users/denes/Research/High_lat_HI/ATCA_data/data_cubes_4k/Norma/j163525-5911_cube_4k.fits'\n",
      "[Errno 2] No such file or directory: '/Users/denes/Research/High_lat_HI/ATCA_data/data_cubes_4k/Norma/j162331-5829_cube_4k.fits'\n",
      "[Errno 2] No such file or directory: '/Users/denes/Research/High_lat_HI/ATCA_data/data_cubes_4k/Norma/j163515-6228_cube_4k.fits'\n"
     ]
    },
    {
     "name": "stderr",
     "output_type": "stream",
     "text": [
      "WARNING: VerifyWarning: Invalid 'BLANK' keyword in header.  The 'BLANK' keyword is only applicable to integer data, and will be ignored in this HDU. [astropy.io.fits.hdu.image]\n",
      "WARNING: StokesWarning: Cube is a Stokes cube, returning spectral cube for I component [spectral_cube.io.core]\n",
      "WARNING: VerifyWarning: Invalid 'BLANK' keyword in header.  The 'BLANK' keyword is only applicable to integer data, and will be ignored in this HDU. [astropy.io.fits.hdu.image]\n"
     ]
    },
    {
     "name": "stdout",
     "output_type": "stream",
     "text": [
      "0.08624417754162891\n",
      "Can only apply 'subtract' function to dimensionless quantities when other argument is not a quantity (unless the latter is all zero/infinity/nan)\n",
      "[Errno 2] No such file or directory: '/Users/denes/Research/High_lat_HI/ATCA_data/data_cubes_4k/Norma/j163920-5922_cube_4k.fits'\n"
     ]
    },
    {
     "name": "stderr",
     "output_type": "stream",
     "text": [
      "WARNING: VerifyWarning: Invalid 'BLANK' keyword in header.  The 'BLANK' keyword is only applicable to integer data, and will be ignored in this HDU. [astropy.io.fits.hdu.image]\n",
      "WARNING: StokesWarning: Cube is a Stokes cube, returning spectral cube for I component [spectral_cube.io.core]\n",
      "WARNING: VerifyWarning: Invalid 'BLANK' keyword in header.  The 'BLANK' keyword is only applicable to integer data, and will be ignored in this HDU. [astropy.io.fits.hdu.image]\n"
     ]
    },
    {
     "name": "stdout",
     "output_type": "stream",
     "text": [
      "0.5326162465372808\n",
      "Can only apply 'subtract' function to dimensionless quantities when other argument is not a quantity (unless the latter is all zero/infinity/nan)\n",
      "[Errno 2] No such file or directory: '/Users/denes/Research/High_lat_HI/ATCA_data/data_cubes_4k/Norma/j161942-5902_cube_4k.fits'\n",
      "[Errno 2] No such file or directory: '/Users/denes/Research/High_lat_HI/ATCA_data/data_cubes_4k/Norma/j164801-5724_cube_4k.fits'\n",
      "[Errno 2] No such file or directory: '/Users/denes/Research/High_lat_HI/ATCA_data/data_cubes_4k/Norma/j162334-5855_cube_4k.fits'\n",
      "[Errno 2] No such file or directory: '/Users/denes/Research/High_lat_HI/ATCA_data/data_cubes_4k/Norma/j171100-6129_cube_4k.fits'\n",
      "[Errno 2] No such file or directory: '/Users/denes/Research/High_lat_HI/ATCA_data/data_cubes_4k/Norma/j170541-5930_cube_4k.fits'\n",
      "[Errno 2] No such file or directory: '/Users/denes/Research/High_lat_HI/ATCA_data/data_cubes_4k/Norma/j170805-5655_cube_4k.fits'\n",
      "[Errno 2] No such file or directory: '/Users/denes/Research/High_lat_HI/ATCA_data/data_cubes_4k/Norma/j170804-5841_cube_4k.fits'\n",
      "[Errno 2] No such file or directory: '/Users/denes/Research/High_lat_HI/ATCA_data/data_cubes_4k/Norma/j163000-5753_cube_4k.fits'\n"
     ]
    },
    {
     "name": "stderr",
     "output_type": "stream",
     "text": [
      "WARNING: VerifyWarning: Invalid 'BLANK' keyword in header.  The 'BLANK' keyword is only applicable to integer data, and will be ignored in this HDU. [astropy.io.fits.hdu.image]\n",
      "WARNING: StokesWarning: Cube is a Stokes cube, returning spectral cube for I component [spectral_cube.io.core]\n",
      "WARNING: VerifyWarning: Invalid 'BLANK' keyword in header.  The 'BLANK' keyword is only applicable to integer data, and will be ignored in this HDU. [astropy.io.fits.hdu.image]\n"
     ]
    },
    {
     "name": "stdout",
     "output_type": "stream",
     "text": [
      "0.042981139619689544\n",
      "Can only apply 'subtract' function to dimensionless quantities when other argument is not a quantity (unless the latter is all zero/infinity/nan)\n",
      "[Errno 2] No such file or directory: '/Users/denes/Research/High_lat_HI/ATCA_data/data_cubes_4k/Norma/j161905-5923_cube_4k.fits'\n",
      "[Errno 2] No such file or directory: '/Users/denes/Research/High_lat_HI/ATCA_data/data_cubes_4k/Norma/j170739-6240_cube_4k.fits'\n",
      "[Errno 2] No such file or directory: '/Users/denes/Research/High_lat_HI/ATCA_data/data_cubes_4k/Norma/j165047-6046_cube_4k.fits'\n",
      "[Errno 2] No such file or directory: '/Users/denes/Research/High_lat_HI/ATCA_data/data_cubes_4k/Norma/j164333-5908_cube_4k.fits'\n",
      "[Errno 2] No such file or directory: '/Users/denes/Research/High_lat_HI/ATCA_data/data_cubes_4k/Norma/j161722-5847_cube_4k.fits'\n"
     ]
    },
    {
     "name": "stderr",
     "output_type": "stream",
     "text": [
      "WARNING: VerifyWarning: Invalid 'BLANK' keyword in header.  The 'BLANK' keyword is only applicable to integer data, and will be ignored in this HDU. [astropy.io.fits.hdu.image]\n",
      "WARNING: StokesWarning: Cube is a Stokes cube, returning spectral cube for I component [spectral_cube.io.core]\n",
      "WARNING: VerifyWarning: Invalid 'BLANK' keyword in header.  The 'BLANK' keyword is only applicable to integer data, and will be ignored in this HDU. [astropy.io.fits.hdu.image]\n",
      "WARNING: VerifyWarning: Invalid 'BLANK' keyword in header.  The 'BLANK' keyword is only applicable to integer data, and will be ignored in this HDU. [astropy.io.fits.hdu.image]\n"
     ]
    },
    {
     "name": "stdout",
     "output_type": "stream",
     "text": [
      "0.07911305431111358\n",
      "Can only apply 'subtract' function to dimensionless quantities when other argument is not a quantity (unless the latter is all zero/infinity/nan)\n",
      "[Errno 2] No such file or directory: '/Users/denes/Research/High_lat_HI/ATCA_data/data_cubes_4k/Norma/j172246-5921_cube_4k.fits'\n"
     ]
    },
    {
     "name": "stderr",
     "output_type": "stream",
     "text": [
      "WARNING: StokesWarning: Cube is a Stokes cube, returning spectral cube for I component [spectral_cube.io.core]\n",
      "WARNING: VerifyWarning: Invalid 'BLANK' keyword in header.  The 'BLANK' keyword is only applicable to integer data, and will be ignored in this HDU. [astropy.io.fits.hdu.image]\n"
     ]
    },
    {
     "name": "stdout",
     "output_type": "stream",
     "text": [
      "0.18008479394887758\n",
      "Can only apply 'subtract' function to dimensionless quantities when other argument is not a quantity (unless the latter is all zero/infinity/nan)\n",
      "[Errno 2] No such file or directory: '/Users/denes/Research/High_lat_HI/ATCA_data/data_cubes_4k/Norma/j170805-5655_cube_4k.fits'\n",
      "[Errno 2] No such file or directory: '/Users/denes/Research/High_lat_HI/ATCA_data/data_cubes_4k/Norma/j161631-5854_cube_4k.fits'\n",
      "[Errno 2] No such file or directory: '/Users/denes/Research/High_lat_HI/ATCA_data/data_cubes_4k/Norma/j162330-5829_cube_4k.fits'\n",
      "[Errno 2] No such file or directory: '/Users/denes/Research/High_lat_HI/ATCA_data/data_cubes_4k/Norma/j161714-5848_cube_4k.fits'\n",
      "[Errno 2] No such file or directory: '/Users/denes/Research/High_lat_HI/ATCA_data/data_cubes_4k/Norma/j162500-5818_cube_4k.fits'\n",
      "[Errno 2] No such file or directory: '/Users/denes/Research/High_lat_HI/ATCA_data/data_cubes_4k/Norma/j161243-5737_cube_4k.fits'\n",
      "[Errno 2] No such file or directory: '/Users/denes/Research/High_lat_HI/ATCA_data/data_cubes_4k/Norma/j161445-5719_cube_4k.fits'\n",
      "[Errno 2] No such file or directory: '/Users/denes/Research/High_lat_HI/ATCA_data/data_cubes_4k/Norma/j162346-5645_cube_4k.fits'\n",
      "[Errno 2] No such file or directory: '/Users/denes/Research/High_lat_HI/ATCA_data/data_cubes_4k/Norma/j160447-5703_cube_4k.fits'\n",
      "[Errno 2] No such file or directory: '/Users/denes/Research/High_lat_HI/ATCA_data/data_cubes_4k/Norma/j163056-5801_cube_4k.fits'\n",
      "[Errno 2] No such file or directory: '/Users/denes/Research/High_lat_HI/ATCA_data/data_cubes_4k/Norma/j163411-5928_cube_4k.fits'\n",
      "[Errno 2] No such file or directory: '/Users/denes/Research/High_lat_HI/ATCA_data/data_cubes_4k/Norma/j155344-6015_cube_4k.fits'\n",
      "[Errno 2] No such file or directory: '/Users/denes/Research/High_lat_HI/ATCA_data/data_cubes_4k/Norma/j161855-5910_cube_4k.fits'\n",
      "[Errno 2] No such file or directory: '/Users/denes/Research/High_lat_HI/ATCA_data/data_cubes_4k/Norma/j171455-6223_cube_4k.fits'\n",
      "[Errno 2] No such file or directory: '/Users/denes/Research/High_lat_HI/ATCA_data/data_cubes_4k/Norma/j160937-5953_cube_4k.fits'\n",
      "[Errno 2] No such file or directory: '/Users/denes/Research/High_lat_HI/ATCA_data/data_cubes_4k/Norma/j161243-5736_cube_4k.fits'\n"
     ]
    },
    {
     "name": "stderr",
     "output_type": "stream",
     "text": [
      "WARNING: VerifyWarning: Invalid 'BLANK' keyword in header.  The 'BLANK' keyword is only applicable to integer data, and will be ignored in this HDU. [astropy.io.fits.hdu.image]\n",
      "WARNING: StokesWarning: Cube is a Stokes cube, returning spectral cube for I component [spectral_cube.io.core]\n",
      "WARNING: VerifyWarning: Invalid 'BLANK' keyword in header.  The 'BLANK' keyword is only applicable to integer data, and will be ignored in this HDU. [astropy.io.fits.hdu.image]\n"
     ]
    },
    {
     "name": "stdout",
     "output_type": "stream",
     "text": [
      "0.07911305431111358\n",
      "Can only apply 'subtract' function to dimensionless quantities when other argument is not a quantity (unless the latter is all zero/infinity/nan)\n",
      "[Errno 2] No such file or directory: '/Users/denes/Research/High_lat_HI/ATCA_data/data_cubes_4k/Norma/j161658-5705_cube_4k.fits'\n",
      "[Errno 2] No such file or directory: '/Users/denes/Research/High_lat_HI/ATCA_data/data_cubes_4k/Norma/j172307-6109_cube_4k.fits'\n",
      "[Errno 2] No such file or directory: '/Users/denes/Research/High_lat_HI/ATCA_data/data_cubes_4k/Norma/j171641-5736_cube_4k.fits'\n",
      "[Errno 2] No such file or directory: '/Users/denes/Research/High_lat_HI/ATCA_data/data_cubes_4k/Norma/j171314-5830_cube_4k.fits'\n"
     ]
    },
    {
     "name": "stderr",
     "output_type": "stream",
     "text": [
      "WARNING: VerifyWarning: Invalid 'BLANK' keyword in header.  The 'BLANK' keyword is only applicable to integer data, and will be ignored in this HDU. [astropy.io.fits.hdu.image]\n",
      "WARNING: StokesWarning: Cube is a Stokes cube, returning spectral cube for I component [spectral_cube.io.core]\n",
      "WARNING: VerifyWarning: Invalid 'BLANK' keyword in header.  The 'BLANK' keyword is only applicable to integer data, and will be ignored in this HDU. [astropy.io.fits.hdu.image]\n"
     ]
    },
    {
     "name": "stdout",
     "output_type": "stream",
     "text": [
      "3.627099160725957\n",
      "Can only apply 'subtract' function to dimensionless quantities when other argument is not a quantity (unless the latter is all zero/infinity/nan)\n",
      "[Errno 2] No such file or directory: '/Users/denes/Research/High_lat_HI/ATCA_data/data_cubes_4k/Norma/j170058-5852_cube_4k.fits'\n"
     ]
    },
    {
     "name": "stderr",
     "output_type": "stream",
     "text": [
      "WARNING: VerifyWarning: Invalid 'BLANK' keyword in header.  The 'BLANK' keyword is only applicable to integer data, and will be ignored in this HDU. [astropy.io.fits.hdu.image]\n",
      "WARNING: StokesWarning: Cube is a Stokes cube, returning spectral cube for I component [spectral_cube.io.core]\n",
      "WARNING: VerifyWarning: Invalid 'BLANK' keyword in header.  The 'BLANK' keyword is only applicable to integer data, and will be ignored in this HDU. [astropy.io.fits.hdu.image]\n"
     ]
    },
    {
     "name": "stdout",
     "output_type": "stream",
     "text": [
      "0.17696941286790288\n",
      "Can only apply 'subtract' function to dimensionless quantities when other argument is not a quantity (unless the latter is all zero/infinity/nan)\n",
      "[Errno 2] No such file or directory: '/Users/denes/Research/High_lat_HI/ATCA_data/data_cubes_4k/Norma/j165831-6225_cube_4k.fits'\n",
      "[Errno 2] No such file or directory: '/Users/denes/Research/High_lat_HI/ATCA_data/data_cubes_4k/Norma/j161254-5916_cube_4k.fits'\n",
      "[Errno 2] No such file or directory: '/Users/denes/Research/High_lat_HI/ATCA_data/data_cubes_4k/Norma/j163843-6235_cube_4k.fits'\n",
      "[Errno 2] No such file or directory: '/Users/denes/Research/High_lat_HI/ATCA_data/data_cubes_4k/Norma/j171248-5830_cube_4k.fits'\n",
      "[Errno 2] No such file or directory: '/Users/denes/Research/High_lat_HI/ATCA_data/data_cubes_4k/Norma/j165525-5904_cube_4k.fits'\n",
      "[Errno 2] No such file or directory: '/Users/denes/Research/High_lat_HI/ATCA_data/data_cubes_4k/Norma/j155727-6024_cube_4k.fits'\n",
      "[Errno 2] No such file or directory: '/Users/denes/Research/High_lat_HI/ATCA_data/data_cubes_4k/Norma/j160012-5811_cube_4k.fits'\n",
      "[Errno 2] No such file or directory: '/Users/denes/Research/High_lat_HI/ATCA_data/data_cubes_4k/Norma/j163839-6039_cube_4k.fits'\n",
      "[Errno 2] No such file or directory: '/Users/denes/Research/High_lat_HI/ATCA_data/data_cubes_4k/Norma/j163807-5959_cube_4k.fits'\n",
      "[Errno 2] No such file or directory: '/Users/denes/Research/High_lat_HI/ATCA_data/data_cubes_4k/Norma/j161257-5736_cube_4k.fits'\n",
      "[Errno 2] No such file or directory: '/Users/denes/Research/High_lat_HI/ATCA_data/data_cubes_4k/Norma/j165813-5819_cube_4k.fits'\n",
      "[Errno 2] No such file or directory: '/Users/denes/Research/High_lat_HI/ATCA_data/data_cubes_4k/Norma/j163352-5944_cube_4k.fits'\n",
      "[Errno 2] No such file or directory: '/Users/denes/Research/High_lat_HI/ATCA_data/data_cubes_4k/Norma/j172109-5812_cube_4k.fits'\n",
      "[Errno 2] No such file or directory: '/Users/denes/Research/High_lat_HI/ATCA_data/data_cubes_4k/Norma/j165831-6225_cube_4k.fits'\n",
      "[Errno 2] No such file or directory: '/Users/denes/Research/High_lat_HI/ATCA_data/data_cubes_4k/Norma/j163752-6149_cube_4k.fits'\n",
      "[Errno 2] No such file or directory: '/Users/denes/Research/High_lat_HI/ATCA_data/data_cubes_4k/Norma/j171925-6131_cube_4k.fits'\n",
      "[Errno 2] No such file or directory: '/Users/denes/Research/High_lat_HI/ATCA_data/data_cubes_4k/Norma/j171502-6201_cube_4k.fits'\n",
      "[Errno 2] No such file or directory: '/Users/denes/Research/High_lat_HI/ATCA_data/data_cubes_4k/Norma/j155527-6136_cube_4k.fits'\n",
      "[Errno 2] No such file or directory: '/Users/denes/Research/High_lat_HI/ATCA_data/data_cubes_4k/Norma/j163852-5712_cube_4k.fits'\n",
      "[Errno 2] No such file or directory: '/Users/denes/Research/High_lat_HI/ATCA_data/data_cubes_4k/Norma/j163807-5959_cube_4k.fits'\n",
      "[Errno 2] No such file or directory: '/Users/denes/Research/High_lat_HI/ATCA_data/data_cubes_4k/Norma/j165312-6218_cube_4k.fits'\n",
      "[Errno 2] No such file or directory: '/Users/denes/Research/High_lat_HI/ATCA_data/data_cubes_4k/Norma/j165340-5709_cube_4k.fits'\n"
     ]
    },
    {
     "name": "stderr",
     "output_type": "stream",
     "text": [
      "WARNING: VerifyWarning: Invalid 'BLANK' keyword in header.  The 'BLANK' keyword is only applicable to integer data, and will be ignored in this HDU. [astropy.io.fits.hdu.image]\n",
      "WARNING: StokesWarning: Cube is a Stokes cube, returning spectral cube for I component [spectral_cube.io.core]\n",
      "WARNING: VerifyWarning: Invalid 'BLANK' keyword in header.  The 'BLANK' keyword is only applicable to integer data, and will be ignored in this HDU. [astropy.io.fits.hdu.image]\n"
     ]
    },
    {
     "name": "stdout",
     "output_type": "stream",
     "text": [
      "3.627099160725957\n",
      "Can only apply 'subtract' function to dimensionless quantities when other argument is not a quantity (unless the latter is all zero/infinity/nan)\n",
      "[Errno 2] No such file or directory: '/Users/denes/Research/High_lat_HI/ATCA_data/data_cubes_4k/Norma/j162157-6009_cube_4k.fits'\n",
      "[Errno 2] No such file or directory: '/Users/denes/Research/High_lat_HI/ATCA_data/data_cubes_4k/Norma/j171210-6230_cube_4k.fits'\n",
      "[Errno 2] No such file or directory: '/Users/denes/Research/High_lat_HI/ATCA_data/data_cubes_4k/Norma/j161533-6039_cube_4k.fits'\n",
      "[Errno 2] No such file or directory: '/Users/denes/Research/High_lat_HI/ATCA_data/data_cubes_4k/Norma/j170821-6136_cube_4k.fits'\n",
      "[Errno 2] No such file or directory: '/Users/denes/Research/High_lat_HI/ATCA_data/data_cubes_4k/Norma/j165640-6010_cube_4k.fits'\n",
      "[Errno 2] No such file or directory: '/Users/denes/Research/High_lat_HI/ATCA_data/data_cubes_4k/Norma/j161456-5905_cube_4k.fits'\n"
     ]
    },
    {
     "name": "stderr",
     "output_type": "stream",
     "text": [
      "WARNING: VerifyWarning: Invalid 'BLANK' keyword in header.  The 'BLANK' keyword is only applicable to integer data, and will be ignored in this HDU. [astropy.io.fits.hdu.image]\n",
      "WARNING: StokesWarning: Cube is a Stokes cube, returning spectral cube for I component [spectral_cube.io.core]\n",
      "WARNING: VerifyWarning: Invalid 'BLANK' keyword in header.  The 'BLANK' keyword is only applicable to integer data, and will be ignored in this HDU. [astropy.io.fits.hdu.image]\n",
      "WARNING: VerifyWarning: Invalid 'BLANK' keyword in header.  The 'BLANK' keyword is only applicable to integer data, and will be ignored in this HDU. [astropy.io.fits.hdu.image]\n"
     ]
    },
    {
     "name": "stdout",
     "output_type": "stream",
     "text": [
      "0.07911305431111358\n",
      "Can only apply 'subtract' function to dimensionless quantities when other argument is not a quantity (unless the latter is all zero/infinity/nan)\n",
      "[Errno 2] No such file or directory: '/Users/denes/Research/High_lat_HI/ATCA_data/data_cubes_4k/Norma/j170401-5659_cube_4k.fits'\n",
      "[Errno 2] No such file or directory: '/Users/denes/Research/High_lat_HI/ATCA_data/data_cubes_4k/Norma/j163718-5731_cube_4k.fits'\n",
      "[Errno 2] No such file or directory: '/Users/denes/Research/High_lat_HI/ATCA_data/data_cubes_4k/Norma/j163212-5645_cube_4k.fits'\n"
     ]
    },
    {
     "name": "stderr",
     "output_type": "stream",
     "text": [
      "WARNING: StokesWarning: Cube is a Stokes cube, returning spectral cube for I component [spectral_cube.io.core]\n",
      "WARNING: VerifyWarning: Invalid 'BLANK' keyword in header.  The 'BLANK' keyword is only applicable to integer data, and will be ignored in this HDU. [astropy.io.fits.hdu.image]\n"
     ]
    },
    {
     "name": "stdout",
     "output_type": "stream",
     "text": [
      "0.08130925298899128\n",
      "Can only apply 'subtract' function to dimensionless quantities when other argument is not a quantity (unless the latter is all zero/infinity/nan)\n",
      "[Errno 2] No such file or directory: '/Users/denes/Research/High_lat_HI/ATCA_data/data_cubes_4k/Norma/j170653-6227_cube_4k.fits'\n",
      "[Errno 2] No such file or directory: '/Users/denes/Research/High_lat_HI/ATCA_data/data_cubes_4k/Norma/j171638-6109_cube_4k.fits'\n",
      "[Errno 2] No such file or directory: '/Users/denes/Research/High_lat_HI/ATCA_data/data_cubes_4k/Norma/j162543-5841_cube_4k.fits'\n",
      "[Errno 2] No such file or directory: '/Users/denes/Research/High_lat_HI/ATCA_data/data_cubes_4k/Norma/j165519-5657_cube_4k.fits'\n",
      "[Errno 2] No such file or directory: '/Users/denes/Research/High_lat_HI/ATCA_data/data_cubes_4k/Norma/j160709-5927_cube_4k.fits'\n",
      "[Errno 2] No such file or directory: '/Users/denes/Research/High_lat_HI/ATCA_data/data_cubes_4k/Norma/j163828-5915_cube_4k.fits'\n",
      "[Errno 2] No such file or directory: '/Users/denes/Research/High_lat_HI/ATCA_data/data_cubes_4k/Norma/j170941-5658_cube_4k.fits'\n",
      "[Errno 2] No such file or directory: '/Users/denes/Research/High_lat_HI/ATCA_data/data_cubes_4k/Norma/j172114-5812_cube_4k.fits'\n",
      "[Errno 2] No such file or directory: '/Users/denes/Research/High_lat_HI/ATCA_data/data_cubes_4k/Norma/j165826-5708_cube_4k.fits'\n",
      "[Errno 2] No such file or directory: '/Users/denes/Research/High_lat_HI/ATCA_data/data_cubes_4k/Norma/j161631-5854_cube_4k.fits'\n",
      "[Errno 2] No such file or directory: '/Users/denes/Research/High_lat_HI/ATCA_data/data_cubes_4k/Norma/j161656-5651_cube_4k.fits'\n",
      "[Errno 2] No such file or directory: '/Users/denes/Research/High_lat_HI/ATCA_data/data_cubes_4k/Norma/j161415-5948_cube_4k.fits'\n",
      "[Errno 2] No such file or directory: '/Users/denes/Research/High_lat_HI/ATCA_data/data_cubes_4k/Norma/j164659-5754_cube_4k.fits'\n"
     ]
    },
    {
     "name": "stderr",
     "output_type": "stream",
     "text": [
      "WARNING: VerifyWarning: Invalid 'BLANK' keyword in header.  The 'BLANK' keyword is only applicable to integer data, and will be ignored in this HDU. [astropy.io.fits.hdu.image]\n",
      "WARNING: StokesWarning: Cube is a Stokes cube, returning spectral cube for I component [spectral_cube.io.core]\n",
      "WARNING: VerifyWarning: Invalid 'BLANK' keyword in header.  The 'BLANK' keyword is only applicable to integer data, and will be ignored in this HDU. [astropy.io.fits.hdu.image]\n"
     ]
    },
    {
     "name": "stdout",
     "output_type": "stream",
     "text": [
      "0.06608863640182686\n",
      "Can only apply 'subtract' function to dimensionless quantities when other argument is not a quantity (unless the latter is all zero/infinity/nan)\n",
      "[Errno 2] No such file or directory: '/Users/denes/Research/High_lat_HI/ATCA_data/data_cubes_4k/Norma/j171715-5908_cube_4k.fits'\n",
      "[Errno 2] No such file or directory: '/Users/denes/Research/High_lat_HI/ATCA_data/data_cubes_4k/Norma/j163828-5915_cube_4k.fits'\n",
      "[Errno 2] No such file or directory: '/Users/denes/Research/High_lat_HI/ATCA_data/data_cubes_4k/Norma/j160727-6034_cube_4k.fits'\n",
      "[Errno 2] No such file or directory: '/Users/denes/Research/High_lat_HI/ATCA_data/data_cubes_4k/Norma/j160533-5752_cube_4k.fits'\n",
      "[Errno 2] No such file or directory: '/Users/denes/Research/High_lat_HI/ATCA_data/data_cubes_4k/Norma/j161442-6048_cube_4k.fits'\n",
      "[Errno 2] No such file or directory: '/Users/denes/Research/High_lat_HI/ATCA_data/data_cubes_4k/Norma/j161646-5908_cube_4k.fits'\n",
      "[Errno 2] No such file or directory: '/Users/denes/Research/High_lat_HI/ATCA_data/data_cubes_4k/Norma/j161144-6012_cube_4k.fits'\n",
      "[Errno 2] No such file or directory: '/Users/denes/Research/High_lat_HI/ATCA_data/data_cubes_4k/Norma/j170034-5705_cube_4k.fits'\n",
      "[Errno 2] No such file or directory: '/Users/denes/Research/High_lat_HI/ATCA_data/data_cubes_4k/Norma/j170611-5703_cube_4k.fits'\n",
      "[Errno 2] No such file or directory: '/Users/denes/Research/High_lat_HI/ATCA_data/data_cubes_4k/Norma/j163831-6120_cube_4k.fits'\n",
      "[Errno 2] No such file or directory: '/Users/denes/Research/High_lat_HI/ATCA_data/data_cubes_4k/Norma/j172117-5809_cube_4k.fits'\n",
      "[Errno 2] No such file or directory: '/Users/denes/Research/High_lat_HI/ATCA_data/data_cubes_4k/Norma/j162151-6045_cube_4k.fits'\n",
      "[Errno 2] No such file or directory: '/Users/denes/Research/High_lat_HI/ATCA_data/data_cubes_4k/Norma/j170710-5935_cube_4k.fits'\n",
      "[Errno 2] No such file or directory: '/Users/denes/Research/High_lat_HI/ATCA_data/data_cubes_4k/Norma/j162330-5829_cube_4k.fits'\n",
      "[Errno 2] No such file or directory: '/Users/denes/Research/High_lat_HI/ATCA_data/data_cubes_4k/Norma/j164016-5947_cube_4k.fits'\n",
      "[Errno 2] No such file or directory: '/Users/denes/Research/High_lat_HI/ATCA_data/data_cubes_4k/Norma/j165715-5653_cube_4k.fits'\n",
      "[Errno 2] No such file or directory: '/Users/denes/Research/High_lat_HI/ATCA_data/data_cubes_4k/Norma/j170541-5930_cube_4k.fits'\n",
      "[Errno 2] No such file or directory: '/Users/denes/Research/High_lat_HI/ATCA_data/data_cubes_4k/Norma/j155554-6124_cube_4k.fits'\n",
      "[Errno 2] No such file or directory: '/Users/denes/Research/High_lat_HI/ATCA_data/data_cubes_4k/Norma/j155452-6015_cube_4k.fits'\n",
      "[Errno 2] No such file or directory: '/Users/denes/Research/High_lat_HI/ATCA_data/data_cubes_4k/Norma/j160727-6034_cube_4k.fits'\n",
      "[Errno 2] No such file or directory: '/Users/denes/Research/High_lat_HI/ATCA_data/data_cubes_4k/Norma/j162627-5800_cube_4k.fits'\n",
      "[Errno 2] No such file or directory: '/Users/denes/Research/High_lat_HI/ATCA_data/data_cubes_4k/Norma/j160735-5901_cube_4k.fits'\n",
      "[Errno 2] No such file or directory: '/Users/denes/Research/High_lat_HI/ATCA_data/data_cubes_4k/Norma/j160153-5658_cube_4k.fits'\n",
      "[Errno 2] No such file or directory: '/Users/denes/Research/High_lat_HI/ATCA_data/data_cubes_4k/Norma/j164526-6212_cube_4k.fits'\n",
      "[Errno 2] No such file or directory: '/Users/denes/Research/High_lat_HI/ATCA_data/data_cubes_4k/Norma/j162510-5908_cube_4k.fits'\n",
      "[Errno 2] No such file or directory: '/Users/denes/Research/High_lat_HI/ATCA_data/data_cubes_4k/Norma/j172307-6109_cube_4k.fits'\n",
      "[Errno 2] No such file or directory: '/Users/denes/Research/High_lat_HI/ATCA_data/data_cubes_4k/Norma/j164602-5700_cube_4k.fits'\n",
      "[Errno 2] No such file or directory: '/Users/denes/Research/High_lat_HI/ATCA_data/data_cubes_4k/Norma/j161112-5742_cube_4k.fits'\n",
      "[Errno 2] No such file or directory: '/Users/denes/Research/High_lat_HI/ATCA_data/data_cubes_4k/Norma/j161257-5736_cube_4k.fits'\n",
      "[Errno 2] No such file or directory: '/Users/denes/Research/High_lat_HI/ATCA_data/data_cubes_4k/Norma/j165836-5915_cube_4k.fits'\n",
      "[Errno 2] No such file or directory: '/Users/denes/Research/High_lat_HI/ATCA_data/data_cubes_4k/Norma/j161742-5914_cube_4k.fits'\n",
      "[Errno 2] No such file or directory: '/Users/denes/Research/High_lat_HI/ATCA_data/data_cubes_4k/Norma/j171226-6153_cube_4k.fits'\n",
      "[Errno 2] No such file or directory: '/Users/denes/Research/High_lat_HI/ATCA_data/data_cubes_4k/Norma/j160727-6034_cube_4k.fits'\n",
      "[Errno 2] No such file or directory: '/Users/denes/Research/High_lat_HI/ATCA_data/data_cubes_4k/Norma/j164600-6040_cube_4k.fits'\n",
      "[Errno 2] No such file or directory: '/Users/denes/Research/High_lat_HI/ATCA_data/data_cubes_4k/Norma/j163359-5722_cube_4k.fits'\n",
      "[Errno 2] No such file or directory: '/Users/denes/Research/High_lat_HI/ATCA_data/data_cubes_4k/Norma/j162049-5823_cube_4k.fits'\n",
      "[Errno 2] No such file or directory: '/Users/denes/Research/High_lat_HI/ATCA_data/data_cubes_4k/Norma/j165913-5844_cube_4k.fits'\n",
      "[Errno 2] No such file or directory: '/Users/denes/Research/High_lat_HI/ATCA_data/data_cubes_4k/Norma/j170106-5845_cube_4k.fits'\n",
      "[Errno 2] No such file or directory: '/Users/denes/Research/High_lat_HI/ATCA_data/data_cubes_4k/Norma/j165043-5935_cube_4k.fits'\n",
      "[Errno 2] No such file or directory: '/Users/denes/Research/High_lat_HI/ATCA_data/data_cubes_4k/Norma/j165712-5652_cube_4k.fits'\n"
     ]
    },
    {
     "name": "stderr",
     "output_type": "stream",
     "text": [
      "WARNING: VerifyWarning: Invalid 'BLANK' keyword in header.  The 'BLANK' keyword is only applicable to integer data, and will be ignored in this HDU. [astropy.io.fits.hdu.image]\n",
      "WARNING: StokesWarning: Cube is a Stokes cube, returning spectral cube for I component [spectral_cube.io.core]\n",
      "WARNING: VerifyWarning: Invalid 'BLANK' keyword in header.  The 'BLANK' keyword is only applicable to integer data, and will be ignored in this HDU. [astropy.io.fits.hdu.image]\n",
      "WARNING: VerifyWarning: Invalid 'BLANK' keyword in header.  The 'BLANK' keyword is only applicable to integer data, and will be ignored in this HDU. [astropy.io.fits.hdu.image]\n"
     ]
    },
    {
     "name": "stdout",
     "output_type": "stream",
     "text": [
      "0.06608863640182686\n",
      "Can only apply 'subtract' function to dimensionless quantities when other argument is not a quantity (unless the latter is all zero/infinity/nan)\n",
      "[Errno 2] No such file or directory: '/Users/denes/Research/High_lat_HI/ATCA_data/data_cubes_4k/Norma/j165654-5701_cube_4k.fits'\n",
      "[Errno 2] No such file or directory: '/Users/denes/Research/High_lat_HI/ATCA_data/data_cubes_4k/Norma/j170127-5703_cube_4k.fits'\n",
      "[Errno 2] No such file or directory: '/Users/denes/Research/High_lat_HI/ATCA_data/data_cubes_4k/Norma/j155129-6144_cube_4k.fits'\n",
      "[Errno 2] No such file or directory: '/Users/denes/Research/High_lat_HI/ATCA_data/data_cubes_4k/Norma/j165840-6053_cube_4k.fits'\n",
      "[Errno 2] No such file or directory: '/Users/denes/Research/High_lat_HI/ATCA_data/data_cubes_4k/Norma/j160334-5835_cube_4k.fits'\n",
      "[Errno 2] No such file or directory: '/Users/denes/Research/High_lat_HI/ATCA_data/data_cubes_4k/Norma/j161514-6054_cube_4k.fits'\n",
      "[Errno 2] No such file or directory: '/Users/denes/Research/High_lat_HI/ATCA_data/data_cubes_4k/Norma/j165640-6010_cube_4k.fits'\n",
      "[Errno 2] No such file or directory: '/Users/denes/Research/High_lat_HI/ATCA_data/data_cubes_4k/Norma/j160146-5718_cube_4k.fits'\n",
      "[Errno 2] No such file or directory: '/Users/denes/Research/High_lat_HI/ATCA_data/data_cubes_4k/Norma/j170647-6036_cube_4k.fits'\n",
      "[Errno 2] No such file or directory: '/Users/denes/Research/High_lat_HI/ATCA_data/data_cubes_4k/Norma/j171152-5747_cube_4k.fits'\n"
     ]
    },
    {
     "name": "stderr",
     "output_type": "stream",
     "text": [
      "WARNING: StokesWarning: Cube is a Stokes cube, returning spectral cube for I component [spectral_cube.io.core]\n",
      "WARNING: VerifyWarning: Invalid 'BLANK' keyword in header.  The 'BLANK' keyword is only applicable to integer data, and will be ignored in this HDU. [astropy.io.fits.hdu.image]\n",
      "WARNING: VerifyWarning: Invalid 'BLANK' keyword in header.  The 'BLANK' keyword is only applicable to integer data, and will be ignored in this HDU. [astropy.io.fits.hdu.image]\n",
      "WARNING: StokesWarning: Cube is a Stokes cube, returning spectral cube for I component [spectral_cube.io.core]\n",
      "WARNING: VerifyWarning: Invalid 'BLANK' keyword in header.  The 'BLANK' keyword is only applicable to integer data, and will be ignored in this HDU. [astropy.io.fits.hdu.image]\n"
     ]
    },
    {
     "name": "stdout",
     "output_type": "stream",
     "text": [
      "0.07911305431111358\n",
      "Can only apply 'subtract' function to dimensionless quantities when other argument is not a quantity (unless the latter is all zero/infinity/nan)\n",
      "[Errno 2] No such file or directory: '/Users/denes/Research/High_lat_HI/ATCA_data/data_cubes_4k/Norma/j163221-5716_cube_4k.fits'\n",
      "[Errno 2] No such file or directory: '/Users/denes/Research/High_lat_HI/ATCA_data/data_cubes_4k/Norma/j161942-5902_cube_4k.fits'\n",
      "0.0786364255165721\n",
      "Can only apply 'subtract' function to dimensionless quantities when other argument is not a quantity (unless the latter is all zero/infinity/nan)\n",
      "[Errno 2] No such file or directory: '/Users/denes/Research/High_lat_HI/ATCA_data/data_cubes_4k/Norma/j160153-5658_cube_4k.fits'\n",
      "[Errno 2] No such file or directory: '/Users/denes/Research/High_lat_HI/ATCA_data/data_cubes_4k/Norma/j155927-5734_cube_4k.fits'\n",
      "0.09083021830340018\n",
      "Can only apply 'subtract' function to dimensionless quantities when other argument is not a quantity (unless the latter is all zero/infinity/nan)\n",
      "[Errno 2] No such file or directory: '/Users/denes/Research/High_lat_HI/ATCA_data/data_cubes_4k/Norma/j161513-6054_cube_4k.fits'\n",
      "[Errno 2] No such file or directory: '/Users/denes/Research/High_lat_HI/ATCA_data/data_cubes_4k/Norma/j161646-5908_cube_4k.fits'\n",
      "[Errno 2] No such file or directory: '/Users/denes/Research/High_lat_HI/ATCA_data/data_cubes_4k/Norma/j162151-6045_cube_4k.fits'\n",
      "[Errno 2] No such file or directory: '/Users/denes/Research/High_lat_HI/ATCA_data/data_cubes_4k/Norma/j161712-5849_cube_4k.fits'\n"
     ]
    },
    {
     "name": "stderr",
     "output_type": "stream",
     "text": [
      "WARNING: VerifyWarning: Invalid 'BLANK' keyword in header.  The 'BLANK' keyword is only applicable to integer data, and will be ignored in this HDU. [astropy.io.fits.hdu.image]\n",
      "WARNING: StokesWarning: Cube is a Stokes cube, returning spectral cube for I component [spectral_cube.io.core]\n",
      "WARNING: VerifyWarning: Invalid 'BLANK' keyword in header.  The 'BLANK' keyword is only applicable to integer data, and will be ignored in this HDU. [astropy.io.fits.hdu.image]\n"
     ]
    },
    {
     "name": "stdout",
     "output_type": "stream",
     "text": [
      "[Errno 2] No such file or directory: '/Users/denes/Research/High_lat_HI/ATCA_data/data_cubes_4k/Norma/j163520-5732_cube_4k.fits'\n",
      "[Errno 2] No such file or directory: '/Users/denes/Research/High_lat_HI/ATCA_data/data_cubes_4k/Norma/j162630-5800_cube_4k.fits'\n",
      "[Errno 2] No such file or directory: '/Users/denes/Research/High_lat_HI/ATCA_data/data_cubes_4k/Norma/j163359-5722_cube_4k.fits'\n",
      "[Errno 2] No such file or directory: '/Users/denes/Research/High_lat_HI/ATCA_data/data_cubes_4k/Norma/j170542-6035_cube_4k.fits'\n",
      "[Errno 2] No such file or directory: '/Users/denes/Research/High_lat_HI/ATCA_data/data_cubes_4k/Norma/j163513-5804_cube_4k.fits'\n",
      "[Errno 2] No such file or directory: '/Users/denes/Research/High_lat_HI/ATCA_data/data_cubes_4k/Norma/j171151-5654_cube_4k.fits'\n",
      "[Errno 2] No such file or directory: '/Users/denes/Research/High_lat_HI/ATCA_data/data_cubes_4k/Norma/j170653-6227_cube_4k.fits'\n",
      "[Errno 2] No such file or directory: '/Users/denes/Research/High_lat_HI/ATCA_data/data_cubes_4k/Norma/j162132-5828_cube_4k.fits'\n",
      "[Errno 2] No such file or directory: '/Users/denes/Research/High_lat_HI/ATCA_data/data_cubes_4k/Norma/j161005-6250_cube_4k.fits'\n",
      "[Errno 2] No such file or directory: '/Users/denes/Research/High_lat_HI/ATCA_data/data_cubes_4k/Norma/j170713-5714_cube_4k.fits'\n",
      "[Errno 2] No such file or directory: '/Users/denes/Research/High_lat_HI/ATCA_data/data_cubes_4k/Norma/j162216-5852_cube_4k.fits'\n",
      "[Errno 2] No such file or directory: '/Users/denes/Research/High_lat_HI/ATCA_data/data_cubes_4k/Norma/j163411-5928_cube_4k.fits'\n",
      "[Errno 2] No such file or directory: '/Users/denes/Research/High_lat_HI/ATCA_data/data_cubes_4k/Norma/j164016-5947_cube_4k.fits'\n",
      "[Errno 2] No such file or directory: '/Users/denes/Research/High_lat_HI/ATCA_data/data_cubes_4k/Norma/j161108-5738_cube_4k.fits'\n",
      "[Errno 2] No such file or directory: '/Users/denes/Research/High_lat_HI/ATCA_data/data_cubes_4k/Norma/j170741-5953_cube_4k.fits'\n",
      "[Errno 2] No such file or directory: '/Users/denes/Research/High_lat_HI/ATCA_data/data_cubes_4k/Norma/j162013-5917_cube_4k.fits'\n",
      "[Errno 2] No such file or directory: '/Users/denes/Research/High_lat_HI/ATCA_data/data_cubes_4k/Norma/j164556-5824_cube_4k.fits'\n",
      "[Errno 2] No such file or directory: '/Users/denes/Research/High_lat_HI/ATCA_data/data_cubes_4k/Norma/j171620-6157_cube_4k.fits'\n",
      "[Errno 2] No such file or directory: '/Users/denes/Research/High_lat_HI/ATCA_data/data_cubes_4k/Norma/j170653-6239_cube_4k.fits'\n",
      "[Errno 2] No such file or directory: '/Users/denes/Research/High_lat_HI/ATCA_data/data_cubes_4k/Norma/j160039-5646_cube_4k.fits'\n",
      "[Errno 2] No such file or directory: '/Users/denes/Research/High_lat_HI/ATCA_data/data_cubes_4k/Norma/j155527-6136_cube_4k.fits'\n",
      "[Errno 2] No such file or directory: '/Users/denes/Research/High_lat_HI/ATCA_data/data_cubes_4k/Norma/j165926-6111_cube_4k.fits'\n",
      "[Errno 2] No such file or directory: '/Users/denes/Research/High_lat_HI/ATCA_data/data_cubes_4k/Norma/j171701-5702_cube_4k.fits'\n",
      "[Errno 2] No such file or directory: '/Users/denes/Research/High_lat_HI/ATCA_data/data_cubes_4k/Norma/j160924-5820_cube_4k.fits'\n",
      "[Errno 2] No such file or directory: '/Users/denes/Research/High_lat_HI/ATCA_data/data_cubes_4k/Norma/j160620-5736_cube_4k.fits'\n",
      "[Errno 2] No such file or directory: '/Users/denes/Research/High_lat_HI/ATCA_data/data_cubes_4k/Norma/j164251-6032_cube_4k.fits'\n",
      "[Errno 2] No such file or directory: '/Users/denes/Research/High_lat_HI/ATCA_data/data_cubes_4k/Norma/j162345-5834_cube_4k.fits'\n",
      "[Errno 2] No such file or directory: '/Users/denes/Research/High_lat_HI/ATCA_data/data_cubes_4k/Norma/j161108-5738_cube_4k.fits'\n",
      "[Errno 2] No such file or directory: '/Users/denes/Research/High_lat_HI/ATCA_data/data_cubes_4k/Norma/j161505-5652_cube_4k.fits'\n",
      "[Errno 2] No such file or directory: '/Users/denes/Research/High_lat_HI/ATCA_data/data_cubes_4k/Norma/j163843-6216_cube_4k.fits'\n",
      "[Errno 2] No such file or directory: '/Users/denes/Research/High_lat_HI/ATCA_data/data_cubes_4k/Norma/j162419-5844_cube_4k.fits'\n",
      "[Errno 2] No such file or directory: '/Users/denes/Research/High_lat_HI/ATCA_data/data_cubes_4k/Norma/j161533-6039_cube_4k.fits'\n",
      "[Errno 2] No such file or directory: '/Users/denes/Research/High_lat_HI/ATCA_data/data_cubes_4k/Norma/j160202-6009_cube_4k.fits'\n",
      "[Errno 2] No such file or directory: '/Users/denes/Research/High_lat_HI/ATCA_data/data_cubes_4k/Norma/j165349-6256_cube_4k.fits'\n",
      "[Errno 2] No such file or directory: '/Users/denes/Research/High_lat_HI/ATCA_data/data_cubes_4k/Norma/j163718-5731_cube_4k.fits'\n",
      "0.09083021830340018\n",
      "Can only apply 'subtract' function to dimensionless quantities when other argument is not a quantity (unless the latter is all zero/infinity/nan)\n",
      "[Errno 2] No such file or directory: '/Users/denes/Research/High_lat_HI/ATCA_data/data_cubes_4k/Norma/j170837-6049_cube_4k.fits'\n"
     ]
    },
    {
     "name": "stderr",
     "output_type": "stream",
     "text": [
      "WARNING: VerifyWarning: Invalid 'BLANK' keyword in header.  The 'BLANK' keyword is only applicable to integer data, and will be ignored in this HDU. [astropy.io.fits.hdu.image]\n",
      "WARNING: StokesWarning: Cube is a Stokes cube, returning spectral cube for I component [spectral_cube.io.core]\n",
      "WARNING: VerifyWarning: Invalid 'BLANK' keyword in header.  The 'BLANK' keyword is only applicable to integer data, and will be ignored in this HDU. [astropy.io.fits.hdu.image]\n",
      "WARNING: VerifyWarning: Invalid 'BLANK' keyword in header.  The 'BLANK' keyword is only applicable to integer data, and will be ignored in this HDU. [astropy.io.fits.hdu.image]\n",
      "WARNING: StokesWarning: Cube is a Stokes cube, returning spectral cube for I component [spectral_cube.io.core]\n",
      "WARNING: VerifyWarning: Invalid 'BLANK' keyword in header.  The 'BLANK' keyword is only applicable to integer data, and will be ignored in this HDU. [astropy.io.fits.hdu.image]\n",
      "WARNING: VerifyWarning: Invalid 'BLANK' keyword in header.  The 'BLANK' keyword is only applicable to integer data, and will be ignored in this HDU. [astropy.io.fits.hdu.image]\n"
     ]
    },
    {
     "name": "stdout",
     "output_type": "stream",
     "text": [
      "0.30809649991385\n",
      "Can only apply 'subtract' function to dimensionless quantities when other argument is not a quantity (unless the latter is all zero/infinity/nan)\n",
      "[Errno 2] No such file or directory: '/Users/denes/Research/High_lat_HI/ATCA_data/data_cubes_4k/Norma/j161135-5626_cube_4k.fits'\n"
     ]
    },
    {
     "name": "stderr",
     "output_type": "stream",
     "text": [
      "WARNING: StokesWarning: Cube is a Stokes cube, returning spectral cube for I component [spectral_cube.io.core]\n",
      "WARNING: VerifyWarning: Invalid 'BLANK' keyword in header.  The 'BLANK' keyword is only applicable to integer data, and will be ignored in this HDU. [astropy.io.fits.hdu.image]\n",
      "WARNING: VerifyWarning: Invalid 'BLANK' keyword in header.  The 'BLANK' keyword is only applicable to integer data, and will be ignored in this HDU. [astropy.io.fits.hdu.image]\n"
     ]
    },
    {
     "name": "stdout",
     "output_type": "stream",
     "text": [
      "0.05592617308572607\n",
      "Can only apply 'subtract' function to dimensionless quantities when other argument is not a quantity (unless the latter is all zero/infinity/nan)\n",
      "[Errno 2] No such file or directory: '/Users/denes/Research/High_lat_HI/ATCA_data/data_cubes_4k/Norma/j160533-6203_cube_4k.fits'\n",
      "[Errno 2] No such file or directory: '/Users/denes/Research/High_lat_HI/ATCA_data/data_cubes_4k/Norma/j155554-6124_cube_4k.fits'\n",
      "[Errno 2] No such file or directory: '/Users/denes/Research/High_lat_HI/ATCA_data/data_cubes_4k/Norma/j160533-6203_cube_4k.fits'\n",
      "[Errno 2] No such file or directory: '/Users/denes/Research/High_lat_HI/ATCA_data/data_cubes_4k/Norma/j171715-6209_cube_4k.fits'\n",
      "[Errno 2] No such file or directory: '/Users/denes/Research/High_lat_HI/ATCA_data/data_cubes_4k/Norma/j170858-6054_cube_4k.fits'\n",
      "[Errno 2] No such file or directory: '/Users/denes/Research/High_lat_HI/ATCA_data/data_cubes_4k/Norma/j164753-6224_cube_4k.fits'\n"
     ]
    },
    {
     "name": "stderr",
     "output_type": "stream",
     "text": [
      "WARNING: StokesWarning: Cube is a Stokes cube, returning spectral cube for I component [spectral_cube.io.core]\n",
      "WARNING: VerifyWarning: Invalid 'BLANK' keyword in header.  The 'BLANK' keyword is only applicable to integer data, and will be ignored in this HDU. [astropy.io.fits.hdu.image]\n"
     ]
    },
    {
     "name": "stdout",
     "output_type": "stream",
     "text": [
      "0.12109322299585909\n",
      "Can only apply 'subtract' function to dimensionless quantities when other argument is not a quantity (unless the latter is all zero/infinity/nan)\n",
      "[Errno 2] No such file or directory: '/Users/denes/Research/High_lat_HI/ATCA_data/data_cubes_4k/Norma/j165123-6239_cube_4k.fits'\n",
      "[Errno 2] No such file or directory: '/Users/denes/Research/High_lat_HI/ATCA_data/data_cubes_4k/Norma/j161415-5948_cube_4k.fits'\n",
      "[Errno 2] No such file or directory: '/Users/denes/Research/High_lat_HI/ATCA_data/data_cubes_4k/Norma/j164420-5936_cube_4k.fits'\n",
      "[Errno 2] No such file or directory: '/Users/denes/Research/High_lat_HI/ATCA_data/data_cubes_4k/Norma/j162854-6152_cube_4k.fits'\n",
      "[Errno 2] No such file or directory: '/Users/denes/Research/High_lat_HI/ATCA_data/data_cubes_4k/Norma/j170633-6102_cube_4k.fits'\n",
      "[Errno 2] No such file or directory: '/Users/denes/Research/High_lat_HI/ATCA_data/data_cubes_4k/Norma/j164703-5805_cube_4k.fits'\n",
      "[Errno 2] No such file or directory: '/Users/denes/Research/High_lat_HI/ATCA_data/data_cubes_4k/Norma/j165047-6013_cube_4k.fits'\n",
      "[Errno 2] No such file or directory: '/Users/denes/Research/High_lat_HI/ATCA_data/data_cubes_4k/Norma/j164204-6219_cube_4k.fits'\n",
      "[Errno 2] No such file or directory: '/Users/denes/Research/High_lat_HI/ATCA_data/data_cubes_4k/Norma/j170623-5809_cube_4k.fits'\n",
      "[Errno 2] No such file or directory: '/Users/denes/Research/High_lat_HI/ATCA_data/data_cubes_4k/Norma/j160158-5907_cube_4k.fits'\n",
      "[Errno 2] No such file or directory: '/Users/denes/Research/High_lat_HI/ATCA_data/data_cubes_4k/Norma/j161445-5719_cube_4k.fits'\n",
      "[Errno 2] No such file or directory: '/Users/denes/Research/High_lat_HI/ATCA_data/data_cubes_4k/Norma/j171359-5902_cube_4k.fits'\n",
      "[Errno 2] No such file or directory: '/Users/denes/Research/High_lat_HI/ATCA_data/data_cubes_4k/Norma/j161135-5626_cube_4k.fits'\n",
      "[Errno 2] No such file or directory: '/Users/denes/Research/High_lat_HI/ATCA_data/data_cubes_4k/Norma/j165913-5844_cube_4k.fits'\n",
      "[Errno 2] No such file or directory: '/Users/denes/Research/High_lat_HI/ATCA_data/data_cubes_4k/Norma/j155526-6136_cube_4k.fits'\n"
     ]
    },
    {
     "name": "stderr",
     "output_type": "stream",
     "text": [
      "WARNING: VerifyWarning: Invalid 'BLANK' keyword in header.  The 'BLANK' keyword is only applicable to integer data, and will be ignored in this HDU. [astropy.io.fits.hdu.image]\n",
      "WARNING: StokesWarning: Cube is a Stokes cube, returning spectral cube for I component [spectral_cube.io.core]\n",
      "WARNING: VerifyWarning: Invalid 'BLANK' keyword in header.  The 'BLANK' keyword is only applicable to integer data, and will be ignored in this HDU. [astropy.io.fits.hdu.image]\n"
     ]
    },
    {
     "name": "stdout",
     "output_type": "stream",
     "text": [
      "0.05592617308572607\n",
      "Can only apply 'subtract' function to dimensionless quantities when other argument is not a quantity (unless the latter is all zero/infinity/nan)\n",
      "[Errno 2] No such file or directory: '/Users/denes/Research/High_lat_HI/ATCA_data/data_cubes_4k/Norma/j155434-6114_cube_4k.fits'\n",
      "[Errno 2] No such file or directory: '/Users/denes/Research/High_lat_HI/ATCA_data/data_cubes_4k/Norma/j172052-6243_cube_4k.fits'\n",
      "[Errno 2] No such file or directory: '/Users/denes/Research/High_lat_HI/ATCA_data/data_cubes_4k/Norma/j161654-5905_cube_4k.fits'\n",
      "[Errno 2] No such file or directory: '/Users/denes/Research/High_lat_HI/ATCA_data/data_cubes_4k/Norma/j165247-5912_cube_4k.fits'\n",
      "[Errno 2] No such file or directory: '/Users/denes/Research/High_lat_HI/ATCA_data/data_cubes_4k/Norma/j161942-5902_cube_4k.fits'\n",
      "[Errno 2] No such file or directory: '/Users/denes/Research/High_lat_HI/ATCA_data/data_cubes_4k/Norma/j170804-5841_cube_4k.fits'\n"
     ]
    },
    {
     "name": "stderr",
     "output_type": "stream",
     "text": [
      "WARNING: VerifyWarning: Invalid 'BLANK' keyword in header.  The 'BLANK' keyword is only applicable to integer data, and will be ignored in this HDU. [astropy.io.fits.hdu.image]\n",
      "WARNING: StokesWarning: Cube is a Stokes cube, returning spectral cube for I component [spectral_cube.io.core]\n",
      "WARNING: VerifyWarning: Invalid 'BLANK' keyword in header.  The 'BLANK' keyword is only applicable to integer data, and will be ignored in this HDU. [astropy.io.fits.hdu.image]\n"
     ]
    },
    {
     "name": "stdout",
     "output_type": "stream",
     "text": [
      "0.1168504314551526\n",
      "Can only apply 'subtract' function to dimensionless quantities when other argument is not a quantity (unless the latter is all zero/infinity/nan)\n",
      "[Errno 2] No such file or directory: '/Users/denes/Research/High_lat_HI/ATCA_data/data_cubes_4k/Norma/j171438-5702_cube_4k.fits'\n",
      "[Errno 2] No such file or directory: '/Users/denes/Research/High_lat_HI/ATCA_data/data_cubes_4k/Norma/j172251-6112_cube_4k.fits'\n",
      "[Errno 2] No such file or directory: '/Users/denes/Research/High_lat_HI/ATCA_data/data_cubes_4k/Norma/j163448-6159_cube_4k.fits'\n",
      "[Errno 2] No such file or directory: '/Users/denes/Research/High_lat_HI/ATCA_data/data_cubes_4k/Norma/j162216-5852_cube_4k.fits'\n",
      "[Errno 2] No such file or directory: '/Users/denes/Research/High_lat_HI/ATCA_data/data_cubes_4k/Norma/j160647-5700_cube_4k.fits'\n",
      "[Errno 2] No such file or directory: '/Users/denes/Research/High_lat_HI/ATCA_data/data_cubes_4k/Norma/j171904-5730_cube_4k.fits'\n",
      "[Errno 2] No such file or directory: '/Users/denes/Research/High_lat_HI/ATCA_data/data_cubes_4k/Norma/j163518-6228_cube_4k.fits'\n",
      "[Errno 2] No such file or directory: '/Users/denes/Research/High_lat_HI/ATCA_data/data_cubes_4k/Norma/j164153-5708_cube_4k.fits'\n",
      "[Errno 2] No such file or directory: '/Users/denes/Research/High_lat_HI/ATCA_data/data_cubes_4k/Norma/j163520-6228_cube_4k.fits'\n",
      "[Errno 2] No such file or directory: '/Users/denes/Research/High_lat_HI/ATCA_data/data_cubes_4k/Norma/j164513-5751_cube_4k.fits'\n"
     ]
    },
    {
     "name": "stderr",
     "output_type": "stream",
     "text": [
      "WARNING: VerifyWarning: Invalid 'BLANK' keyword in header.  The 'BLANK' keyword is only applicable to integer data, and will be ignored in this HDU. [astropy.io.fits.hdu.image]\n",
      "WARNING: StokesWarning: Cube is a Stokes cube, returning spectral cube for I component [spectral_cube.io.core]\n",
      "WARNING: VerifyWarning: Invalid 'BLANK' keyword in header.  The 'BLANK' keyword is only applicable to integer data, and will be ignored in this HDU. [astropy.io.fits.hdu.image]\n"
     ]
    },
    {
     "name": "stdout",
     "output_type": "stream",
     "text": [
      "0.18572755223857537\n",
      "Can only apply 'subtract' function to dimensionless quantities when other argument is not a quantity (unless the latter is all zero/infinity/nan)\n",
      "[Errno 2] No such file or directory: '/Users/denes/Research/High_lat_HI/ATCA_data/data_cubes_4k/Norma/j170251-5737_cube_4k.fits'\n",
      "[Errno 2] No such file or directory: '/Users/denes/Research/High_lat_HI/ATCA_data/data_cubes_4k/Norma/j170026-5918_cube_4k.fits'\n",
      "[Errno 2] No such file or directory: '/Users/denes/Research/High_lat_HI/ATCA_data/data_cubes_4k/Norma/j165917-6245_cube_4k.fits'\n",
      "[Errno 2] No such file or directory: '/Users/denes/Research/High_lat_HI/ATCA_data/data_cubes_4k/Norma/j163255-5938_cube_4k.fits'\n",
      "[Errno 2] No such file or directory: '/Users/denes/Research/High_lat_HI/ATCA_data/data_cubes_4k/Norma/j161849-5719_cube_4k.fits'\n",
      "[Errno 2] No such file or directory: '/Users/denes/Research/High_lat_HI/ATCA_data/data_cubes_4k/Norma/j171715-5908_cube_4k.fits'\n",
      "[Errno 2] No such file or directory: '/Users/denes/Research/High_lat_HI/ATCA_data/data_cubes_4k/Norma/j161654-5905_cube_4k.fits'\n",
      "[Errno 2] No such file or directory: '/Users/denes/Research/High_lat_HI/ATCA_data/data_cubes_4k/Norma/j171655-6045_cube_4k.fits'\n",
      "[Errno 2] No such file or directory: '/Users/denes/Research/High_lat_HI/ATCA_data/data_cubes_4k/Norma/j165654-5701_cube_4k.fits'\n",
      "[Errno 2] No such file or directory: '/Users/denes/Research/High_lat_HI/ATCA_data/data_cubes_4k/Norma/j164236-5911_cube_4k.fits'\n",
      "[Errno 2] No such file or directory: '/Users/denes/Research/High_lat_HI/ATCA_data/data_cubes_4k/Norma/j161108-5738_cube_4k.fits'\n",
      "[Errno 2] No such file or directory: '/Users/denes/Research/High_lat_HI/ATCA_data/data_cubes_4k/Norma/j160437-6243_cube_4k.fits'\n",
      "[Errno 2] No such file or directory: '/Users/denes/Research/High_lat_HI/ATCA_data/data_cubes_4k/Norma/j161656-5651_cube_4k.fits'\n",
      "[Errno 2] No such file or directory: '/Users/denes/Research/High_lat_HI/ATCA_data/data_cubes_4k/Norma/j163124-5754_cube_4k.fits'\n",
      "[Errno 2] No such file or directory: '/Users/denes/Research/High_lat_HI/ATCA_data/data_cubes_4k/Norma/j160544-6039_cube_4k.fits'\n",
      "[Errno 2] No such file or directory: '/Users/denes/Research/High_lat_HI/ATCA_data/data_cubes_4k/Norma/j171218-6221_cube_4k.fits'\n",
      "[Errno 2] No such file or directory: '/Users/denes/Research/High_lat_HI/ATCA_data/data_cubes_4k/Norma/j170052-6204_cube_4k.fits'\n",
      "[Errno 2] No such file or directory: '/Users/denes/Research/High_lat_HI/ATCA_data/data_cubes_4k/Norma/j171314-5807_cube_4k.fits'\n",
      "[Errno 2] No such file or directory: '/Users/denes/Research/High_lat_HI/ATCA_data/data_cubes_4k/Norma/j163223-6143_cube_4k.fits'\n",
      "[Errno 2] No such file or directory: '/Users/denes/Research/High_lat_HI/ATCA_data/data_cubes_4k/Norma/j165926-6111_cube_4k.fits'\n",
      "[Errno 2] No such file or directory: '/Users/denes/Research/High_lat_HI/ATCA_data/data_cubes_4k/Norma/j171226-6153_cube_4k.fits'\n"
     ]
    },
    {
     "name": "stderr",
     "output_type": "stream",
     "text": [
      "WARNING: VerifyWarning: Invalid 'BLANK' keyword in header.  The 'BLANK' keyword is only applicable to integer data, and will be ignored in this HDU. [astropy.io.fits.hdu.image]\n",
      "WARNING: StokesWarning: Cube is a Stokes cube, returning spectral cube for I component [spectral_cube.io.core]\n",
      "WARNING: VerifyWarning: Invalid 'BLANK' keyword in header.  The 'BLANK' keyword is only applicable to integer data, and will be ignored in this HDU. [astropy.io.fits.hdu.image]\n"
     ]
    },
    {
     "name": "stdout",
     "output_type": "stream",
     "text": [
      "0.08675038398634036\n",
      "Can only apply 'subtract' function to dimensionless quantities when other argument is not a quantity (unless the latter is all zero/infinity/nan)\n",
      "[Errno 2] No such file or directory: '/Users/denes/Research/High_lat_HI/ATCA_data/data_cubes_4k/Norma/j160735-5901_cube_4k.fits'\n",
      "0.17696941286790288\n",
      "Can only apply 'subtract' function to dimensionless quantities when other argument is not a quantity (unless the latter is all zero/infinity/nan)\n",
      "[Errno 2] No such file or directory: '/Users/denes/Research/High_lat_HI/ATCA_data/data_cubes_4k/Norma/j171210-5859_cube_4k.fits'\n",
      "[Errno 2] No such file or directory: '/Users/denes/Research/High_lat_HI/ATCA_data/data_cubes_4k/Norma/j162031-5919_cube_4k.fits'\n",
      "[Errno 2] No such file or directory: '/Users/denes/Research/High_lat_HI/ATCA_data/data_cubes_4k/Norma/j163518-6228_cube_4k.fits'\n",
      "[Errno 2] No such file or directory: '/Users/denes/Research/High_lat_HI/ATCA_data/data_cubes_4k/Norma/j171126-6044_cube_4k.fits'\n",
      "[Errno 2] No such file or directory: '/Users/denes/Research/High_lat_HI/ATCA_data/data_cubes_4k/Norma/j171135-5914_cube_4k.fits'\n",
      "[Errno 2] No such file or directory: '/Users/denes/Research/High_lat_HI/ATCA_data/data_cubes_4k/Norma/j161714-5848_cube_4k.fits'\n",
      "[Errno 2] No such file or directory: '/Users/denes/Research/High_lat_HI/ATCA_data/data_cubes_4k/Norma/j162408-5819_cube_4k.fits'\n",
      "[Errno 2] No such file or directory: '/Users/denes/Research/High_lat_HI/ATCA_data/data_cubes_4k/Norma/j162854-6152_cube_4k.fits'\n"
     ]
    },
    {
     "name": "stderr",
     "output_type": "stream",
     "text": [
      "WARNING: VerifyWarning: Invalid 'BLANK' keyword in header.  The 'BLANK' keyword is only applicable to integer data, and will be ignored in this HDU. [astropy.io.fits.hdu.image]\n",
      "WARNING: StokesWarning: Cube is a Stokes cube, returning spectral cube for I component [spectral_cube.io.core]\n",
      "WARNING: VerifyWarning: Invalid 'BLANK' keyword in header.  The 'BLANK' keyword is only applicable to integer data, and will be ignored in this HDU. [astropy.io.fits.hdu.image]\n"
     ]
    },
    {
     "name": "stdout",
     "output_type": "stream",
     "text": [
      "[Errno 2] No such file or directory: '/Users/denes/Research/High_lat_HI/ATCA_data/data_cubes_4k/Norma/j162132-5828_cube_4k.fits'\n",
      "[Errno 2] No such file or directory: '/Users/denes/Research/High_lat_HI/ATCA_data/data_cubes_4k/Norma/j162459-5749_cube_4k.fits'\n",
      "[Errno 2] No such file or directory: '/Users/denes/Research/High_lat_HI/ATCA_data/data_cubes_4k/Norma/j163250-6009_cube_4k.fits'\n",
      "[Errno 2] No such file or directory: '/Users/denes/Research/High_lat_HI/ATCA_data/data_cubes_4k/Norma/j161908-6140_cube_4k.fits'\n",
      "[Errno 2] No such file or directory: '/Users/denes/Research/High_lat_HI/ATCA_data/data_cubes_4k/Norma/j163221-5716_cube_4k.fits'\n",
      "[Errno 2] No such file or directory: '/Users/denes/Research/High_lat_HI/ATCA_data/data_cubes_4k/Norma/j170541-6227_cube_4k.fits'\n"
     ]
    },
    {
     "name": "stderr",
     "output_type": "stream",
     "text": [
      "WARNING: VerifyWarning: Invalid 'BLANK' keyword in header.  The 'BLANK' keyword is only applicable to integer data, and will be ignored in this HDU. [astropy.io.fits.hdu.image]\n",
      "WARNING: StokesWarning: Cube is a Stokes cube, returning spectral cube for I component [spectral_cube.io.core]\n",
      "WARNING: VerifyWarning: Invalid 'BLANK' keyword in header.  The 'BLANK' keyword is only applicable to integer data, and will be ignored in this HDU. [astropy.io.fits.hdu.image]\n"
     ]
    },
    {
     "name": "stdout",
     "output_type": "stream",
     "text": [
      "0.0990423242230896\n",
      "Can only apply 'subtract' function to dimensionless quantities when other argument is not a quantity (unless the latter is all zero/infinity/nan)\n",
      "[Errno 2] No such file or directory: '/Users/denes/Research/High_lat_HI/ATCA_data/data_cubes_4k/Norma/j161905-5923_cube_4k.fits'\n",
      "[Errno 2] No such file or directory: '/Users/denes/Research/High_lat_HI/ATCA_data/data_cubes_4k/Norma/j162503-5652_cube_4k.fits'\n",
      "[Errno 2] No such file or directory: '/Users/denes/Research/High_lat_HI/ATCA_data/data_cubes_4k/Norma/j163126-5835_cube_4k.fits'\n",
      "[Errno 2] No such file or directory: '/Users/denes/Research/High_lat_HI/ATCA_data/data_cubes_4k/Norma/j170222-5740_cube_4k.fits'\n",
      "[Errno 2] No such file or directory: '/Users/denes/Research/High_lat_HI/ATCA_data/data_cubes_4k/Norma/j164502-6002_cube_4k.fits'\n",
      "[Errno 2] No such file or directory: '/Users/denes/Research/High_lat_HI/ATCA_data/data_cubes_4k/Norma/j161624-5832_cube_4k.fits'\n",
      "[Errno 2] No such file or directory: '/Users/denes/Research/High_lat_HI/ATCA_data/data_cubes_4k/Norma/j164333-5908_cube_4k.fits'\n",
      "[Errno 2] No such file or directory: '/Users/denes/Research/High_lat_HI/ATCA_data/data_cubes_4k/Norma/j161445-5719_cube_4k.fits'\n",
      "[Errno 2] No such file or directory: '/Users/denes/Research/High_lat_HI/ATCA_data/data_cubes_4k/Norma/j162924-5924_cube_4k.fits'\n",
      "[Errno 2] No such file or directory: '/Users/denes/Research/High_lat_HI/ATCA_data/data_cubes_4k/Norma/j165826-5708_cube_4k.fits'\n",
      "[Errno 2] No such file or directory: '/Users/denes/Research/High_lat_HI/ATCA_data/data_cubes_4k/Norma/j164153-5708_cube_4k.fits'\n",
      "[Errno 2] No such file or directory: '/Users/denes/Research/High_lat_HI/ATCA_data/data_cubes_4k/Norma/j163839-6039_cube_4k.fits'\n",
      "[Errno 2] No such file or directory: '/Users/denes/Research/High_lat_HI/ATCA_data/data_cubes_4k/Norma/j164011-5653_cube_4k.fits'\n",
      "[Errno 2] No such file or directory: '/Users/denes/Research/High_lat_HI/ATCA_data/data_cubes_4k/Norma/j165220-5846_cube_4k.fits'\n",
      "[Errno 2] No such file or directory: '/Users/denes/Research/High_lat_HI/ATCA_data/data_cubes_4k/Norma/j165512-6052_cube_4k.fits'\n",
      "[Errno 2] No such file or directory: '/Users/denes/Research/High_lat_HI/ATCA_data/data_cubes_4k/Norma/j165627-6044_cube_4k.fits'\n"
     ]
    },
    {
     "name": "stderr",
     "output_type": "stream",
     "text": [
      "WARNING: VerifyWarning: Invalid 'BLANK' keyword in header.  The 'BLANK' keyword is only applicable to integer data, and will be ignored in this HDU. [astropy.io.fits.hdu.image]\n",
      "WARNING: StokesWarning: Cube is a Stokes cube, returning spectral cube for I component [spectral_cube.io.core]\n",
      "WARNING: VerifyWarning: Invalid 'BLANK' keyword in header.  The 'BLANK' keyword is only applicable to integer data, and will be ignored in this HDU. [astropy.io.fits.hdu.image]\n",
      "WARNING: VerifyWarning: Invalid 'BLANK' keyword in header.  The 'BLANK' keyword is only applicable to integer data, and will be ignored in this HDU. [astropy.io.fits.hdu.image]\n"
     ]
    },
    {
     "name": "stdout",
     "output_type": "stream",
     "text": [
      "0.12109322299585909\n",
      "Can only apply 'subtract' function to dimensionless quantities when other argument is not a quantity (unless the latter is all zero/infinity/nan)\n",
      "[Errno 2] No such file or directory: '/Users/denes/Research/High_lat_HI/ATCA_data/data_cubes_4k/Norma/j163852-5712_cube_4k.fits'\n",
      "[Errno 2] No such file or directory: '/Users/denes/Research/High_lat_HI/ATCA_data/data_cubes_4k/Norma/j171126-6044_cube_4k.fits'\n",
      "0.0990423242230896\n",
      "Can only apply 'subtract' function to dimensionless quantities when other argument is not a quantity (unless the latter is all zero/infinity/nan)\n",
      "[Errno 2] No such file or directory: '/Users/denes/Research/High_lat_HI/ATCA_data/data_cubes_4k/Norma/j163518-6228_cube_4k.fits'\n"
     ]
    },
    {
     "name": "stderr",
     "output_type": "stream",
     "text": [
      "WARNING: StokesWarning: Cube is a Stokes cube, returning spectral cube for I component [spectral_cube.io.core]\n",
      "WARNING: VerifyWarning: Invalid 'BLANK' keyword in header.  The 'BLANK' keyword is only applicable to integer data, and will be ignored in this HDU. [astropy.io.fits.hdu.image]\n",
      "WARNING: VerifyWarning: Invalid 'BLANK' keyword in header.  The 'BLANK' keyword is only applicable to integer data, and will be ignored in this HDU. [astropy.io.fits.hdu.image]\n",
      "WARNING: StokesWarning: Cube is a Stokes cube, returning spectral cube for I component [spectral_cube.io.core]\n",
      "WARNING: VerifyWarning: Invalid 'BLANK' keyword in header.  The 'BLANK' keyword is only applicable to integer data, and will be ignored in this HDU. [astropy.io.fits.hdu.image]\n"
     ]
    },
    {
     "name": "stdout",
     "output_type": "stream",
     "text": [
      "0.08624417754162891\n",
      "Can only apply 'subtract' function to dimensionless quantities when other argument is not a quantity (unless the latter is all zero/infinity/nan)\n"
     ]
    },
    {
     "name": "stderr",
     "output_type": "stream",
     "text": [
      "WARNING: VerifyWarning: Invalid 'BLANK' keyword in header.  The 'BLANK' keyword is only applicable to integer data, and will be ignored in this HDU. [astropy.io.fits.hdu.image]\n",
      "WARNING: StokesWarning: Cube is a Stokes cube, returning spectral cube for I component [spectral_cube.io.core]\n",
      "WARNING: VerifyWarning: Invalid 'BLANK' keyword in header.  The 'BLANK' keyword is only applicable to integer data, and will be ignored in this HDU. [astropy.io.fits.hdu.image]\n"
     ]
    },
    {
     "name": "stdout",
     "output_type": "stream",
     "text": [
      "0.18394414896110178\n",
      "Can only apply 'subtract' function to dimensionless quantities when other argument is not a quantity (unless the latter is all zero/infinity/nan)\n"
     ]
    },
    {
     "name": "stderr",
     "output_type": "stream",
     "text": [
      "WARNING: VerifyWarning: Invalid 'BLANK' keyword in header.  The 'BLANK' keyword is only applicable to integer data, and will be ignored in this HDU. [astropy.io.fits.hdu.image]\n",
      "WARNING: StokesWarning: Cube is a Stokes cube, returning spectral cube for I component [spectral_cube.io.core]\n",
      "WARNING: VerifyWarning: Invalid 'BLANK' keyword in header.  The 'BLANK' keyword is only applicable to integer data, and will be ignored in this HDU. [astropy.io.fits.hdu.image]\n"
     ]
    },
    {
     "name": "stdout",
     "output_type": "stream",
     "text": [
      "0.04285804960902698\n",
      "Can only apply 'subtract' function to dimensionless quantities when other argument is not a quantity (unless the latter is all zero/infinity/nan)\n",
      "[Errno 2] No such file or directory: '/Users/denes/Research/High_lat_HI/ATCA_data/data_cubes_4k/Norma/j161442-6048_cube_4k.fits'\n",
      "[Errno 2] No such file or directory: '/Users/denes/Research/High_lat_HI/ATCA_data/data_cubes_4k/Norma/j172114-5812_cube_4k.fits'\n",
      "[Errno 2] No such file or directory: '/Users/denes/Research/High_lat_HI/ATCA_data/data_cubes_4k/Norma/j161505-5652_cube_4k.fits'\n",
      "[Errno 2] No such file or directory: '/Users/denes/Research/High_lat_HI/ATCA_data/data_cubes_4k/Norma/j163102-5833_cube_4k.fits'\n",
      "[Errno 2] No such file or directory: '/Users/denes/Research/High_lat_HI/ATCA_data/data_cubes_4k/Norma/j172117-5809_cube_4k.fits'\n",
      "0.09083021830340018\n",
      "Can only apply 'subtract' function to dimensionless quantities when other argument is not a quantity (unless the latter is all zero/infinity/nan)\n",
      "[Errno 2] No such file or directory: '/Users/denes/Research/High_lat_HI/ATCA_data/data_cubes_4k/Norma/j164558-5819_cube_4k.fits'\n"
     ]
    },
    {
     "name": "stderr",
     "output_type": "stream",
     "text": [
      "WARNING: VerifyWarning: Invalid 'BLANK' keyword in header.  The 'BLANK' keyword is only applicable to integer data, and will be ignored in this HDU. [astropy.io.fits.hdu.image]\n",
      "WARNING: StokesWarning: Cube is a Stokes cube, returning spectral cube for I component [spectral_cube.io.core]\n",
      "WARNING: VerifyWarning: Invalid 'BLANK' keyword in header.  The 'BLANK' keyword is only applicable to integer data, and will be ignored in this HDU. [astropy.io.fits.hdu.image]\n",
      "WARNING: VerifyWarning: Invalid 'BLANK' keyword in header.  The 'BLANK' keyword is only applicable to integer data, and will be ignored in this HDU. [astropy.io.fits.hdu.image]\n",
      "WARNING: StokesWarning: Cube is a Stokes cube, returning spectral cube for I component [spectral_cube.io.core]\n",
      "WARNING: VerifyWarning: Invalid 'BLANK' keyword in header.  The 'BLANK' keyword is only applicable to integer data, and will be ignored in this HDU. [astropy.io.fits.hdu.image]\n"
     ]
    },
    {
     "name": "stdout",
     "output_type": "stream",
     "text": [
      "0.07545023318320099\n",
      "Can only apply 'subtract' function to dimensionless quantities when other argument is not a quantity (unless the latter is all zero/infinity/nan)\n",
      "[Errno 2] No such file or directory: '/Users/denes/Research/High_lat_HI/ATCA_data/data_cubes_4k/Norma/j164919-6150_cube_4k.fits'\n",
      "[Errno 2] No such file or directory: '/Users/denes/Research/High_lat_HI/ATCA_data/data_cubes_4k/Norma/j161456-5905_cube_4k.fits'\n",
      "[Errno 2] No such file or directory: '/Users/denes/Research/High_lat_HI/ATCA_data/data_cubes_4k/Norma/j170350-5937_cube_4k.fits'\n",
      "[Errno 2] No such file or directory: '/Users/denes/Research/High_lat_HI/ATCA_data/data_cubes_4k/Norma/j160735-5901_cube_4k.fits'\n",
      "[Errno 2] No such file or directory: '/Users/denes/Research/High_lat_HI/ATCA_data/data_cubes_4k/Norma/j170821-6136_cube_4k.fits'\n",
      "[Errno 2] No such file or directory: '/Users/denes/Research/High_lat_HI/ATCA_data/data_cubes_4k/Norma/j170354-5926_cube_4k.fits'\n",
      "[Errno 2] No such file or directory: '/Users/denes/Research/High_lat_HI/ATCA_data/data_cubes_4k/Norma/j170504-6209_cube_4k.fits'\n",
      "[Errno 2] No such file or directory: '/Users/denes/Research/High_lat_HI/ATCA_data/data_cubes_4k/Norma/j165120-5914_cube_4k.fits'\n",
      "[Errno 2] No such file or directory: '/Users/denes/Research/High_lat_HI/ATCA_data/data_cubes_4k/Norma/j170059-5933_cube_4k.fits'\n",
      "[Errno 2] No such file or directory: '/Users/denes/Research/High_lat_HI/ATCA_data/data_cubes_4k/Norma/j165340-5709_cube_4k.fits'\n",
      "[Errno 2] No such file or directory: '/Users/denes/Research/High_lat_HI/ATCA_data/data_cubes_4k/Norma/j165950-6213_cube_4k.fits'\n",
      "[Errno 2] No such file or directory: '/Users/denes/Research/High_lat_HI/ATCA_data/data_cubes_4k/Norma/j163255-5938_cube_4k.fits'\n",
      "[Errno 2] No such file or directory: '/Users/denes/Research/High_lat_HI/ATCA_data/data_cubes_4k/Norma/j163952-5713_cube_4k.fits'\n",
      "[Errno 2] No such file or directory: '/Users/denes/Research/High_lat_HI/ATCA_data/data_cubes_4k/Norma/j155554-6124_cube_4k.fits'\n",
      "[Errno 2] No such file or directory: '/Users/denes/Research/High_lat_HI/ATCA_data/data_cubes_4k/Norma/j165836-5915_cube_4k.fits'\n",
      "[Errno 2] No such file or directory: '/Users/denes/Research/High_lat_HI/ATCA_data/data_cubes_4k/Norma/j161622-5811_cube_4k.fits'\n",
      "[Errno 2] No such file or directory: '/Users/denes/Research/High_lat_HI/ATCA_data/data_cubes_4k/Norma/j171852-5840_cube_4k.fits'\n",
      "[Errno 2] No such file or directory: '/Users/denes/Research/High_lat_HI/ATCA_data/data_cubes_4k/Norma/j171946-5835_cube_4k.fits'\n",
      "[Errno 2] No such file or directory: '/Users/denes/Research/High_lat_HI/ATCA_data/data_cubes_4k/Norma/j155928-5849_cube_4k.fits'\n",
      "[Errno 2] No such file or directory: '/Users/denes/Research/High_lat_HI/ATCA_data/data_cubes_4k/Norma/j165419-6214_cube_4k.fits'\n",
      "[Errno 2] No such file or directory: '/Users/denes/Research/High_lat_HI/ATCA_data/data_cubes_4k/Norma/j160937-5953_cube_4k.fits'\n",
      "[Errno 2] No such file or directory: '/Users/denes/Research/High_lat_HI/ATCA_data/data_cubes_4k/Norma/j163828-5721_cube_4k.fits'\n",
      "[Errno 2] No such file or directory: '/Users/denes/Research/High_lat_HI/ATCA_data/data_cubes_4k/Norma/j170940-5851_cube_4k.fits'\n",
      "[Errno 2] No such file or directory: '/Users/denes/Research/High_lat_HI/ATCA_data/data_cubes_4k/Norma/j171855-6231_cube_4k.fits'\n"
     ]
    },
    {
     "name": "stderr",
     "output_type": "stream",
     "text": [
      "WARNING: VerifyWarning: Invalid 'BLANK' keyword in header.  The 'BLANK' keyword is only applicable to integer data, and will be ignored in this HDU. [astropy.io.fits.hdu.image]\n",
      "WARNING: StokesWarning: Cube is a Stokes cube, returning spectral cube for I component [spectral_cube.io.core]\n",
      "WARNING: VerifyWarning: Invalid 'BLANK' keyword in header.  The 'BLANK' keyword is only applicable to integer data, and will be ignored in this HDU. [astropy.io.fits.hdu.image]\n",
      "WARNING: VerifyWarning: Invalid 'BLANK' keyword in header.  The 'BLANK' keyword is only applicable to integer data, and will be ignored in this HDU. [astropy.io.fits.hdu.image]\n"
     ]
    },
    {
     "name": "stdout",
     "output_type": "stream",
     "text": [
      "0.0786364255165721\n",
      "Can only apply 'subtract' function to dimensionless quantities when other argument is not a quantity (unless the latter is all zero/infinity/nan)\n"
     ]
    },
    {
     "name": "stderr",
     "output_type": "stream",
     "text": [
      "WARNING: StokesWarning: Cube is a Stokes cube, returning spectral cube for I component [spectral_cube.io.core]\n",
      "WARNING: VerifyWarning: Invalid 'BLANK' keyword in header.  The 'BLANK' keyword is only applicable to integer data, and will be ignored in this HDU. [astropy.io.fits.hdu.image]\n",
      "WARNING: VerifyWarning: Invalid 'BLANK' keyword in header.  The 'BLANK' keyword is only applicable to integer data, and will be ignored in this HDU. [astropy.io.fits.hdu.image]\n"
     ]
    },
    {
     "name": "stdout",
     "output_type": "stream",
     "text": [
      "0.9321957257792105\n",
      "Can only apply 'subtract' function to dimensionless quantities when other argument is not a quantity (unless the latter is all zero/infinity/nan)\n",
      "[Errno 2] No such file or directory: '/Users/denes/Research/High_lat_HI/ATCA_data/data_cubes_4k/Norma/j165712-5652_cube_4k.fits'\n",
      "[Errno 2] No such file or directory: '/Users/denes/Research/High_lat_HI/ATCA_data/data_cubes_4k/Norma/j161442-6048_cube_4k.fits'\n",
      "[Errno 2] No such file or directory: '/Users/denes/Research/High_lat_HI/ATCA_data/data_cubes_4k/Norma/j155939-6011_cube_4k.fits'\n"
     ]
    },
    {
     "name": "stderr",
     "output_type": "stream",
     "text": [
      "WARNING: StokesWarning: Cube is a Stokes cube, returning spectral cube for I component [spectral_cube.io.core]\n",
      "WARNING: VerifyWarning: Invalid 'BLANK' keyword in header.  The 'BLANK' keyword is only applicable to integer data, and will be ignored in this HDU. [astropy.io.fits.hdu.image]\n"
     ]
    },
    {
     "name": "stdout",
     "output_type": "stream",
     "text": [
      "0.06397152843511568\n",
      "Can only apply 'subtract' function to dimensionless quantities when other argument is not a quantity (unless the latter is all zero/infinity/nan)\n",
      "[Errno 2] No such file or directory: '/Users/denes/Research/High_lat_HI/ATCA_data/data_cubes_4k/Norma/j161456-5905_cube_4k.fits'\n",
      "[Errno 2] No such file or directory: '/Users/denes/Research/High_lat_HI/ATCA_data/data_cubes_4k/Norma/j162408-5819_cube_4k.fits'\n",
      "[Errno 2] No such file or directory: '/Users/denes/Research/High_lat_HI/ATCA_data/data_cubes_4k/Norma/j170016-6249_cube_4k.fits'\n",
      "[Errno 2] No such file or directory: '/Users/denes/Research/High_lat_HI/ATCA_data/data_cubes_4k/Norma/j165043-5935_cube_4k.fits'\n",
      "[Errno 2] No such file or directory: '/Users/denes/Research/High_lat_HI/ATCA_data/data_cubes_4k/Norma/j155928-5849_cube_4k.fits'\n",
      "[Errno 2] No such file or directory: '/Users/denes/Research/High_lat_HI/ATCA_data/data_cubes_4k/Norma/j164445-6135_cube_4k.fits'\n",
      "[Errno 2] No such file or directory: '/Users/denes/Research/High_lat_HI/ATCA_data/data_cubes_4k/Norma/j161855-5910_cube_4k.fits'\n",
      "[Errno 2] No such file or directory: '/Users/denes/Research/High_lat_HI/ATCA_data/data_cubes_4k/Norma/j162627-5800_cube_4k.fits'\n",
      "[Errno 2] No such file or directory: '/Users/denes/Research/High_lat_HI/ATCA_data/data_cubes_4k/Norma/j165506-6230_cube_4k.fits'\n",
      "[Errno 2] No such file or directory: '/Users/denes/Research/High_lat_HI/ATCA_data/data_cubes_4k/Norma/j164601-5805_cube_4k.fits'\n",
      "[Errno 2] No such file or directory: '/Users/denes/Research/High_lat_HI/ATCA_data/data_cubes_4k/Norma/j161144-6012_cube_4k.fits'\n",
      "[Errno 2] No such file or directory: '/Users/denes/Research/High_lat_HI/ATCA_data/data_cubes_4k/Norma/j163155-5838_cube_4k.fits'\n",
      "[Errno 2] No such file or directory: '/Users/denes/Research/High_lat_HI/ATCA_data/data_cubes_4k/Norma/j164929-5944_cube_4k.fits'\n",
      "[Errno 2] No such file or directory: '/Users/denes/Research/High_lat_HI/ATCA_data/data_cubes_4k/Norma/j171116-6141_cube_4k.fits'\n",
      "[Errno 2] No such file or directory: '/Users/denes/Research/High_lat_HI/ATCA_data/data_cubes_4k/Norma/j155452-6015_cube_4k.fits'\n",
      "[Errno 2] No such file or directory: '/Users/denes/Research/High_lat_HI/ATCA_data/data_cubes_4k/Norma/j163649-6232_cube_4k.fits'\n",
      "[Errno 2] No such file or directory: '/Users/denes/Research/High_lat_HI/ATCA_data/data_cubes_4k/Norma/j165646-6130_cube_4k.fits'\n",
      "[Errno 2] No such file or directory: '/Users/denes/Research/High_lat_HI/ATCA_data/data_cubes_4k/Norma/j165112-5903_cube_4k.fits'\n",
      "[Errno 2] No such file or directory: '/Users/denes/Research/High_lat_HI/ATCA_data/data_cubes_4k/Norma/j155858-6144_cube_4k.fits'\n",
      "[Errno 2] No such file or directory: '/Users/denes/Research/High_lat_HI/ATCA_data/data_cubes_4k/Norma/j165422-6120_cube_4k.fits'\n",
      "[Errno 2] No such file or directory: '/Users/denes/Research/High_lat_HI/ATCA_data/data_cubes_4k/Norma/j162500-5818_cube_4k.fits'\n",
      "[Errno 2] No such file or directory: '/Users/denes/Research/High_lat_HI/ATCA_data/data_cubes_4k/Norma/j162706-5643_cube_4k.fits'\n",
      "[Errno 2] No such file or directory: '/Users/denes/Research/High_lat_HI/ATCA_data/data_cubes_4k/Norma/j162345-5834_cube_4k.fits'\n",
      "[Errno 2] No such file or directory: '/Users/denes/Research/High_lat_HI/ATCA_data/data_cubes_4k/Norma/j155434-6114_cube_4k.fits'\n",
      "[Errno 2] No such file or directory: '/Users/denes/Research/High_lat_HI/ATCA_data/data_cubes_4k/Norma/j155433-6114_cube_4k.fits'\n",
      "[Errno 2] No such file or directory: '/Users/denes/Research/High_lat_HI/ATCA_data/data_cubes_4k/Norma/j171937-6247_cube_4k.fits'\n"
     ]
    },
    {
     "name": "stderr",
     "output_type": "stream",
     "text": [
      "WARNING: VerifyWarning: Invalid 'BLANK' keyword in header.  The 'BLANK' keyword is only applicable to integer data, and will be ignored in this HDU. [astropy.io.fits.hdu.image]\n",
      "WARNING: StokesWarning: Cube is a Stokes cube, returning spectral cube for I component [spectral_cube.io.core]\n",
      "WARNING: VerifyWarning: Invalid 'BLANK' keyword in header.  The 'BLANK' keyword is only applicable to integer data, and will be ignored in this HDU. [astropy.io.fits.hdu.image]\n"
     ]
    },
    {
     "name": "stdout",
     "output_type": "stream",
     "text": [
      "0.08675038398634036\n",
      "Can only apply 'subtract' function to dimensionless quantities when other argument is not a quantity (unless the latter is all zero/infinity/nan)\n",
      "[Errno 2] No such file or directory: '/Users/denes/Research/High_lat_HI/ATCA_data/data_cubes_4k/Norma/j162821-6011_cube_4k.fits'\n",
      "[Errno 2] No such file or directory: '/Users/denes/Research/High_lat_HI/ATCA_data/data_cubes_4k/Norma/j164445-6135_cube_4k.fits'\n",
      "[Errno 2] No such file or directory: '/Users/denes/Research/High_lat_HI/ATCA_data/data_cubes_4k/Norma/j164459-5703_cube_4k.fits'\n",
      "[Errno 2] No such file or directory: '/Users/denes/Research/High_lat_HI/ATCA_data/data_cubes_4k/Norma/j155554-6124_cube_4k.fits'\n",
      "[Errno 2] No such file or directory: '/Users/denes/Research/High_lat_HI/ATCA_data/data_cubes_4k/Norma/j165532-6108_cube_4k.fits'\n",
      "[Errno 2] No such file or directory: '/Users/denes/Research/High_lat_HI/ATCA_data/data_cubes_4k/Norma/j172057-6009_cube_4k.fits'\n",
      "[Errno 2] No such file or directory: '/Users/denes/Research/High_lat_HI/ATCA_data/data_cubes_4k/Norma/j164600-6040_cube_4k.fits'\n",
      "[Errno 2] No such file or directory: '/Users/denes/Research/High_lat_HI/ATCA_data/data_cubes_4k/Norma/j163221-5716_cube_4k.fits'\n",
      "[Errno 2] No such file or directory: '/Users/denes/Research/High_lat_HI/ATCA_data/data_cubes_4k/Norma/j164709-5909_cube_4k.fits'\n",
      "[Errno 2] No such file or directory: '/Users/denes/Research/High_lat_HI/ATCA_data/data_cubes_4k/Norma/j172139-6154_cube_4k.fits'\n",
      "[Errno 2] No such file or directory: '/Users/denes/Research/High_lat_HI/ATCA_data/data_cubes_4k/Norma/j162521-5924_cube_4k.fits'\n",
      "[Errno 2] No such file or directory: '/Users/denes/Research/High_lat_HI/ATCA_data/data_cubes_4k/Norma/j161227-5851_cube_4k.fits'\n",
      "[Errno 2] No such file or directory: '/Users/denes/Research/High_lat_HI/ATCA_data/data_cubes_4k/Norma/j161511-6038_cube_4k.fits'\n",
      "[Errno 2] No such file or directory: '/Users/denes/Research/High_lat_HI/ATCA_data/data_cubes_4k/Norma/j160559-6234_cube_4k.fits'\n",
      "[Errno 2] No such file or directory: '/Users/denes/Research/High_lat_HI/ATCA_data/data_cubes_4k/Norma/j163937-6153_cube_4k.fits'\n",
      "[Errno 2] No such file or directory: '/Users/denes/Research/High_lat_HI/ATCA_data/data_cubes_4k/Norma/j170105-6147_cube_4k.fits'\n",
      "[Errno 2] No such file or directory: '/Users/denes/Research/High_lat_HI/ATCA_data/data_cubes_4k/Norma/j165508-5933_cube_4k.fits'\n",
      "[Errno 2] No such file or directory: '/Users/denes/Research/High_lat_HI/ATCA_data/data_cubes_4k/Norma/j165047-6013_cube_4k.fits'\n",
      "[Errno 2] No such file or directory: '/Users/denes/Research/High_lat_HI/ATCA_data/data_cubes_4k/Norma/j171230-5722_cube_4k.fits'\n",
      "[Errno 2] No such file or directory: '/Users/denes/Research/High_lat_HI/ATCA_data/data_cubes_4k/Norma/j164513-5751_cube_4k.fits'\n",
      "[Errno 2] No such file or directory: '/Users/denes/Research/High_lat_HI/ATCA_data/data_cubes_4k/Norma/j162216-5852_cube_4k.fits'\n",
      "[Errno 2] No such file or directory: '/Users/denes/Research/High_lat_HI/ATCA_data/data_cubes_4k/Norma/j171717-6042_cube_4k.fits'\n",
      "[Errno 2] No such file or directory: '/Users/denes/Research/High_lat_HI/ATCA_data/data_cubes_4k/Norma/j163752-6149_cube_4k.fits'\n",
      "[Errno 2] No such file or directory: '/Users/denes/Research/High_lat_HI/ATCA_data/data_cubes_4k/Norma/j171513-5712_cube_4k.fits'\n",
      "[Errno 2] No such file or directory: '/Users/denes/Research/High_lat_HI/ATCA_data/data_cubes_4k/Norma/j165519-5657_cube_4k.fits'\n",
      "[Errno 2] No such file or directory: '/Users/denes/Research/High_lat_HI/ATCA_data/data_cubes_4k/Norma/j170034-5705_cube_4k.fits'\n",
      "[Errno 2] No such file or directory: '/Users/denes/Research/High_lat_HI/ATCA_data/data_cubes_4k/Norma/j171143-6132_cube_4k.fits'\n",
      "[Errno 2] No such file or directory: '/Users/denes/Research/High_lat_HI/ATCA_data/data_cubes_4k/Norma/j164443-6101_cube_4k.fits'\n",
      "[Errno 2] No such file or directory: '/Users/denes/Research/High_lat_HI/ATCA_data/data_cubes_4k/Norma/j164601-5805_cube_4k.fits'\n",
      "[Errno 2] No such file or directory: '/Users/denes/Research/High_lat_HI/ATCA_data/data_cubes_4k/Norma/j162521-5924_cube_4k.fits'\n",
      "[Errno 2] No such file or directory: '/Users/denes/Research/High_lat_HI/ATCA_data/data_cubes_4k/Norma/j163407-6137_cube_4k.fits'\n",
      "[Errno 2] No such file or directory: '/Users/denes/Research/High_lat_HI/ATCA_data/data_cubes_4k/Norma/j161908-6140_cube_4k.fits'\n"
     ]
    },
    {
     "name": "stderr",
     "output_type": "stream",
     "text": [
      "WARNING: VerifyWarning: Invalid 'BLANK' keyword in header.  The 'BLANK' keyword is only applicable to integer data, and will be ignored in this HDU. [astropy.io.fits.hdu.image]\n",
      "WARNING: StokesWarning: Cube is a Stokes cube, returning spectral cube for I component [spectral_cube.io.core]\n",
      "WARNING: VerifyWarning: Invalid 'BLANK' keyword in header.  The 'BLANK' keyword is only applicable to integer data, and will be ignored in this HDU. [astropy.io.fits.hdu.image]\n"
     ]
    },
    {
     "name": "stdout",
     "output_type": "stream",
     "text": [
      "0.2869944904573544\n",
      "Can only apply 'subtract' function to dimensionless quantities when other argument is not a quantity (unless the latter is all zero/infinity/nan)\n",
      "0.07545023318320099\n",
      "Can only apply 'subtract' function to dimensionless quantities when other argument is not a quantity (unless the latter is all zero/infinity/nan)\n",
      "[Errno 2] No such file or directory: '/Users/denes/Research/High_lat_HI/ATCA_data/data_cubes_4k/Norma/j163952-5713_cube_4k.fits'\n",
      "[Errno 2] No such file or directory: '/Users/denes/Research/High_lat_HI/ATCA_data/data_cubes_4k/Norma/j170401-5659_cube_4k.fits'\n",
      "[Errno 2] No such file or directory: '/Users/denes/Research/High_lat_HI/ATCA_data/data_cubes_4k/Norma/j171135-5914_cube_4k.fits'\n",
      "[Errno 2] No such file or directory: '/Users/denes/Research/High_lat_HI/ATCA_data/data_cubes_4k/Norma/j170132-6137_cube_4k.fits'\n",
      "[Errno 2] No such file or directory: '/Users/denes/Research/High_lat_HI/ATCA_data/data_cubes_4k/Norma/j164216-6021_cube_4k.fits'\n",
      "[Errno 2] No such file or directory: '/Users/denes/Research/High_lat_HI/ATCA_data/data_cubes_4k/Norma/j162118-6204_cube_4k.fits'\n"
     ]
    },
    {
     "name": "stderr",
     "output_type": "stream",
     "text": [
      "WARNING: VerifyWarning: Invalid 'BLANK' keyword in header.  The 'BLANK' keyword is only applicable to integer data, and will be ignored in this HDU. [astropy.io.fits.hdu.image]\n",
      "WARNING: StokesWarning: Cube is a Stokes cube, returning spectral cube for I component [spectral_cube.io.core]\n",
      "WARNING: VerifyWarning: Invalid 'BLANK' keyword in header.  The 'BLANK' keyword is only applicable to integer data, and will be ignored in this HDU. [astropy.io.fits.hdu.image]\n"
     ]
    },
    {
     "name": "stdout",
     "output_type": "stream",
     "text": [
      "[Errno 2] No such file or directory: '/Users/denes/Research/High_lat_HI/ATCA_data/data_cubes_4k/Norma/j170314-6106_cube_4k.fits'\n",
      "0.07545023318320099\n",
      "Can only apply 'subtract' function to dimensionless quantities when other argument is not a quantity (unless the latter is all zero/infinity/nan)\n",
      "[Errno 2] No such file or directory: '/Users/denes/Research/High_lat_HI/ATCA_data/data_cubes_4k/Norma/j155952-5710_cube_4k.fits'\n"
     ]
    },
    {
     "name": "stderr",
     "output_type": "stream",
     "text": [
      "WARNING: VerifyWarning: Invalid 'BLANK' keyword in header.  The 'BLANK' keyword is only applicable to integer data, and will be ignored in this HDU. [astropy.io.fits.hdu.image]\n",
      "WARNING: StokesWarning: Cube is a Stokes cube, returning spectral cube for I component [spectral_cube.io.core]\n",
      "WARNING: VerifyWarning: Invalid 'BLANK' keyword in header.  The 'BLANK' keyword is only applicable to integer data, and will be ignored in this HDU. [astropy.io.fits.hdu.image]\n",
      "WARNING: VerifyWarning: Invalid 'BLANK' keyword in header.  The 'BLANK' keyword is only applicable to integer data, and will be ignored in this HDU. [astropy.io.fits.hdu.image]\n",
      "WARNING: StokesWarning: Cube is a Stokes cube, returning spectral cube for I component [spectral_cube.io.core]\n",
      "WARNING: VerifyWarning: Invalid 'BLANK' keyword in header.  The 'BLANK' keyword is only applicable to integer data, and will be ignored in this HDU. [astropy.io.fits.hdu.image]\n",
      "WARNING: VerifyWarning: Invalid 'BLANK' keyword in header.  The 'BLANK' keyword is only applicable to integer data, and will be ignored in this HDU. [astropy.io.fits.hdu.image]\n"
     ]
    },
    {
     "name": "stdout",
     "output_type": "stream",
     "text": [
      "0.08675038398634036\n",
      "Can only apply 'subtract' function to dimensionless quantities when other argument is not a quantity (unless the latter is all zero/infinity/nan)\n",
      "[Errno 2] No such file or directory: '/Users/denes/Research/High_lat_HI/ATCA_data/data_cubes_4k/Norma/j163958-6037_cube_4k.fits'\n",
      "[Errno 2] No such file or directory: '/Users/denes/Research/High_lat_HI/ATCA_data/data_cubes_4k/Norma/j163203-6000_cube_4k.fits'\n",
      "[Errno 2] No such file or directory: '/Users/denes/Research/High_lat_HI/ATCA_data/data_cubes_4k/Norma/j163407-6137_cube_4k.fits'\n",
      "[Errno 2] No such file or directory: '/Users/denes/Research/High_lat_HI/ATCA_data/data_cubes_4k/Norma/j160942-6149_cube_4k.fits'\n",
      "[Errno 2] No such file or directory: '/Users/denes/Research/High_lat_HI/ATCA_data/data_cubes_4k/Norma/j162736-6038_cube_4k.fits'\n",
      "[Errno 2] No such file or directory: '/Users/denes/Research/High_lat_HI/ATCA_data/data_cubes_4k/Norma/j161554-5824_cube_4k.fits'\n",
      "[Errno 2] No such file or directory: '/Users/denes/Research/High_lat_HI/ATCA_data/data_cubes_4k/Norma/j171143-6132_cube_4k.fits'\n",
      "[Errno 2] No such file or directory: '/Users/denes/Research/High_lat_HI/ATCA_data/data_cubes_4k/Norma/j170132-6137_cube_4k.fits'\n",
      "[Errno 2] No such file or directory: '/Users/denes/Research/High_lat_HI/ATCA_data/data_cubes_4k/Norma/j160727-6034_cube_4k.fits'\n",
      "[Errno 2] No such file or directory: '/Users/denes/Research/High_lat_HI/ATCA_data/data_cubes_4k/Norma/j162704-6133_cube_4k.fits'\n"
     ]
    },
    {
     "name": "stderr",
     "output_type": "stream",
     "text": [
      "WARNING: StokesWarning: Cube is a Stokes cube, returning spectral cube for I component [spectral_cube.io.core]\n",
      "WARNING: VerifyWarning: Invalid 'BLANK' keyword in header.  The 'BLANK' keyword is only applicable to integer data, and will be ignored in this HDU. [astropy.io.fits.hdu.image]\n",
      "WARNING: VerifyWarning: Invalid 'BLANK' keyword in header.  The 'BLANK' keyword is only applicable to integer data, and will be ignored in this HDU. [astropy.io.fits.hdu.image]\n"
     ]
    },
    {
     "name": "stdout",
     "output_type": "stream",
     "text": [
      "0.07886886095181704\n",
      "Can only apply 'subtract' function to dimensionless quantities when other argument is not a quantity (unless the latter is all zero/infinity/nan)\n",
      "[Errno 2] No such file or directory: '/Users/denes/Research/High_lat_HI/ATCA_data/data_cubes_4k/Norma/j170733-5934_cube_4k.fits'\n",
      "[Errno 2] No such file or directory: '/Users/denes/Research/High_lat_HI/ATCA_data/data_cubes_4k/Norma/j155129-6144_cube_4k.fits'\n",
      "[Errno 2] No such file or directory: '/Users/denes/Research/High_lat_HI/ATCA_data/data_cubes_4k/Norma/j160447-5703_cube_4k.fits'\n",
      "[Errno 2] No such file or directory: '/Users/denes/Research/High_lat_HI/ATCA_data/data_cubes_4k/Norma/j161259-6037_cube_4k.fits'\n",
      "[Errno 2] No such file or directory: '/Users/denes/Research/High_lat_HI/ATCA_data/data_cubes_4k/Norma/j170314-6106_cube_4k.fits'\n"
     ]
    },
    {
     "name": "stderr",
     "output_type": "stream",
     "text": [
      "WARNING: StokesWarning: Cube is a Stokes cube, returning spectral cube for I component [spectral_cube.io.core]\n",
      "WARNING: VerifyWarning: Invalid 'BLANK' keyword in header.  The 'BLANK' keyword is only applicable to integer data, and will be ignored in this HDU. [astropy.io.fits.hdu.image]\n",
      "WARNING: VerifyWarning: Invalid 'BLANK' keyword in header.  The 'BLANK' keyword is only applicable to integer data, and will be ignored in this HDU. [astropy.io.fits.hdu.image]\n"
     ]
    },
    {
     "name": "stdout",
     "output_type": "stream",
     "text": [
      "0.13168352279388443\n",
      "Can only apply 'subtract' function to dimensionless quantities when other argument is not a quantity (unless the latter is all zero/infinity/nan)\n",
      "[Errno 2] No such file or directory: '/Users/denes/Research/High_lat_HI/ATCA_data/data_cubes_4k/Norma/j160544-6039_cube_4k.fits'\n",
      "[Errno 2] No such file or directory: '/Users/denes/Research/High_lat_HI/ATCA_data/data_cubes_4k/Norma/j170736-5658_cube_4k.fits'\n",
      "[Errno 2] No such file or directory: '/Users/denes/Research/High_lat_HI/ATCA_data/data_cubes_4k/Norma/j161714-5848_cube_4k.fits'\n",
      "[Errno 2] No such file or directory: '/Users/denes/Research/High_lat_HI/ATCA_data/data_cubes_4k/Norma/j172139-6154_cube_4k.fits'\n",
      "[Errno 2] No such file or directory: '/Users/denes/Research/High_lat_HI/ATCA_data/data_cubes_4k/Norma/j170750-5651_cube_4k.fits'\n"
     ]
    },
    {
     "name": "stderr",
     "output_type": "stream",
     "text": [
      "WARNING: StokesWarning: Cube is a Stokes cube, returning spectral cube for I component [spectral_cube.io.core]\n",
      "WARNING: VerifyWarning: Invalid 'BLANK' keyword in header.  The 'BLANK' keyword is only applicable to integer data, and will be ignored in this HDU. [astropy.io.fits.hdu.image]\n",
      "WARNING: VerifyWarning: Invalid 'BLANK' keyword in header.  The 'BLANK' keyword is only applicable to integer data, and will be ignored in this HDU. [astropy.io.fits.hdu.image]\n"
     ]
    },
    {
     "name": "stdout",
     "output_type": "stream",
     "text": [
      "3.627099160725957\n",
      "Can only apply 'subtract' function to dimensionless quantities when other argument is not a quantity (unless the latter is all zero/infinity/nan)\n",
      "[Errno 2] No such file or directory: '/Users/denes/Research/High_lat_HI/ATCA_data/data_cubes_4k/Norma/j171352-6125_cube_4k.fits'\n",
      "[Errno 2] No such file or directory: '/Users/denes/Research/High_lat_HI/ATCA_data/data_cubes_4k/Norma/j155722-6031_cube_4k.fits'\n",
      "[Errno 2] No such file or directory: '/Users/denes/Research/High_lat_HI/ATCA_data/data_cubes_4k/Norma/j162309-6226_cube_4k.fits'\n",
      "[Errno 2] No such file or directory: '/Users/denes/Research/High_lat_HI/ATCA_data/data_cubes_4k/Norma/j162503-5652_cube_4k.fits'\n",
      "[Errno 2] No such file or directory: '/Users/denes/Research/High_lat_HI/ATCA_data/data_cubes_4k/Norma/j163000-5753_cube_4k.fits'\n",
      "[Errno 2] No such file or directory: '/Users/denes/Research/High_lat_HI/ATCA_data/data_cubes_4k/Norma/j160709-5927_cube_4k.fits'\n",
      "[Errno 2] No such file or directory: '/Users/denes/Research/High_lat_HI/ATCA_data/data_cubes_4k/Norma/j172157-6209_cube_4k.fits'\n",
      "[Errno 2] No such file or directory: '/Users/denes/Research/High_lat_HI/ATCA_data/data_cubes_4k/Norma/j165525-5904_cube_4k.fits'\n",
      "[Errno 2] No such file or directory: '/Users/denes/Research/High_lat_HI/ATCA_data/data_cubes_4k/Norma/j160334-5835_cube_4k.fits'\n",
      "[Errno 2] No such file or directory: '/Users/denes/Research/High_lat_HI/ATCA_data/data_cubes_4k/Norma/j161908-6140_cube_4k.fits'\n",
      "[Errno 2] No such file or directory: '/Users/denes/Research/High_lat_HI/ATCA_data/data_cubes_4k/Norma/j163841-6216_cube_4k.fits'\n",
      "[Errno 2] No such file or directory: '/Users/denes/Research/High_lat_HI/ATCA_data/data_cubes_4k/Norma/j163831-6120_cube_4k.fits'\n"
     ]
    },
    {
     "name": "stderr",
     "output_type": "stream",
     "text": [
      "WARNING: StokesWarning: Cube is a Stokes cube, returning spectral cube for I component [spectral_cube.io.core]\n",
      "WARNING: VerifyWarning: Invalid 'BLANK' keyword in header.  The 'BLANK' keyword is only applicable to integer data, and will be ignored in this HDU. [astropy.io.fits.hdu.image]\n",
      "<ipython-input-9-036717c9e507>:47: RuntimeWarning: invalid value encountered in log\n",
      "  tau_atca = np.log(tauhi) * -1.\n",
      "WARNING: VerifyWarning: Invalid 'BLANK' keyword in header.  The 'BLANK' keyword is only applicable to integer data, and will be ignored in this HDU. [astropy.io.fits.hdu.image]\n"
     ]
    },
    {
     "name": "stdout",
     "output_type": "stream",
     "text": [
      "0.2650908909008021\n",
      "Can only apply 'subtract' function to dimensionless quantities when other argument is not a quantity (unless the latter is all zero/infinity/nan)\n",
      "[Errno 2] No such file or directory: '/Users/denes/Research/High_lat_HI/ATCA_data/data_cubes_4k/Norma/j161227-5851_cube_4k.fits'\n",
      "[Errno 2] No such file or directory: '/Users/denes/Research/High_lat_HI/ATCA_data/data_cubes_4k/Norma/j161257-5736_cube_4k.fits'\n",
      "[Errno 2] No such file or directory: '/Users/denes/Research/High_lat_HI/ATCA_data/data_cubes_4k/Norma/j170907-5925_cube_4k.fits'\n",
      "[Errno 2] No such file or directory: '/Users/denes/Research/High_lat_HI/ATCA_data/data_cubes_4k/Norma/j163952-5713_cube_4k.fits'\n",
      "[Errno 2] No such file or directory: '/Users/denes/Research/High_lat_HI/ATCA_data/data_cubes_4k/Norma/j160937-5953_cube_4k.fits'\n"
     ]
    },
    {
     "name": "stderr",
     "output_type": "stream",
     "text": [
      "WARNING: StokesWarning: Cube is a Stokes cube, returning spectral cube for I component [spectral_cube.io.core]\n",
      "WARNING: VerifyWarning: Invalid 'BLANK' keyword in header.  The 'BLANK' keyword is only applicable to integer data, and will be ignored in this HDU. [astropy.io.fits.hdu.image]\n",
      "WARNING: VerifyWarning: Invalid 'BLANK' keyword in header.  The 'BLANK' keyword is only applicable to integer data, and will be ignored in this HDU. [astropy.io.fits.hdu.image]\n",
      "WARNING: StokesWarning: Cube is a Stokes cube, returning spectral cube for I component [spectral_cube.io.core]\n",
      "WARNING: VerifyWarning: Invalid 'BLANK' keyword in header.  The 'BLANK' keyword is only applicable to integer data, and will be ignored in this HDU. [astropy.io.fits.hdu.image]\n"
     ]
    },
    {
     "name": "stdout",
     "output_type": "stream",
     "text": [
      "0.04285804960902698\n",
      "Can only apply 'subtract' function to dimensionless quantities when other argument is not a quantity (unless the latter is all zero/infinity/nan)\n",
      "[Errno 2] No such file or directory: '/Users/denes/Research/High_lat_HI/ATCA_data/data_cubes_4k/Norma/j170736-5658_cube_4k.fits'\n",
      "[Errno 2] No such file or directory: '/Users/denes/Research/High_lat_HI/ATCA_data/data_cubes_4k/Norma/j170058-5852_cube_4k.fits'\n",
      "[Errno 2] No such file or directory: '/Users/denes/Research/High_lat_HI/ATCA_data/data_cubes_4k/Norma/j163631-6227_cube_4k.fits'\n",
      "0.07545023318320099\n",
      "Can only apply 'subtract' function to dimensionless quantities when other argument is not a quantity (unless the latter is all zero/infinity/nan)\n",
      "[Errno 2] No such file or directory: '/Users/denes/Research/High_lat_HI/ATCA_data/data_cubes_4k/Norma/j164333-5908_cube_4k.fits'\n",
      "[Errno 2] No such file or directory: '/Users/denes/Research/High_lat_HI/ATCA_data/data_cubes_4k/Norma/j171126-5823_cube_4k.fits'\n",
      "[Errno 2] No such file or directory: '/Users/denes/Research/High_lat_HI/ATCA_data/data_cubes_4k/Norma/j164204-6219_cube_4k.fits'\n",
      "[Errno 2] No such file or directory: '/Users/denes/Research/High_lat_HI/ATCA_data/data_cubes_4k/Norma/j164254-5832_cube_4k.fits'\n",
      "[Errno 2] No such file or directory: '/Users/denes/Research/High_lat_HI/ATCA_data/data_cubes_4k/Norma/j165541-5931_cube_4k.fits'\n",
      "0.2650908909008021\n",
      "Can only apply 'subtract' function to dimensionless quantities when other argument is not a quantity (unless the latter is all zero/infinity/nan)\n",
      "[Errno 2] No such file or directory: '/Users/denes/Research/High_lat_HI/ATCA_data/data_cubes_4k/Norma/j162706-5643_cube_4k.fits'\n",
      "[Errno 2] No such file or directory: '/Users/denes/Research/High_lat_HI/ATCA_data/data_cubes_4k/Norma/j163852-5712_cube_4k.fits'\n",
      "[Errno 2] No such file or directory: '/Users/denes/Research/High_lat_HI/ATCA_data/data_cubes_4k/Norma/j161453-6054_cube_4k.fits'\n",
      "[Errno 2] No such file or directory: '/Users/denes/Research/High_lat_HI/ATCA_data/data_cubes_4k/Norma/j164703-5805_cube_4k.fits'\n"
     ]
    },
    {
     "name": "stderr",
     "output_type": "stream",
     "text": [
      "WARNING: VerifyWarning: Invalid 'BLANK' keyword in header.  The 'BLANK' keyword is only applicable to integer data, and will be ignored in this HDU. [astropy.io.fits.hdu.image]\n",
      "WARNING: StokesWarning: Cube is a Stokes cube, returning spectral cube for I component [spectral_cube.io.core]\n",
      "WARNING: VerifyWarning: Invalid 'BLANK' keyword in header.  The 'BLANK' keyword is only applicable to integer data, and will be ignored in this HDU. [astropy.io.fits.hdu.image]\n",
      "<ipython-input-9-036717c9e507>:47: RuntimeWarning: invalid value encountered in log\n",
      "  tau_atca = np.log(tauhi) * -1.\n"
     ]
    },
    {
     "name": "stdout",
     "output_type": "stream",
     "text": [
      "[Errno 2] No such file or directory: '/Users/denes/Research/High_lat_HI/ATCA_data/data_cubes_4k/Norma/j171858-6239_cube_4k.fits'\n",
      "[Errno 2] No such file or directory: '/Users/denes/Research/High_lat_HI/ATCA_data/data_cubes_4k/Norma/j165312-6218_cube_4k.fits'\n",
      "[Errno 2] No such file or directory: '/Users/denes/Research/High_lat_HI/ATCA_data/data_cubes_4k/Norma/j170831-5713_cube_4k.fits'\n",
      "[Errno 2] No such file or directory: '/Users/denes/Research/High_lat_HI/ATCA_data/data_cubes_4k/Norma/j171533-6108_cube_4k.fits'\n",
      "[Errno 2] No such file or directory: '/Users/denes/Research/High_lat_HI/ATCA_data/data_cubes_4k/Norma/j163507-6031_cube_4k.fits'\n",
      "[Errno 2] No such file or directory: '/Users/denes/Research/High_lat_HI/ATCA_data/data_cubes_4k/Norma/j163520-6228_cube_4k.fits'\n",
      "[Errno 2] No such file or directory: '/Users/denes/Research/High_lat_HI/ATCA_data/data_cubes_4k/Norma/j171502-6201_cube_4k.fits'\n",
      "[Errno 2] No such file or directory: '/Users/denes/Research/High_lat_HI/ATCA_data/data_cubes_4k/Norma/j170105-6147_cube_4k.fits'\n",
      "[Errno 2] No such file or directory: '/Users/denes/Research/High_lat_HI/ATCA_data/data_cubes_4k/Norma/j164208-6132_cube_4k.fits'\n",
      "[Errno 2] No such file or directory: '/Users/denes/Research/High_lat_HI/ATCA_data/data_cubes_4k/Norma/j164254-5832_cube_4k.fits'\n",
      "[Errno 2] No such file or directory: '/Users/denes/Research/High_lat_HI/ATCA_data/data_cubes_4k/Norma/j155908-5823_cube_4k.fits'\n",
      "[Errno 2] No such file or directory: '/Users/denes/Research/High_lat_HI/ATCA_data/data_cubes_4k/Norma/j170833-5936_cube_4k.fits'\n",
      "[Errno 2] No such file or directory: '/Users/denes/Research/High_lat_HI/ATCA_data/data_cubes_4k/Norma/j162521-5924_cube_4k.fits'\n",
      "[Errno 2] No such file or directory: '/Users/denes/Research/High_lat_HI/ATCA_data/data_cubes_4k/Norma/j171838-5815_cube_4k.fits'\n",
      "[Errno 2] No such file or directory: '/Users/denes/Research/High_lat_HI/ATCA_data/data_cubes_4k/Norma/j164753-6224_cube_4k.fits'\n",
      "[Errno 2] No such file or directory: '/Users/denes/Research/High_lat_HI/ATCA_data/data_cubes_4k/Norma/j164909-5730_cube_4k.fits'\n",
      "[Errno 2] No such file or directory: '/Users/denes/Research/High_lat_HI/ATCA_data/data_cubes_4k/Norma/j160411-5649_cube_4k.fits'\n",
      "[Errno 2] No such file or directory: '/Users/denes/Research/High_lat_HI/ATCA_data/data_cubes_4k/Norma/j165813-5819_cube_4k.fits'\n",
      "[Errno 2] No such file or directory: '/Users/denes/Research/High_lat_HI/ATCA_data/data_cubes_4k/Norma/j155952-5710_cube_4k.fits'\n",
      "[Errno 2] No such file or directory: '/Users/denes/Research/High_lat_HI/ATCA_data/data_cubes_4k/Norma/j165506-6230_cube_4k.fits'\n",
      "[Errno 2] No such file or directory: '/Users/denes/Research/High_lat_HI/ATCA_data/data_cubes_4k/Norma/j170059-5933_cube_4k.fits'\n",
      "[Errno 2] No such file or directory: '/Users/denes/Research/High_lat_HI/ATCA_data/data_cubes_4k/Norma/j165936-5726_cube_4k.fits'\n"
     ]
    },
    {
     "name": "stderr",
     "output_type": "stream",
     "text": [
      "WARNING: VerifyWarning: Invalid 'BLANK' keyword in header.  The 'BLANK' keyword is only applicable to integer data, and will be ignored in this HDU. [astropy.io.fits.hdu.image]\n",
      "WARNING: StokesWarning: Cube is a Stokes cube, returning spectral cube for I component [spectral_cube.io.core]\n",
      "WARNING: VerifyWarning: Invalid 'BLANK' keyword in header.  The 'BLANK' keyword is only applicable to integer data, and will be ignored in this HDU. [astropy.io.fits.hdu.image]\n"
     ]
    },
    {
     "name": "stdout",
     "output_type": "stream",
     "text": [
      "0.08130925298899128\n",
      "Can only apply 'subtract' function to dimensionless quantities when other argument is not a quantity (unless the latter is all zero/infinity/nan)\n",
      "[Errno 2] No such file or directory: '/Users/denes/Research/High_lat_HI/ATCA_data/data_cubes_4k/Norma/j162334-5855_cube_4k.fits'\n",
      "[Errno 2] No such file or directory: '/Users/denes/Research/High_lat_HI/ATCA_data/data_cubes_4k/Norma/j170115-5847_cube_4k.fits'\n",
      "[Errno 2] No such file or directory: '/Users/denes/Research/High_lat_HI/ATCA_data/data_cubes_4k/Norma/j163155-5838_cube_4k.fits'\n",
      "[Errno 2] No such file or directory: '/Users/denes/Research/High_lat_HI/ATCA_data/data_cubes_4k/Norma/j161804-5721_cube_4k.fits'\n",
      "[Errno 2] No such file or directory: '/Users/denes/Research/High_lat_HI/ATCA_data/data_cubes_4k/Norma/j161144-6012_cube_4k.fits'\n",
      "[Errno 2] No such file or directory: '/Users/denes/Research/High_lat_HI/ATCA_data/data_cubes_4k/Norma/j161707-5848_cube_4k.fits'\n",
      "[Errno 2] No such file or directory: '/Users/denes/Research/High_lat_HI/ATCA_data/data_cubes_4k/Norma/j170303-5853_cube_4k.fits'\n",
      "[Errno 2] No such file or directory: '/Users/denes/Research/High_lat_HI/ATCA_data/data_cubes_4k/Norma/j162854-6152_cube_4k.fits'\n",
      "[Errno 2] No such file or directory: '/Users/denes/Research/High_lat_HI/ATCA_data/data_cubes_4k/Norma/j163056-5801_cube_4k.fits'\n",
      "[Errno 2] No such file or directory: '/Users/denes/Research/High_lat_HI/ATCA_data/data_cubes_4k/Norma/j163515-6228_cube_4k.fits'\n",
      "[Errno 2] No such file or directory: '/Users/denes/Research/High_lat_HI/ATCA_data/data_cubes_4k/Norma/j164406-6051_cube_4k.fits'\n",
      "[Errno 2] No such file or directory: '/Users/denes/Research/High_lat_HI/ATCA_data/data_cubes_4k/Norma/j160352-5653_cube_4k.fits'\n",
      "[Errno 2] No such file or directory: '/Users/denes/Research/High_lat_HI/ATCA_data/data_cubes_4k/Norma/j162419-5844_cube_4k.fits'\n",
      "[Errno 2] No such file or directory: '/Users/denes/Research/High_lat_HI/ATCA_data/data_cubes_4k/Norma/j163631-6227_cube_4k.fits'\n",
      "[Errno 2] No such file or directory: '/Users/denes/Research/High_lat_HI/ATCA_data/data_cubes_4k/Norma/j164919-6150_cube_4k.fits'\n",
      "[Errno 2] No such file or directory: '/Users/denes/Research/High_lat_HI/ATCA_data/data_cubes_4k/Norma/j155722-6031_cube_4k.fits'\n",
      "[Errno 2] No such file or directory: '/Users/denes/Research/High_lat_HI/ATCA_data/data_cubes_4k/Norma/j171641-5736_cube_4k.fits'\n",
      "[Errno 2] No such file or directory: '/Users/denes/Research/High_lat_HI/ATCA_data/data_cubes_4k/Norma/j161710-5818_cube_4k.fits'\n",
      "[Errno 2] No such file or directory: '/Users/denes/Research/High_lat_HI/ATCA_data/data_cubes_4k/Norma/j160257-5702_cube_4k.fits'\n",
      "[Errno 2] No such file or directory: '/Users/denes/Research/High_lat_HI/ATCA_data/data_cubes_4k/Norma/j155508-6038_cube_4k.fits'\n"
     ]
    },
    {
     "name": "stderr",
     "output_type": "stream",
     "text": [
      "WARNING: VerifyWarning: Invalid 'BLANK' keyword in header.  The 'BLANK' keyword is only applicable to integer data, and will be ignored in this HDU. [astropy.io.fits.hdu.image]\n",
      "WARNING: StokesWarning: Cube is a Stokes cube, returning spectral cube for I component [spectral_cube.io.core]\n",
      "WARNING: VerifyWarning: Invalid 'BLANK' keyword in header.  The 'BLANK' keyword is only applicable to integer data, and will be ignored in this HDU. [astropy.io.fits.hdu.image]\n",
      "WARNING: VerifyWarning: Invalid 'BLANK' keyword in header.  The 'BLANK' keyword is only applicable to integer data, and will be ignored in this HDU. [astropy.io.fits.hdu.image]\n"
     ]
    },
    {
     "name": "stdout",
     "output_type": "stream",
     "text": [
      "3.627099160725957\n",
      "Can only apply 'subtract' function to dimensionless quantities when other argument is not a quantity (unless the latter is all zero/infinity/nan)\n",
      "[Errno 2] No such file or directory: '/Users/denes/Research/High_lat_HI/ATCA_data/data_cubes_4k/Norma/j163250-6009_cube_4k.fits'\n",
      "0.042981139619689544\n",
      "Can only apply 'subtract' function to dimensionless quantities when other argument is not a quantity (unless the latter is all zero/infinity/nan)\n",
      "[Errno 2] No such file or directory: '/Users/denes/Research/High_lat_HI/ATCA_data/data_cubes_4k/Norma/j162625-5800_cube_4k.fits'\n",
      "[Errno 2] No such file or directory: '/Users/denes/Research/High_lat_HI/ATCA_data/data_cubes_4k/Norma/j161453-6054_cube_4k.fits'\n",
      "[Errno 2] No such file or directory: '/Users/denes/Research/High_lat_HI/ATCA_data/data_cubes_4k/Norma/j163525-5837_cube_4k.fits'\n",
      "[Errno 2] No such file or directory: '/Users/denes/Research/High_lat_HI/ATCA_data/data_cubes_4k/Norma/j171456-5822_cube_4k.fits'\n",
      "[Errno 2] No such file or directory: '/Users/denes/Research/High_lat_HI/ATCA_data/data_cubes_4k/Norma/j161511-6038_cube_4k.fits'\n"
     ]
    },
    {
     "name": "stderr",
     "output_type": "stream",
     "text": [
      "WARNING: StokesWarning: Cube is a Stokes cube, returning spectral cube for I component [spectral_cube.io.core]\n",
      "WARNING: VerifyWarning: Invalid 'BLANK' keyword in header.  The 'BLANK' keyword is only applicable to integer data, and will be ignored in this HDU. [astropy.io.fits.hdu.image]\n",
      "WARNING: VerifyWarning: Invalid 'BLANK' keyword in header.  The 'BLANK' keyword is only applicable to integer data, and will be ignored in this HDU. [astropy.io.fits.hdu.image]\n"
     ]
    },
    {
     "name": "stdout",
     "output_type": "stream",
     "text": [
      "[Errno 2] No such file or directory: '/Users/denes/Research/High_lat_HI/ATCA_data/data_cubes_4k/Norma/j163212-5645_cube_4k.fits'\n",
      "[Errno 2] No such file or directory: '/Users/denes/Research/High_lat_HI/ATCA_data/data_cubes_4k/Norma/j165532-6108_cube_4k.fits'\n",
      "[Errno 2] No such file or directory: '/Users/denes/Research/High_lat_HI/ATCA_data/data_cubes_4k/Norma/j162031-5919_cube_4k.fits'\n",
      "[Errno 2] No such file or directory: '/Users/denes/Research/High_lat_HI/ATCA_data/data_cubes_4k/Norma/j161257-5736_cube_4k.fits'\n",
      "[Errno 2] No such file or directory: '/Users/denes/Research/High_lat_HI/ATCA_data/data_cubes_4k/Norma/j172109-6018_cube_4k.fits'\n",
      "[Errno 2] No such file or directory: '/Users/denes/Research/High_lat_HI/ATCA_data/data_cubes_4k/Norma/j162216-5852_cube_4k.fits'\n",
      "[Errno 2] No such file or directory: '/Users/denes/Research/High_lat_HI/ATCA_data/data_cubes_4k/Norma/j171231-6115_cube_4k.fits'\n",
      "[Errno 2] No such file or directory: '/Users/denes/Research/High_lat_HI/ATCA_data/data_cubes_4k/Norma/j170251-5737_cube_4k.fits'\n"
     ]
    },
    {
     "name": "stderr",
     "output_type": "stream",
     "text": [
      "WARNING: StokesWarning: Cube is a Stokes cube, returning spectral cube for I component [spectral_cube.io.core]\n",
      "WARNING: VerifyWarning: Invalid 'BLANK' keyword in header.  The 'BLANK' keyword is only applicable to integer data, and will be ignored in this HDU. [astropy.io.fits.hdu.image]\n",
      "WARNING: VerifyWarning: Invalid 'BLANK' keyword in header.  The 'BLANK' keyword is only applicable to integer data, and will be ignored in this HDU. [astropy.io.fits.hdu.image]\n",
      "WARNING: StokesWarning: Cube is a Stokes cube, returning spectral cube for I component [spectral_cube.io.core]\n",
      "WARNING: VerifyWarning: Invalid 'BLANK' keyword in header.  The 'BLANK' keyword is only applicable to integer data, and will be ignored in this HDU. [astropy.io.fits.hdu.image]\n"
     ]
    },
    {
     "name": "stdout",
     "output_type": "stream",
     "text": [
      "0.08675038398634036\n",
      "Can only apply 'subtract' function to dimensionless quantities when other argument is not a quantity (unless the latter is all zero/infinity/nan)\n",
      "[Errno 2] No such file or directory: '/Users/denes/Research/High_lat_HI/ATCA_data/data_cubes_4k/Norma/j165220-5846_cube_4k.fits'\n",
      "[Errno 2] No such file or directory: '/Users/denes/Research/High_lat_HI/ATCA_data/data_cubes_4k/Norma/j165621-6225_cube_4k.fits'\n",
      "[Errno 2] No such file or directory: '/Users/denes/Research/High_lat_HI/ATCA_data/data_cubes_4k/Norma/j155722-6031_cube_4k.fits'\n",
      "0.2869944904573544\n",
      "Can only apply 'subtract' function to dimensionless quantities when other argument is not a quantity (unless the latter is all zero/infinity/nan)\n",
      "[Errno 2] No such file or directory: '/Users/denes/Research/High_lat_HI/ATCA_data/data_cubes_4k/Norma/j171455-6223_cube_4k.fits'\n",
      "[Errno 2] No such file or directory: '/Users/denes/Research/High_lat_HI/ATCA_data/data_cubes_4k/Norma/j155650-5816_cube_4k.fits'\n",
      "[Errno 2] No such file or directory: '/Users/denes/Research/High_lat_HI/ATCA_data/data_cubes_4k/Norma/j155939-6011_cube_4k.fits'\n",
      "[Errno 2] No such file or directory: '/Users/denes/Research/High_lat_HI/ATCA_data/data_cubes_4k/Norma/j170837-6049_cube_4k.fits'\n",
      "[Errno 2] No such file or directory: '/Users/denes/Research/High_lat_HI/ATCA_data/data_cubes_4k/Norma/j162521-5924_cube_4k.fits'\n",
      "[Errno 2] No such file or directory: '/Users/denes/Research/High_lat_HI/ATCA_data/data_cubes_4k/Norma/j172121-6201_cube_4k.fits'\n",
      "[Errno 2] No such file or directory: '/Users/denes/Research/High_lat_HI/ATCA_data/data_cubes_4k/Norma/j171314-5807_cube_4k.fits'\n",
      "[Errno 2] No such file or directory: '/Users/denes/Research/High_lat_HI/ATCA_data/data_cubes_4k/Norma/j160620-5736_cube_4k.fits'\n",
      "[Errno 2] No such file or directory: '/Users/denes/Research/High_lat_HI/ATCA_data/data_cubes_4k/Norma/j165840-6053_cube_4k.fits'\n",
      "[Errno 2] No such file or directory: '/Users/denes/Research/High_lat_HI/ATCA_data/data_cubes_4k/Norma/j162049-5823_cube_4k.fits'\n",
      "[Errno 2] No such file or directory: '/Users/denes/Research/High_lat_HI/ATCA_data/data_cubes_4k/Norma/j161420-5638_cube_4k.fits'\n",
      "[Errno 2] No such file or directory: '/Users/denes/Research/High_lat_HI/ATCA_data/data_cubes_4k/Norma/j165247-5912_cube_4k.fits'\n",
      "[Errno 2] No such file or directory: '/Users/denes/Research/High_lat_HI/ATCA_data/data_cubes_4k/Norma/j161107-5706_cube_4k.fits'\n",
      "[Errno 2] No such file or directory: '/Users/denes/Research/High_lat_HI/ATCA_data/data_cubes_4k/Norma/j161456-5905_cube_4k.fits'\n",
      "[Errno 2] No such file or directory: '/Users/denes/Research/High_lat_HI/ATCA_data/data_cubes_4k/Norma/j170504-6209_cube_4k.fits'\n"
     ]
    },
    {
     "name": "stderr",
     "output_type": "stream",
     "text": [
      "WARNING: VerifyWarning: Invalid 'BLANK' keyword in header.  The 'BLANK' keyword is only applicable to integer data, and will be ignored in this HDU. [astropy.io.fits.hdu.image]\n",
      "WARNING: StokesWarning: Cube is a Stokes cube, returning spectral cube for I component [spectral_cube.io.core]\n",
      "WARNING: VerifyWarning: Invalid 'BLANK' keyword in header.  The 'BLANK' keyword is only applicable to integer data, and will be ignored in this HDU. [astropy.io.fits.hdu.image]\n",
      "WARNING: VerifyWarning: Invalid 'BLANK' keyword in header.  The 'BLANK' keyword is only applicable to integer data, and will be ignored in this HDU. [astropy.io.fits.hdu.image]\n"
     ]
    },
    {
     "name": "stdout",
     "output_type": "stream",
     "text": [
      "0.08130925298899128\n",
      "Can only apply 'subtract' function to dimensionless quantities when other argument is not a quantity (unless the latter is all zero/infinity/nan)\n",
      "[Errno 2] No such file or directory: '/Users/denes/Research/High_lat_HI/ATCA_data/data_cubes_4k/Norma/j163231-6041_cube_4k.fits'\n",
      "[Errno 2] No such file or directory: '/Users/denes/Research/High_lat_HI/ATCA_data/data_cubes_4k/Norma/j161227-5851_cube_4k.fits'\n",
      "[Errno 2] No such file or directory: '/Users/denes/Research/High_lat_HI/ATCA_data/data_cubes_4k/Norma/j161741-5914_cube_4k.fits'\n",
      "[Errno 2] No such file or directory: '/Users/denes/Research/High_lat_HI/ATCA_data/data_cubes_4k/Norma/j165422-6120_cube_4k.fits'\n",
      "[Errno 2] No such file or directory: '/Users/denes/Research/High_lat_HI/ATCA_data/data_cubes_4k/Norma/j163221-5716_cube_4k.fits'\n",
      "0.07911305431111358\n",
      "Can only apply 'subtract' function to dimensionless quantities when other argument is not a quantity (unless the latter is all zero/infinity/nan)\n",
      "[Errno 2] No such file or directory: '/Users/denes/Research/High_lat_HI/ATCA_data/data_cubes_4k/Norma/j161422-6058_cube_4k.fits'\n"
     ]
    },
    {
     "name": "stderr",
     "output_type": "stream",
     "text": [
      "WARNING: StokesWarning: Cube is a Stokes cube, returning spectral cube for I component [spectral_cube.io.core]\n",
      "WARNING: VerifyWarning: Invalid 'BLANK' keyword in header.  The 'BLANK' keyword is only applicable to integer data, and will be ignored in this HDU. [astropy.io.fits.hdu.image]\n",
      "WARNING: VerifyWarning: Invalid 'BLANK' keyword in header.  The 'BLANK' keyword is only applicable to integer data, and will be ignored in this HDU. [astropy.io.fits.hdu.image]\n",
      "WARNING: StokesWarning: Cube is a Stokes cube, returning spectral cube for I component [spectral_cube.io.core]\n",
      "WARNING: VerifyWarning: Invalid 'BLANK' keyword in header.  The 'BLANK' keyword is only applicable to integer data, and will be ignored in this HDU. [astropy.io.fits.hdu.image]\n"
     ]
    },
    {
     "name": "stdout",
     "output_type": "stream",
     "text": [
      "[Errno 2] No such file or directory: '/Users/denes/Research/High_lat_HI/ATCA_data/data_cubes_4k/Norma/j162151-6045_cube_4k.fits'\n",
      "[Errno 2] No such file or directory: '/Users/denes/Research/High_lat_HI/ATCA_data/data_cubes_4k/Norma/j163518-6228_cube_4k.fits'\n",
      "[Errno 2] No such file or directory: '/Users/denes/Research/High_lat_HI/ATCA_data/data_cubes_4k/Norma/j165351-5901_cube_4k.fits'\n",
      "[Errno 2] No such file or directory: '/Users/denes/Research/High_lat_HI/ATCA_data/data_cubes_4k/Norma/j172410-6203_cube_4k.fits'\n",
      "0.9321957257792105\n",
      "Can only apply 'subtract' function to dimensionless quantities when other argument is not a quantity (unless the latter is all zero/infinity/nan)\n",
      "[Errno 2] No such file or directory: '/Users/denes/Research/High_lat_HI/ATCA_data/data_cubes_4k/Norma/j162132-5827_cube_4k.fits'\n"
     ]
    },
    {
     "name": "stderr",
     "output_type": "stream",
     "text": [
      "WARNING: VerifyWarning: Invalid 'BLANK' keyword in header.  The 'BLANK' keyword is only applicable to integer data, and will be ignored in this HDU. [astropy.io.fits.hdu.image]\n",
      "WARNING: StokesWarning: Cube is a Stokes cube, returning spectral cube for I component [spectral_cube.io.core]\n",
      "WARNING: VerifyWarning: Invalid 'BLANK' keyword in header.  The 'BLANK' keyword is only applicable to integer data, and will be ignored in this HDU. [astropy.io.fits.hdu.image]\n",
      "WARNING: VerifyWarning: Invalid 'BLANK' keyword in header.  The 'BLANK' keyword is only applicable to integer data, and will be ignored in this HDU. [astropy.io.fits.hdu.image]\n"
     ]
    },
    {
     "name": "stdout",
     "output_type": "stream",
     "text": [
      "0.0786364255165721\n",
      "Can only apply 'subtract' function to dimensionless quantities when other argument is not a quantity (unless the latter is all zero/infinity/nan)\n"
     ]
    },
    {
     "name": "stderr",
     "output_type": "stream",
     "text": [
      "WARNING: StokesWarning: Cube is a Stokes cube, returning spectral cube for I component [spectral_cube.io.core]\n",
      "WARNING: VerifyWarning: Invalid 'BLANK' keyword in header.  The 'BLANK' keyword is only applicable to integer data, and will be ignored in this HDU. [astropy.io.fits.hdu.image]\n",
      "WARNING: VerifyWarning: Invalid 'BLANK' keyword in header.  The 'BLANK' keyword is only applicable to integer data, and will be ignored in this HDU. [astropy.io.fits.hdu.image]\n"
     ]
    },
    {
     "name": "stdout",
     "output_type": "stream",
     "text": [
      "0.05592617308572607\n",
      "Can only apply 'subtract' function to dimensionless quantities when other argument is not a quantity (unless the latter is all zero/infinity/nan)\n",
      "[Errno 2] No such file or directory: '/Users/denes/Research/High_lat_HI/ATCA_data/data_cubes_4k/Norma/j163630-5731_cube_4k.fits'\n",
      "[Errno 2] No such file or directory: '/Users/denes/Research/High_lat_HI/ATCA_data/data_cubes_4k/Norma/j171748-5815_cube_4k.fits'\n",
      "[Errno 2] No such file or directory: '/Users/denes/Research/High_lat_HI/ATCA_data/data_cubes_4k/Norma/j164251-6032_cube_4k.fits'\n"
     ]
    },
    {
     "name": "stderr",
     "output_type": "stream",
     "text": [
      "WARNING: StokesWarning: Cube is a Stokes cube, returning spectral cube for I component [spectral_cube.io.core]\n",
      "WARNING: VerifyWarning: Invalid 'BLANK' keyword in header.  The 'BLANK' keyword is only applicable to integer data, and will be ignored in this HDU. [astropy.io.fits.hdu.image]\n",
      "WARNING: VerifyWarning: Invalid 'BLANK' keyword in header.  The 'BLANK' keyword is only applicable to integer data, and will be ignored in this HDU. [astropy.io.fits.hdu.image]\n"
     ]
    },
    {
     "name": "stdout",
     "output_type": "stream",
     "text": [
      "0.18008479394887758\n",
      "Can only apply 'subtract' function to dimensionless quantities when other argument is not a quantity (unless the latter is all zero/infinity/nan)\n",
      "[Errno 2] No such file or directory: '/Users/denes/Research/High_lat_HI/ATCA_data/data_cubes_4k/Norma/j163647-6204_cube_4k.fits'\n",
      "[Errno 2] No such file or directory: '/Users/denes/Research/High_lat_HI/ATCA_data/data_cubes_4k/Norma/j171301-5915_cube_4k.fits'\n",
      "[Errno 2] No such file or directory: '/Users/denes/Research/High_lat_HI/ATCA_data/data_cubes_4k/Norma/j163958-6037_cube_4k.fits'\n",
      "[Errno 2] No such file or directory: '/Users/denes/Research/High_lat_HI/ATCA_data/data_cubes_4k/Norma/j163841-6216_cube_4k.fits'\n"
     ]
    },
    {
     "name": "stderr",
     "output_type": "stream",
     "text": [
      "WARNING: StokesWarning: Cube is a Stokes cube, returning spectral cube for I component [spectral_cube.io.core]\n",
      "WARNING: VerifyWarning: Invalid 'BLANK' keyword in header.  The 'BLANK' keyword is only applicable to integer data, and will be ignored in this HDU. [astropy.io.fits.hdu.image]\n",
      "WARNING: VerifyWarning: Invalid 'BLANK' keyword in header.  The 'BLANK' keyword is only applicable to integer data, and will be ignored in this HDU. [astropy.io.fits.hdu.image]\n"
     ]
    },
    {
     "name": "stdout",
     "output_type": "stream",
     "text": [
      "0.2869944904573544\n",
      "Can only apply 'subtract' function to dimensionless quantities when other argument is not a quantity (unless the latter is all zero/infinity/nan)\n",
      "[Errno 2] No such file or directory: '/Users/denes/Research/High_lat_HI/ATCA_data/data_cubes_4k/Norma/j164849-5705_cube_4k.fits'\n",
      "[Errno 2] No such file or directory: '/Users/denes/Research/High_lat_HI/ATCA_data/data_cubes_4k/Norma/j162736-6038_cube_4k.fits'\n",
      "[Errno 2] No such file or directory: '/Users/denes/Research/High_lat_HI/ATCA_data/data_cubes_4k/Norma/j171456-5822_cube_4k.fits'\n"
     ]
    },
    {
     "name": "stderr",
     "output_type": "stream",
     "text": [
      "WARNING: StokesWarning: Cube is a Stokes cube, returning spectral cube for I component [spectral_cube.io.core]\n",
      "WARNING: VerifyWarning: Invalid 'BLANK' keyword in header.  The 'BLANK' keyword is only applicable to integer data, and will be ignored in this HDU. [astropy.io.fits.hdu.image]\n",
      "WARNING: VerifyWarning: Invalid 'BLANK' keyword in header.  The 'BLANK' keyword is only applicable to integer data, and will be ignored in this HDU. [astropy.io.fits.hdu.image]\n"
     ]
    },
    {
     "name": "stdout",
     "output_type": "stream",
     "text": [
      "0.06397152843511568\n",
      "Can only apply 'subtract' function to dimensionless quantities when other argument is not a quantity (unless the latter is all zero/infinity/nan)\n",
      "[Errno 2] No such file or directory: '/Users/denes/Research/High_lat_HI/ATCA_data/data_cubes_4k/Norma/j161712-5849_cube_4k.fits'\n",
      "[Errno 2] No such file or directory: '/Users/denes/Research/High_lat_HI/ATCA_data/data_cubes_4k/Norma/j161457-5626_cube_4k.fits'\n",
      "[Errno 2] No such file or directory: '/Users/denes/Research/High_lat_HI/ATCA_data/data_cubes_4k/Norma/j162409-5819_cube_4k.fits'\n",
      "[Errno 2] No such file or directory: '/Users/denes/Research/High_lat_HI/ATCA_data/data_cubes_4k/Norma/j161227-5851_cube_4k.fits'\n",
      "[Errno 2] No such file or directory: '/Users/denes/Research/High_lat_HI/ATCA_data/data_cubes_4k/Norma/j161803-5901_cube_4k.fits'\n",
      "[Errno 2] No such file or directory: '/Users/denes/Research/High_lat_HI/ATCA_data/data_cubes_4k/Norma/j163000-5753_cube_4k.fits'\n"
     ]
    },
    {
     "name": "stderr",
     "output_type": "stream",
     "text": [
      "WARNING: StokesWarning: Cube is a Stokes cube, returning spectral cube for I component [spectral_cube.io.core]\n",
      "WARNING: VerifyWarning: Invalid 'BLANK' keyword in header.  The 'BLANK' keyword is only applicable to integer data, and will be ignored in this HDU. [astropy.io.fits.hdu.image]\n",
      "WARNING: VerifyWarning: Invalid 'BLANK' keyword in header.  The 'BLANK' keyword is only applicable to integer data, and will be ignored in this HDU. [astropy.io.fits.hdu.image]\n",
      "WARNING: StokesWarning: Cube is a Stokes cube, returning spectral cube for I component [spectral_cube.io.core]\n"
     ]
    },
    {
     "name": "stdout",
     "output_type": "stream",
     "text": [
      "0.07886886095181704\n",
      "Can only apply 'subtract' function to dimensionless quantities when other argument is not a quantity (unless the latter is all zero/infinity/nan)\n",
      "[Errno 2] No such file or directory: '/Users/denes/Research/High_lat_HI/ATCA_data/data_cubes_4k/Norma/j160532-6132_cube_4k.fits'\n",
      "[Errno 2] No such file or directory: '/Users/denes/Research/High_lat_HI/ATCA_data/data_cubes_4k/Norma/j163231-6041_cube_4k.fits'\n",
      "[Errno 2] No such file or directory: '/Users/denes/Research/High_lat_HI/ATCA_data/data_cubes_4k/Norma/j164558-5819_cube_4k.fits'\n",
      "[Errno 2] No such file or directory: '/Users/denes/Research/High_lat_HI/ATCA_data/data_cubes_4k/Norma/j162503-5652_cube_4k.fits'\n",
      "[Errno 2] No such file or directory: '/Users/denes/Research/High_lat_HI/ATCA_data/data_cubes_4k/Norma/j171620-6157_cube_4k.fits'\n",
      "0.1225952956038696\n"
     ]
    },
    {
     "name": "stderr",
     "output_type": "stream",
     "text": [
      "WARNING: VerifyWarning: Invalid 'BLANK' keyword in header.  The 'BLANK' keyword is only applicable to integer data, and will be ignored in this HDU. [astropy.io.fits.hdu.image]\n",
      "WARNING: VerifyWarning: Invalid 'BLANK' keyword in header.  The 'BLANK' keyword is only applicable to integer data, and will be ignored in this HDU. [astropy.io.fits.hdu.image]\n"
     ]
    },
    {
     "name": "stdout",
     "output_type": "stream",
     "text": [
      "Can only apply 'subtract' function to dimensionless quantities when other argument is not a quantity (unless the latter is all zero/infinity/nan)\n",
      "[Errno 2] No such file or directory: '/Users/denes/Research/High_lat_HI/ATCA_data/data_cubes_4k/Norma/j163525-5911_cube_4k.fits'\n"
     ]
    },
    {
     "name": "stderr",
     "output_type": "stream",
     "text": [
      "WARNING: StokesWarning: Cube is a Stokes cube, returning spectral cube for I component [spectral_cube.io.core]\n",
      "WARNING: VerifyWarning: Invalid 'BLANK' keyword in header.  The 'BLANK' keyword is only applicable to integer data, and will be ignored in this HDU. [astropy.io.fits.hdu.image]\n",
      "WARNING: VerifyWarning: Invalid 'BLANK' keyword in header.  The 'BLANK' keyword is only applicable to integer data, and will be ignored in this HDU. [astropy.io.fits.hdu.image]\n"
     ]
    },
    {
     "name": "stdout",
     "output_type": "stream",
     "text": [
      "0.18394414896110178\n",
      "Can only apply 'subtract' function to dimensionless quantities when other argument is not a quantity (unless the latter is all zero/infinity/nan)\n",
      "[Errno 2] No such file or directory: '/Users/denes/Research/High_lat_HI/ATCA_data/data_cubes_4k/Norma/j160735-5901_cube_4k.fits'\n",
      "[Errno 2] No such file or directory: '/Users/denes/Research/High_lat_HI/ATCA_data/data_cubes_4k/Norma/j160658-5845_cube_4k.fits'\n",
      "[Errno 2] No such file or directory: '/Users/denes/Research/High_lat_HI/ATCA_data/data_cubes_4k/Norma/j161658-5705_cube_4k.fits'\n",
      "[Errno 2] No such file or directory: '/Users/denes/Research/High_lat_HI/ATCA_data/data_cubes_4k/Norma/j162924-5924_cube_4k.fits'\n",
      "[Errno 2] No such file or directory: '/Users/denes/Research/High_lat_HI/ATCA_data/data_cubes_4k/Norma/j170833-5936_cube_4k.fits'\n",
      "[Errno 2] No such file or directory: '/Users/denes/Research/High_lat_HI/ATCA_data/data_cubes_4k/Norma/j171748-5815_cube_4k.fits'\n"
     ]
    },
    {
     "name": "stderr",
     "output_type": "stream",
     "text": [
      "WARNING: StokesWarning: Cube is a Stokes cube, returning spectral cube for I component [spectral_cube.io.core]\n",
      "WARNING: VerifyWarning: Invalid 'BLANK' keyword in header.  The 'BLANK' keyword is only applicable to integer data, and will be ignored in this HDU. [astropy.io.fits.hdu.image]\n"
     ]
    },
    {
     "name": "stdout",
     "output_type": "stream",
     "text": [
      "0.12423246805102502\n",
      "Can only apply 'subtract' function to dimensionless quantities when other argument is not a quantity (unless the latter is all zero/infinity/nan)\n",
      "[Errno 2] No such file or directory: '/Users/denes/Research/High_lat_HI/ATCA_data/data_cubes_4k/Norma/j170410-5903_cube_4k.fits'\n",
      "[Errno 2] No such file or directory: '/Users/denes/Research/High_lat_HI/ATCA_data/data_cubes_4k/Norma/j171054-5859_cube_4k.fits'\n",
      "[Errno 2] No such file or directory: '/Users/denes/Research/High_lat_HI/ATCA_data/data_cubes_4k/Norma/j164849-5705_cube_4k.fits'\n",
      "[Errno 2] No such file or directory: '/Users/denes/Research/High_lat_HI/ATCA_data/data_cubes_4k/Norma/j155722-6031_cube_4k.fits'\n",
      "[Errno 2] No such file or directory: '/Users/denes/Research/High_lat_HI/ATCA_data/data_cubes_4k/Norma/j162331-5829_cube_4k.fits'\n",
      "[Errno 2] No such file or directory: '/Users/denes/Research/High_lat_HI/ATCA_data/data_cubes_4k/Norma/j164116-5946_cube_4k.fits'\n",
      "[Errno 2] No such file or directory: '/Users/denes/Research/High_lat_HI/ATCA_data/data_cubes_4k/Norma/j170106-5845_cube_4k.fits'\n",
      "[Errno 2] No such file or directory: '/Users/denes/Research/High_lat_HI/ATCA_data/data_cubes_4k/Norma/j161939-5721_cube_4k.fits'\n",
      "[Errno 2] No such file or directory: '/Users/denes/Research/High_lat_HI/ATCA_data/data_cubes_4k/Norma/j170222-5740_cube_4k.fits'\n",
      "[Errno 2] No such file or directory: '/Users/denes/Research/High_lat_HI/ATCA_data/data_cubes_4k/Norma/j170753-5651_cube_4k.fits'\n",
      "[Errno 2] No such file or directory: '/Users/denes/Research/High_lat_HI/ATCA_data/data_cubes_4k/Norma/j160647-5700_cube_4k.fits'\n",
      "[Errno 2] No such file or directory: '/Users/denes/Research/High_lat_HI/ATCA_data/data_cubes_4k/Norma/j171511-6133_cube_4k.fits'\n",
      "[Errno 2] No such file or directory: '/Users/denes/Research/High_lat_HI/ATCA_data/data_cubes_4k/Norma/j172059-6140_cube_4k.fits'\n",
      "[Errno 2] No such file or directory: '/Users/denes/Research/High_lat_HI/ATCA_data/data_cubes_4k/Norma/j164305-5832_cube_4k.fits'\n",
      "[Errno 2] No such file or directory: '/Users/denes/Research/High_lat_HI/ATCA_data/data_cubes_4k/Norma/j170831-5713_cube_4k.fits'\n"
     ]
    },
    {
     "name": "stderr",
     "output_type": "stream",
     "text": [
      "WARNING: VerifyWarning: Invalid 'BLANK' keyword in header.  The 'BLANK' keyword is only applicable to integer data, and will be ignored in this HDU. [astropy.io.fits.hdu.image]\n",
      "WARNING: StokesWarning: Cube is a Stokes cube, returning spectral cube for I component [spectral_cube.io.core]\n",
      "WARNING: VerifyWarning: Invalid 'BLANK' keyword in header.  The 'BLANK' keyword is only applicable to integer data, and will be ignored in this HDU. [astropy.io.fits.hdu.image]\n"
     ]
    },
    {
     "name": "stdout",
     "output_type": "stream",
     "text": [
      "0.07545023318320099\n",
      "Can only apply 'subtract' function to dimensionless quantities when other argument is not a quantity (unless the latter is all zero/infinity/nan)\n",
      "[Errno 2] No such file or directory: '/Users/denes/Research/High_lat_HI/ATCA_data/data_cubes_4k/Norma/j162013-5917_cube_4k.fits'\n",
      "[Errno 2] No such file or directory: '/Users/denes/Research/High_lat_HI/ATCA_data/data_cubes_4k/Norma/j163637-6014_cube_4k.fits'\n",
      "[Errno 2] No such file or directory: '/Users/denes/Research/High_lat_HI/ATCA_data/data_cubes_4k/Norma/j160012-5811_cube_4k.fits'\n",
      "[Errno 2] No such file or directory: '/Users/denes/Research/High_lat_HI/ATCA_data/data_cubes_4k/Norma/j163959-6037_cube_4k.fits'\n",
      "[Errno 2] No such file or directory: '/Users/denes/Research/High_lat_HI/ATCA_data/data_cubes_4k/Norma/j165130-6242_cube_4k.fits'\n",
      "[Errno 2] No such file or directory: '/Users/denes/Research/High_lat_HI/ATCA_data/data_cubes_4k/Norma/j170542-6035_cube_4k.fits'\n",
      "[Errno 2] No such file or directory: '/Users/denes/Research/High_lat_HI/ATCA_data/data_cubes_4k/Norma/j161420-5638_cube_4k.fits'\n",
      "0.07886886095181704\n",
      "Can only apply 'subtract' function to dimensionless quantities when other argument is not a quantity (unless the latter is all zero/infinity/nan)\n"
     ]
    },
    {
     "name": "stderr",
     "output_type": "stream",
     "text": [
      "WARNING: VerifyWarning: Invalid 'BLANK' keyword in header.  The 'BLANK' keyword is only applicable to integer data, and will be ignored in this HDU. [astropy.io.fits.hdu.image]\n",
      "WARNING: StokesWarning: Cube is a Stokes cube, returning spectral cube for I component [spectral_cube.io.core]\n",
      "WARNING: VerifyWarning: Invalid 'BLANK' keyword in header.  The 'BLANK' keyword is only applicable to integer data, and will be ignored in this HDU. [astropy.io.fits.hdu.image]\n",
      "WARNING: VerifyWarning: Invalid 'BLANK' keyword in header.  The 'BLANK' keyword is only applicable to integer data, and will be ignored in this HDU. [astropy.io.fits.hdu.image]\n"
     ]
    },
    {
     "name": "stdout",
     "output_type": "stream",
     "text": [
      "[Errno 2] No such file or directory: '/Users/denes/Research/High_lat_HI/ATCA_data/data_cubes_4k/Norma/j171321-6107_cube_4k.fits'\n",
      "[Errno 2] No such file or directory: '/Users/denes/Research/High_lat_HI/ATCA_data/data_cubes_4k/Norma/j170124-6201_cube_4k.fits'\n"
     ]
    },
    {
     "name": "stderr",
     "output_type": "stream",
     "text": [
      "WARNING: StokesWarning: Cube is a Stokes cube, returning spectral cube for I component [spectral_cube.io.core]\n",
      "WARNING: VerifyWarning: Invalid 'BLANK' keyword in header.  The 'BLANK' keyword is only applicable to integer data, and will be ignored in this HDU. [astropy.io.fits.hdu.image]\n",
      "WARNING: VerifyWarning: Invalid 'BLANK' keyword in header.  The 'BLANK' keyword is only applicable to integer data, and will be ignored in this HDU. [astropy.io.fits.hdu.image]\n",
      "WARNING: StokesWarning: Cube is a Stokes cube, returning spectral cube for I component [spectral_cube.io.core]\n"
     ]
    },
    {
     "name": "stdout",
     "output_type": "stream",
     "text": [
      "0.5326162465372808\n",
      "Can only apply 'subtract' function to dimensionless quantities when other argument is not a quantity (unless the latter is all zero/infinity/nan)\n",
      "[Errno 2] No such file or directory: '/Users/denes/Research/High_lat_HI/ATCA_data/data_cubes_4k/Norma/j163000-5753_cube_4k.fits'\n",
      "0.13168352279388443\n",
      "Can only apply 'subtract' function to dimensionless quantities when other argument is not a quantity (unless the latter is all zero/infinity/nan)\n",
      "[Errno 2] No such file or directory: '/Users/denes/Research/High_lat_HI/ATCA_data/data_cubes_4k/Norma/j164204-6219_cube_4k.fits'\n"
     ]
    },
    {
     "name": "stderr",
     "output_type": "stream",
     "text": [
      "WARNING: VerifyWarning: Invalid 'BLANK' keyword in header.  The 'BLANK' keyword is only applicable to integer data, and will be ignored in this HDU. [astropy.io.fits.hdu.image]\n"
     ]
    },
    {
     "name": "stdout",
     "output_type": "stream",
     "text": [
      "[Errno 2] No such file or directory: '/Users/denes/Research/High_lat_HI/ATCA_data/data_cubes_4k/Norma/j170940-5851_cube_4k.fits'\n",
      "[Errno 2] No such file or directory: '/Users/denes/Research/High_lat_HI/ATCA_data/data_cubes_4k/Norma/j163807-5959_cube_4k.fits'\n",
      "[Errno 2] No such file or directory: '/Users/denes/Research/High_lat_HI/ATCA_data/data_cubes_4k/Norma/j161849-5719_cube_4k.fits'\n",
      "[Errno 2] No such file or directory: '/Users/denes/Research/High_lat_HI/ATCA_data/data_cubes_4k/Norma/j160533-5752_cube_4k.fits'\n",
      "[Errno 2] No such file or directory: '/Users/denes/Research/High_lat_HI/ATCA_data/data_cubes_4k/Norma/j160942-6149_cube_4k.fits'\n",
      "[Errno 2] No such file or directory: '/Users/denes/Research/High_lat_HI/ATCA_data/data_cubes_4k/Norma/j170449-6020_cube_4k.fits'\n",
      "[Errno 2] No such file or directory: '/Users/denes/Research/High_lat_HI/ATCA_data/data_cubes_4k/Norma/j170203-5745_cube_4k.fits'\n",
      "[Errno 2] No such file or directory: '/Users/denes/Research/High_lat_HI/ATCA_data/data_cubes_4k/Norma/j160937-5953_cube_4k.fits'\n",
      "[Errno 2] No such file or directory: '/Users/denes/Research/High_lat_HI/ATCA_data/data_cubes_4k/Norma/j163102-5833_cube_4k.fits'\n",
      "[Errno 2] No such file or directory: '/Users/denes/Research/High_lat_HI/ATCA_data/data_cubes_4k/Norma/j165023-5742_cube_4k.fits'\n",
      "[Errno 2] No such file or directory: '/Users/denes/Research/High_lat_HI/ATCA_data/data_cubes_4k/Norma/j163843-6235_cube_4k.fits'\n",
      "[Errno 2] No such file or directory: '/Users/denes/Research/High_lat_HI/ATCA_data/data_cubes_4k/Norma/j162049-5823_cube_4k.fits'\n",
      "[Errno 2] No such file or directory: '/Users/denes/Research/High_lat_HI/ATCA_data/data_cubes_4k/Norma/j163546-5957_cube_4k.fits'\n",
      "[Errno 2] No such file or directory: '/Users/denes/Research/High_lat_HI/ATCA_data/data_cubes_4k/Norma/j155650-5816_cube_4k.fits'\n",
      "[Errno 2] No such file or directory: '/Users/denes/Research/High_lat_HI/ATCA_data/data_cubes_4k/Norma/j163852-5712_cube_4k.fits'\n",
      "[Errno 2] No such file or directory: '/Users/denes/Research/High_lat_HI/ATCA_data/data_cubes_4k/Norma/j163631-6227_cube_4k.fits'\n",
      "[Errno 2] No such file or directory: '/Users/denes/Research/High_lat_HI/ATCA_data/data_cubes_4k/Norma/j170410-5903_cube_4k.fits'\n",
      "[Errno 2] No such file or directory: '/Users/denes/Research/High_lat_HI/ATCA_data/data_cubes_4k/Norma/j170919-6230_cube_4k.fits'\n",
      "[Errno 2] No such file or directory: '/Users/denes/Research/High_lat_HI/ATCA_data/data_cubes_4k/Norma/j155727-6024_cube_4k.fits'\n",
      "[Errno 2] No such file or directory: '/Users/denes/Research/High_lat_HI/ATCA_data/data_cubes_4k/Norma/j163625-5836_cube_4k.fits'\n",
      "[Errno 2] No such file or directory: '/Users/denes/Research/High_lat_HI/ATCA_data/data_cubes_4k/Norma/j155928-5849_cube_4k.fits'\n",
      "[Errno 2] No such file or directory: '/Users/denes/Research/High_lat_HI/ATCA_data/data_cubes_4k/Norma/j160146-5718_cube_4k.fits'\n",
      "[Errno 2] No such file or directory: '/Users/denes/Research/High_lat_HI/ATCA_data/data_cubes_4k/Norma/j160039-5646_cube_4k.fits'\n",
      "[Errno 2] No such file or directory: '/Users/denes/Research/High_lat_HI/ATCA_data/data_cubes_4k/Norma/j164801-5724_cube_4k.fits'\n",
      "[Errno 2] No such file or directory: '/Users/denes/Research/High_lat_HI/ATCA_data/data_cubes_4k/Norma/j172152-6208_cube_4k.fits'\n",
      "[Errno 2] No such file or directory: '/Users/denes/Research/High_lat_HI/ATCA_data/data_cubes_4k/Norma/j155344-6015_cube_4k.fits'\n",
      "[Errno 2] No such file or directory: '/Users/denes/Research/High_lat_HI/ATCA_data/data_cubes_4k/Norma/j164308-5729_cube_4k.fits'\n"
     ]
    },
    {
     "name": "stderr",
     "output_type": "stream",
     "text": [
      "WARNING: VerifyWarning: Invalid 'BLANK' keyword in header.  The 'BLANK' keyword is only applicable to integer data, and will be ignored in this HDU. [astropy.io.fits.hdu.image]\n",
      "WARNING: StokesWarning: Cube is a Stokes cube, returning spectral cube for I component [spectral_cube.io.core]\n",
      "WARNING: VerifyWarning: Invalid 'BLANK' keyword in header.  The 'BLANK' keyword is only applicable to integer data, and will be ignored in this HDU. [astropy.io.fits.hdu.image]\n"
     ]
    },
    {
     "name": "stdout",
     "output_type": "stream",
     "text": [
      "0.1792271549711455\n",
      "Can only apply 'subtract' function to dimensionless quantities when other argument is not a quantity (unless the latter is all zero/infinity/nan)\n",
      "[Errno 2] No such file or directory: '/Users/denes/Research/High_lat_HI/ATCA_data/data_cubes_4k/Norma/j170611-5703_cube_4k.fits'\n",
      "0.103037432315838\n",
      "Can only apply 'subtract' function to dimensionless quantities when other argument is not a quantity (unless the latter is all zero/infinity/nan)\n",
      "[Errno 2] No such file or directory: '/Users/denes/Research/High_lat_HI/ATCA_data/data_cubes_4k/Norma/j171621-5929_cube_4k.fits'\n",
      "[Errno 2] No such file or directory: '/Users/denes/Research/High_lat_HI/ATCA_data/data_cubes_4k/Norma/j165054-6148_cube_4k.fits'\n",
      "[Errno 2] No such file or directory: '/Users/denes/Research/High_lat_HI/ATCA_data/data_cubes_4k/Norma/j170713-5714_cube_4k.fits'\n",
      "[Errno 2] No such file or directory: '/Users/denes/Research/High_lat_HI/ATCA_data/data_cubes_4k/Norma/j170919-6230_cube_4k.fits'\n",
      "[Errno 2] No such file or directory: '/Users/denes/Research/High_lat_HI/ATCA_data/data_cubes_4k/Norma/j164533-5702_cube_4k.fits'\n"
     ]
    },
    {
     "name": "stderr",
     "output_type": "stream",
     "text": [
      "WARNING: VerifyWarning: Invalid 'BLANK' keyword in header.  The 'BLANK' keyword is only applicable to integer data, and will be ignored in this HDU. [astropy.io.fits.hdu.image]\n",
      "WARNING: StokesWarning: Cube is a Stokes cube, returning spectral cube for I component [spectral_cube.io.core]\n",
      "WARNING: VerifyWarning: Invalid 'BLANK' keyword in header.  The 'BLANK' keyword is only applicable to integer data, and will be ignored in this HDU. [astropy.io.fits.hdu.image]\n"
     ]
    },
    {
     "name": "stdout",
     "output_type": "stream",
     "text": [
      "[Errno 2] No such file or directory: '/Users/denes/Research/High_lat_HI/ATCA_data/data_cubes_4k/Norma/j161557-6055_cube_4k.fits'\n",
      "[Errno 2] No such file or directory: '/Users/denes/Research/High_lat_HI/ATCA_data/data_cubes_4k/Norma/j163223-6143_cube_4k.fits'\n",
      "[Errno 2] No such file or directory: '/Users/denes/Research/High_lat_HI/ATCA_data/data_cubes_4k/Norma/j162641-5847_cube_4k.fits'\n",
      "[Errno 2] No such file or directory: '/Users/denes/Research/High_lat_HI/ATCA_data/data_cubes_4k/Norma/j155952-5710_cube_4k.fits'\n",
      "[Errno 2] No such file or directory: '/Users/denes/Research/High_lat_HI/ATCA_data/data_cubes_4k/Norma/j171353-6233_cube_4k.fits'\n",
      "[Errno 2] No such file or directory: '/Users/denes/Research/High_lat_HI/ATCA_data/data_cubes_4k/Norma/j162547-5838_cube_4k.fits'\n",
      "[Errno 2] No such file or directory: '/Users/denes/Research/High_lat_HI/ATCA_data/data_cubes_4k/Norma/j164116-5946_cube_4k.fits'\n",
      "[Errno 2] No such file or directory: '/Users/denes/Research/High_lat_HI/ATCA_data/data_cubes_4k/Norma/j165405-5931_cube_4k.fits'\n",
      "[Errno 2] No such file or directory: '/Users/denes/Research/High_lat_HI/ATCA_data/data_cubes_4k/Norma/j155339-5857_cube_4k.fits'\n",
      "[Errno 2] No such file or directory: '/Users/denes/Research/High_lat_HI/ATCA_data/data_cubes_4k/Norma/j161741-5914_cube_4k.fits'\n",
      "[Errno 2] No such file or directory: '/Users/denes/Research/High_lat_HI/ATCA_data/data_cubes_4k/Norma/j161602-5823_cube_4k.fits'\n",
      "[Errno 2] No such file or directory: '/Users/denes/Research/High_lat_HI/ATCA_data/data_cubes_4k/Norma/j161624-5832_cube_4k.fits'\n",
      "[Errno 2] No such file or directory: '/Users/denes/Research/High_lat_HI/ATCA_data/data_cubes_4k/Norma/j162503-5652_cube_4k.fits'\n"
     ]
    },
    {
     "name": "stderr",
     "output_type": "stream",
     "text": [
      "WARNING: VerifyWarning: Invalid 'BLANK' keyword in header.  The 'BLANK' keyword is only applicable to integer data, and will be ignored in this HDU. [astropy.io.fits.hdu.image]\n",
      "WARNING: StokesWarning: Cube is a Stokes cube, returning spectral cube for I component [spectral_cube.io.core]\n",
      "WARNING: VerifyWarning: Invalid 'BLANK' keyword in header.  The 'BLANK' keyword is only applicable to integer data, and will be ignored in this HDU. [astropy.io.fits.hdu.image]\n"
     ]
    },
    {
     "name": "stdout",
     "output_type": "stream",
     "text": [
      "0.06608863640182686\n",
      "Can only apply 'subtract' function to dimensionless quantities when other argument is not a quantity (unless the latter is all zero/infinity/nan)\n",
      "0.2869944904573544\n",
      "Can only apply 'subtract' function to dimensionless quantities when other argument is not a quantity (unless the latter is all zero/infinity/nan)\n",
      "[Errno 2] No such file or directory: '/Users/denes/Research/High_lat_HI/ATCA_data/data_cubes_4k/Norma/j160658-5845_cube_4k.fits'\n",
      "[Errno 2] No such file or directory: '/Users/denes/Research/High_lat_HI/ATCA_data/data_cubes_4k/Norma/j160158-5907_cube_4k.fits'\n",
      "[Errno 2] No such file or directory: '/Users/denes/Research/High_lat_HI/ATCA_data/data_cubes_4k/Norma/j162118-6204_cube_4k.fits'\n",
      "[Errno 2] No such file or directory: '/Users/denes/Research/High_lat_HI/ATCA_data/data_cubes_4k/Norma/j171009-6006_cube_4k.fits'\n",
      "[Errno 2] No such file or directory: '/Users/denes/Research/High_lat_HI/ATCA_data/data_cubes_4k/Norma/j162500-5818_cube_4k.fits'\n",
      "[Errno 2] No such file or directory: '/Users/denes/Research/High_lat_HI/ATCA_data/data_cubes_4k/Norma/j161440-6058_cube_4k.fits'\n"
     ]
    },
    {
     "name": "stderr",
     "output_type": "stream",
     "text": [
      "WARNING: VerifyWarning: Invalid 'BLANK' keyword in header.  The 'BLANK' keyword is only applicable to integer data, and will be ignored in this HDU. [astropy.io.fits.hdu.image]\n",
      "WARNING: StokesWarning: Cube is a Stokes cube, returning spectral cube for I component [spectral_cube.io.core]\n",
      "WARNING: VerifyWarning: Invalid 'BLANK' keyword in header.  The 'BLANK' keyword is only applicable to integer data, and will be ignored in this HDU. [astropy.io.fits.hdu.image]\n"
     ]
    },
    {
     "name": "stdout",
     "output_type": "stream",
     "text": [
      "[Errno 2] No such file or directory: '/Users/denes/Research/High_lat_HI/ATCA_data/data_cubes_4k/Norma/j162821-6011_cube_4k.fits'\n",
      "[Errno 2] No such file or directory: '/Users/denes/Research/High_lat_HI/ATCA_data/data_cubes_4k/Norma/j172126-5725_cube_4k.fits'\n",
      "[Errno 2] No such file or directory: '/Users/denes/Research/High_lat_HI/ATCA_data/data_cubes_4k/Norma/j162641-5847_cube_4k.fits'\n",
      "[Errno 2] No such file or directory: '/Users/denes/Research/High_lat_HI/ATCA_data/data_cubes_4k/Norma/j165348-5921_cube_4k.fits'\n",
      "[Errno 2] No such file or directory: '/Users/denes/Research/High_lat_HI/ATCA_data/data_cubes_4k/Norma/j170941-5658_cube_4k.fits'\n",
      "[Errno 2] No such file or directory: '/Users/denes/Research/High_lat_HI/ATCA_data/data_cubes_4k/Norma/j161442-6048_cube_4k.fits'\n",
      "[Errno 2] No such file or directory: '/Users/denes/Research/High_lat_HI/ATCA_data/data_cubes_4k/Norma/j163631-6227_cube_4k.fits'\n",
      "[Errno 2] No such file or directory: '/Users/denes/Research/High_lat_HI/ATCA_data/data_cubes_4k/Norma/j160257-5702_cube_4k.fits'\n",
      "[Errno 2] No such file or directory: '/Users/denes/Research/High_lat_HI/ATCA_data/data_cubes_4k/Norma/j162510-5908_cube_4k.fits'\n",
      "[Errno 2] No such file or directory: '/Users/denes/Research/High_lat_HI/ATCA_data/data_cubes_4k/Norma/j164236-5911_cube_4k.fits'\n",
      "[Errno 2] No such file or directory: '/Users/denes/Research/High_lat_HI/ATCA_data/data_cubes_4k/Norma/j171844-6251_cube_4k.fits'\n",
      "[Errno 2] No such file or directory: '/Users/denes/Research/High_lat_HI/ATCA_data/data_cubes_4k/Norma/j171928-5657_cube_4k.fits'\n",
      "[Errno 2] No such file or directory: '/Users/denes/Research/High_lat_HI/ATCA_data/data_cubes_4k/Norma/j171359-5902_cube_4k.fits'\n"
     ]
    },
    {
     "name": "stderr",
     "output_type": "stream",
     "text": [
      "WARNING: VerifyWarning: Invalid 'BLANK' keyword in header.  The 'BLANK' keyword is only applicable to integer data, and will be ignored in this HDU. [astropy.io.fits.hdu.image]\n",
      "WARNING: StokesWarning: Cube is a Stokes cube, returning spectral cube for I component [spectral_cube.io.core]\n",
      "WARNING: VerifyWarning: Invalid 'BLANK' keyword in header.  The 'BLANK' keyword is only applicable to integer data, and will be ignored in this HDU. [astropy.io.fits.hdu.image]\n"
     ]
    },
    {
     "name": "stdout",
     "output_type": "stream",
     "text": [
      "0.12423246805102502\n",
      "Can only apply 'subtract' function to dimensionless quantities when other argument is not a quantity (unless the latter is all zero/infinity/nan)\n",
      "[Errno 2] No such file or directory: '/Users/denes/Research/High_lat_HI/ATCA_data/data_cubes_4k/Norma/j161347-5937_cube_4k.fits'\n",
      "[Errno 2] No such file or directory: '/Users/denes/Research/High_lat_HI/ATCA_data/data_cubes_4k/Norma/j164346-6041_cube_4k.fits'\n",
      "[Errno 2] No such file or directory: '/Users/denes/Research/High_lat_HI/ATCA_data/data_cubes_4k/Norma/j163513-5804_cube_4k.fits'\n",
      "[Errno 2] No such file or directory: '/Users/denes/Research/High_lat_HI/ATCA_data/data_cubes_4k/Norma/j155939-6011_cube_4k.fits'\n",
      "[Errno 2] No such file or directory: '/Users/denes/Research/High_lat_HI/ATCA_data/data_cubes_4k/Norma/j172256-6007_cube_4k.fits'\n",
      "[Errno 2] No such file or directory: '/Users/denes/Research/High_lat_HI/ATCA_data/data_cubes_4k/Norma/j162543-5841_cube_4k.fits'\n",
      "[Errno 2] No such file or directory: '/Users/denes/Research/High_lat_HI/ATCA_data/data_cubes_4k/Norma/j163520-5732_cube_4k.fits'\n",
      "[Errno 2] No such file or directory: '/Users/denes/Research/High_lat_HI/ATCA_data/data_cubes_4k/Norma/j171542-5848_cube_4k.fits'\n",
      "[Errno 2] No such file or directory: '/Users/denes/Research/High_lat_HI/ATCA_data/data_cubes_4k/Norma/j163857-5951_cube_4k.fits'\n",
      "[Errno 2] No such file or directory: '/Users/denes/Research/High_lat_HI/ATCA_data/data_cubes_4k/Norma/j162132-5827_cube_4k.fits'\n",
      "[Errno 2] No such file or directory: '/Users/denes/Research/High_lat_HI/ATCA_data/data_cubes_4k/Norma/j164459-5703_cube_4k.fits'\n",
      "[Errno 2] No such file or directory: '/Users/denes/Research/High_lat_HI/ATCA_data/data_cubes_4k/Norma/j161721-5847_cube_4k.fits'\n",
      "[Errno 2] No such file or directory: '/Users/denes/Research/High_lat_HI/ATCA_data/data_cubes_4k/Norma/j171718-5918_cube_4k.fits'\n"
     ]
    },
    {
     "name": "stderr",
     "output_type": "stream",
     "text": [
      "WARNING: VerifyWarning: Invalid 'BLANK' keyword in header.  The 'BLANK' keyword is only applicable to integer data, and will be ignored in this HDU. [astropy.io.fits.hdu.image]\n",
      "WARNING: StokesWarning: Cube is a Stokes cube, returning spectral cube for I component [spectral_cube.io.core]\n",
      "WARNING: VerifyWarning: Invalid 'BLANK' keyword in header.  The 'BLANK' keyword is only applicable to integer data, and will be ignored in this HDU. [astropy.io.fits.hdu.image]\n"
     ]
    },
    {
     "name": "stdout",
     "output_type": "stream",
     "text": [
      "0.08130925298899128\n",
      "Can only apply 'subtract' function to dimensionless quantities when other argument is not a quantity (unless the latter is all zero/infinity/nan)\n",
      "[Errno 2] No such file or directory: '/Users/denes/Research/High_lat_HI/ATCA_data/data_cubes_4k/Norma/j163407-6137_cube_4k.fits'\n",
      "[Errno 2] No such file or directory: '/Users/denes/Research/High_lat_HI/ATCA_data/data_cubes_4k/Norma/j171533-6108_cube_4k.fits'\n",
      "[Errno 2] No such file or directory: '/Users/denes/Research/High_lat_HI/ATCA_data/data_cubes_4k/Norma/j163056-5801_cube_4k.fits'\n",
      "[Errno 2] No such file or directory: '/Users/denes/Research/High_lat_HI/ATCA_data/data_cubes_4k/Norma/j163352-5944_cube_4k.fits'\n",
      "[Errno 2] No such file or directory: '/Users/denes/Research/High_lat_HI/ATCA_data/data_cubes_4k/Norma/j161803-5901_cube_4k.fits'\n",
      "[Errno 2] No such file or directory: '/Users/denes/Research/High_lat_HI/ATCA_data/data_cubes_4k/Norma/j162500-5818_cube_4k.fits'\n",
      "[Errno 2] No such file or directory: '/Users/denes/Research/High_lat_HI/ATCA_data/data_cubes_4k/Norma/j164420-5936_cube_4k.fits'\n",
      "[Errno 2] No such file or directory: '/Users/denes/Research/High_lat_HI/ATCA_data/data_cubes_4k/Norma/j170052-6204_cube_4k.fits'\n",
      "[Errno 2] No such file or directory: '/Users/denes/Research/High_lat_HI/ATCA_data/data_cubes_4k/Norma/j170739-6240_cube_4k.fits'\n",
      "[Errno 2] No such file or directory: '/Users/denes/Research/High_lat_HI/ATCA_data/data_cubes_4k/Norma/j170203-5745_cube_4k.fits'\n",
      "[Errno 2] No such file or directory: '/Users/denes/Research/High_lat_HI/ATCA_data/data_cubes_4k/Norma/j164305-5832_cube_4k.fits'\n"
     ]
    },
    {
     "name": "stderr",
     "output_type": "stream",
     "text": [
      "WARNING: VerifyWarning: Invalid 'BLANK' keyword in header.  The 'BLANK' keyword is only applicable to integer data, and will be ignored in this HDU. [astropy.io.fits.hdu.image]\n",
      "WARNING: StokesWarning: Cube is a Stokes cube, returning spectral cube for I component [spectral_cube.io.core]\n",
      "WARNING: VerifyWarning: Invalid 'BLANK' keyword in header.  The 'BLANK' keyword is only applicable to integer data, and will be ignored in this HDU. [astropy.io.fits.hdu.image]\n"
     ]
    },
    {
     "name": "stdout",
     "output_type": "stream",
     "text": [
      "0.1792271549711455\n",
      "Can only apply 'subtract' function to dimensionless quantities when other argument is not a quantity (unless the latter is all zero/infinity/nan)\n",
      "[Errno 2] No such file or directory: '/Users/denes/Research/High_lat_HI/ATCA_data/data_cubes_4k/Norma/j170623-5809_cube_4k.fits'\n",
      "[Errno 2] No such file or directory: '/Users/denes/Research/High_lat_HI/ATCA_data/data_cubes_4k/Norma/j171457-5812_cube_4k.fits'\n",
      "[Errno 2] No such file or directory: '/Users/denes/Research/High_lat_HI/ATCA_data/data_cubes_4k/Norma/j165508-5933_cube_4k.fits'\n",
      "[Errno 2] No such file or directory: '/Users/denes/Research/High_lat_HI/ATCA_data/data_cubes_4k/Norma/j161710-5818_cube_4k.fits'\n",
      "[Errno 2] No such file or directory: '/Users/denes/Research/High_lat_HI/ATCA_data/data_cubes_4k/Norma/j160146-5718_cube_4k.fits'\n",
      "[Errno 2] No such file or directory: '/Users/denes/Research/High_lat_HI/ATCA_data/data_cubes_4k/Norma/j164406-6051_cube_4k.fits'\n",
      "[Errno 2] No such file or directory: '/Users/denes/Research/High_lat_HI/ATCA_data/data_cubes_4k/Norma/j161557-6055_cube_4k.fits'\n",
      "[Errno 2] No such file or directory: '/Users/denes/Research/High_lat_HI/ATCA_data/data_cubes_4k/Norma/j161112-5742_cube_4k.fits'\n",
      "[Errno 2] No such file or directory: '/Users/denes/Research/High_lat_HI/ATCA_data/data_cubes_4k/Norma/j171009-6006_cube_4k.fits'\n",
      "[Errno 2] No such file or directory: '/Users/denes/Research/High_lat_HI/ATCA_data/data_cubes_4k/Norma/j161513-6054_cube_4k.fits'\n",
      "[Errno 2] No such file or directory: '/Users/denes/Research/High_lat_HI/ATCA_data/data_cubes_4k/Norma/j164602-5700_cube_4k.fits'\n",
      "[Errno 2] No such file or directory: '/Users/denes/Research/High_lat_HI/ATCA_data/data_cubes_4k/Norma/j164443-6101_cube_4k.fits'\n",
      "[Errno 2] No such file or directory: '/Users/denes/Research/High_lat_HI/ATCA_data/data_cubes_4k/Norma/j170352-5938_cube_4k.fits'\n",
      "[Errno 2] No such file or directory: '/Users/denes/Research/High_lat_HI/ATCA_data/data_cubes_4k/Norma/j161622-5811_cube_4k.fits'\n",
      "[Errno 2] No such file or directory: '/Users/denes/Research/High_lat_HI/ATCA_data/data_cubes_4k/Norma/j155526-6136_cube_4k.fits'\n"
     ]
    },
    {
     "name": "stderr",
     "output_type": "stream",
     "text": [
      "WARNING: VerifyWarning: Invalid 'BLANK' keyword in header.  The 'BLANK' keyword is only applicable to integer data, and will be ignored in this HDU. [astropy.io.fits.hdu.image]\n",
      "WARNING: StokesWarning: Cube is a Stokes cube, returning spectral cube for I component [spectral_cube.io.core]\n",
      "WARNING: VerifyWarning: Invalid 'BLANK' keyword in header.  The 'BLANK' keyword is only applicable to integer data, and will be ignored in this HDU. [astropy.io.fits.hdu.image]\n"
     ]
    },
    {
     "name": "stdout",
     "output_type": "stream",
     "text": [
      "0.04285804960902698\n",
      "Can only apply 'subtract' function to dimensionless quantities when other argument is not a quantity (unless the latter is all zero/infinity/nan)\n",
      "[Errno 2] No such file or directory: '/Users/denes/Research/High_lat_HI/ATCA_data/data_cubes_4k/Norma/j172424-6143_cube_4k.fits'\n",
      "[Errno 2] No such file or directory: '/Users/denes/Research/High_lat_HI/ATCA_data/data_cubes_4k/Norma/j164533-5702_cube_4k.fits'\n",
      "[Errno 2] No such file or directory: '/Users/denes/Research/High_lat_HI/ATCA_data/data_cubes_4k/Norma/j160411-5649_cube_4k.fits'\n",
      "[Errno 2] No such file or directory: '/Users/denes/Research/High_lat_HI/ATCA_data/data_cubes_4k/Norma/j161108-5738_cube_4k.fits'\n",
      "[Errno 2] No such file or directory: '/Users/denes/Research/High_lat_HI/ATCA_data/data_cubes_4k/Norma/j163831-6120_cube_4k.fits'\n",
      "[Errno 2] No such file or directory: '/Users/denes/Research/High_lat_HI/ATCA_data/data_cubes_4k/Norma/j165419-6214_cube_4k.fits'\n",
      "[Errno 2] No such file or directory: '/Users/denes/Research/High_lat_HI/ATCA_data/data_cubes_4k/Norma/j170858-6054_cube_4k.fits'\n",
      "[Errno 2] No such file or directory: '/Users/denes/Research/High_lat_HI/ATCA_data/data_cubes_4k/Norma/j162151-6045_cube_4k.fits'\n"
     ]
    },
    {
     "name": "stderr",
     "output_type": "stream",
     "text": [
      "WARNING: VerifyWarning: Invalid 'BLANK' keyword in header.  The 'BLANK' keyword is only applicable to integer data, and will be ignored in this HDU. [astropy.io.fits.hdu.image]\n",
      "WARNING: StokesWarning: Cube is a Stokes cube, returning spectral cube for I component [spectral_cube.io.core]\n",
      "WARNING: VerifyWarning: Invalid 'BLANK' keyword in header.  The 'BLANK' keyword is only applicable to integer data, and will be ignored in this HDU. [astropy.io.fits.hdu.image]\n"
     ]
    },
    {
     "name": "stdout",
     "output_type": "stream",
     "text": [
      "0.1168504314551526\n",
      "Can only apply 'subtract' function to dimensionless quantities when other argument is not a quantity (unless the latter is all zero/infinity/nan)\n",
      "[Errno 2] No such file or directory: '/Users/denes/Research/High_lat_HI/ATCA_data/data_cubes_4k/Norma/j170538-5718_cube_4k.fits'\n",
      "[Errno 2] No such file or directory: '/Users/denes/Research/High_lat_HI/ATCA_data/data_cubes_4k/Norma/j161243-5737_cube_4k.fits'\n",
      "[Errno 2] No such file or directory: '/Users/denes/Research/High_lat_HI/ATCA_data/data_cubes_4k/Norma/j164119-6237_cube_4k.fits'\n",
      "[Errno 2] No such file or directory: '/Users/denes/Research/High_lat_HI/ATCA_data/data_cubes_4k/Norma/j161855-5910_cube_4k.fits'\n",
      "[Errno 2] No such file or directory: '/Users/denes/Research/High_lat_HI/ATCA_data/data_cubes_4k/Norma/j161714-5848_cube_4k.fits'\n",
      "[Errno 2] No such file or directory: '/Users/denes/Research/High_lat_HI/ATCA_data/data_cubes_4k/Norma/j164526-5747_cube_4k.fits'\n",
      "[Errno 2] No such file or directory: '/Users/denes/Research/High_lat_HI/ATCA_data/data_cubes_4k/Norma/j161728-5847_cube_4k.fits'\n",
      "[Errno 2] No such file or directory: '/Users/denes/Research/High_lat_HI/ATCA_data/data_cubes_4k/Norma/j162459-5749_cube_4k.fits'\n",
      "[Errno 2] No such file or directory: '/Users/denes/Research/High_lat_HI/ATCA_data/data_cubes_4k/Norma/j161445-5719_cube_4k.fits'\n"
     ]
    },
    {
     "name": "stderr",
     "output_type": "stream",
     "text": [
      "WARNING: VerifyWarning: Invalid 'BLANK' keyword in header.  The 'BLANK' keyword is only applicable to integer data, and will be ignored in this HDU. [astropy.io.fits.hdu.image]\n",
      "WARNING: StokesWarning: Cube is a Stokes cube, returning spectral cube for I component [spectral_cube.io.core]\n",
      "WARNING: VerifyWarning: Invalid 'BLANK' keyword in header.  The 'BLANK' keyword is only applicable to integer data, and will be ignored in this HDU. [astropy.io.fits.hdu.image]\n"
     ]
    },
    {
     "name": "stdout",
     "output_type": "stream",
     "text": [
      "0.04285804960902698\n",
      "Can only apply 'subtract' function to dimensionless quantities when other argument is not a quantity (unless the latter is all zero/infinity/nan)\n"
     ]
    },
    {
     "name": "stderr",
     "output_type": "stream",
     "text": [
      "WARNING: VerifyWarning: Invalid 'BLANK' keyword in header.  The 'BLANK' keyword is only applicable to integer data, and will be ignored in this HDU. [astropy.io.fits.hdu.image]\n",
      "WARNING: StokesWarning: Cube is a Stokes cube, returning spectral cube for I component [spectral_cube.io.core]\n",
      "WARNING: VerifyWarning: Invalid 'BLANK' keyword in header.  The 'BLANK' keyword is only applicable to integer data, and will be ignored in this HDU. [astropy.io.fits.hdu.image]\n"
     ]
    },
    {
     "name": "stdout",
     "output_type": "stream",
     "text": [
      "0.07886886095181704\n",
      "Can only apply 'subtract' function to dimensionless quantities when other argument is not a quantity (unless the latter is all zero/infinity/nan)\n",
      "[Errno 2] No such file or directory: '/Users/denes/Research/High_lat_HI/ATCA_data/data_cubes_4k/Norma/j164445-6135_cube_4k.fits'\n",
      "[Errno 2] No such file or directory: '/Users/denes/Research/High_lat_HI/ATCA_data/data_cubes_4k/Norma/j170127-5703_cube_4k.fits'\n",
      "[Errno 2] No such file or directory: '/Users/denes/Research/High_lat_HI/ATCA_data/data_cubes_4k/Norma/j170750-5651_cube_4k.fits'\n",
      "[Errno 2] No such file or directory: '/Users/denes/Research/High_lat_HI/ATCA_data/data_cubes_4k/Norma/j171858-6239_cube_4k.fits'\n",
      "[Errno 2] No such file or directory: '/Users/denes/Research/High_lat_HI/ATCA_data/data_cubes_4k/Norma/j165356-6247_cube_4k.fits'\n",
      "[Errno 2] No such file or directory: '/Users/denes/Research/High_lat_HI/ATCA_data/data_cubes_4k/Norma/j155908-5823_cube_4k.fits'\n",
      "[Errno 2] No such file or directory: '/Users/denes/Research/High_lat_HI/ATCA_data/data_cubes_4k/Norma/j163124-5754_cube_4k.fits'\n",
      "[Errno 2] No such file or directory: '/Users/denes/Research/High_lat_HI/ATCA_data/data_cubes_4k/Norma/j162625-5800_cube_4k.fits'\n",
      "[Errno 2] No such file or directory: '/Users/denes/Research/High_lat_HI/ATCA_data/data_cubes_4k/Norma/j162346-5645_cube_4k.fits'\n"
     ]
    },
    {
     "name": "stderr",
     "output_type": "stream",
     "text": [
      "WARNING: VerifyWarning: Invalid 'BLANK' keyword in header.  The 'BLANK' keyword is only applicable to integer data, and will be ignored in this HDU. [astropy.io.fits.hdu.image]\n",
      "WARNING: StokesWarning: Cube is a Stokes cube, returning spectral cube for I component [spectral_cube.io.core]\n",
      "WARNING: VerifyWarning: Invalid 'BLANK' keyword in header.  The 'BLANK' keyword is only applicable to integer data, and will be ignored in this HDU. [astropy.io.fits.hdu.image]\n"
     ]
    },
    {
     "name": "stdout",
     "output_type": "stream",
     "text": [
      "0.18572755223857537\n",
      "Can only apply 'subtract' function to dimensionless quantities when other argument is not a quantity (unless the latter is all zero/infinity/nan)\n",
      "[Errno 2] No such file or directory: '/Users/denes/Research/High_lat_HI/ATCA_data/data_cubes_4k/Norma/j162854-6152_cube_4k.fits'\n",
      "[Errno 2] No such file or directory: '/Users/denes/Research/High_lat_HI/ATCA_data/data_cubes_4k/Norma/j170653-6239_cube_4k.fits'\n",
      "[Errno 2] No such file or directory: '/Users/denes/Research/High_lat_HI/ATCA_data/data_cubes_4k/Norma/j164144-6040_cube_4k.fits'\n",
      "[Errno 2] No such file or directory: '/Users/denes/Research/High_lat_HI/ATCA_data/data_cubes_4k/Norma/j163525-5837_cube_4k.fits'\n",
      "[Errno 2] No such file or directory: '/Users/denes/Research/High_lat_HI/ATCA_data/data_cubes_4k/Norma/j164526-5747_cube_4k.fits'\n",
      "[Errno 2] No such file or directory: '/Users/denes/Research/High_lat_HI/ATCA_data/data_cubes_4k/Norma/j163512-6029_cube_4k.fits'\n",
      "[Errno 2] No such file or directory: '/Users/denes/Research/High_lat_HI/ATCA_data/data_cubes_4k/Norma/j155433-6114_cube_4k.fits'\n",
      "[Errno 2] No such file or directory: '/Users/denes/Research/High_lat_HI/ATCA_data/data_cubes_4k/Norma/j170907-5925_cube_4k.fits'\n",
      "[Errno 2] No such file or directory: '/Users/denes/Research/High_lat_HI/ATCA_data/data_cubes_4k/Norma/j164216-6021_cube_4k.fits'\n",
      "[Errno 2] No such file or directory: '/Users/denes/Research/High_lat_HI/ATCA_data/data_cubes_4k/Norma/j163831-6120_cube_4k.fits'\n"
     ]
    },
    {
     "name": "stderr",
     "output_type": "stream",
     "text": [
      "WARNING: VerifyWarning: Invalid 'BLANK' keyword in header.  The 'BLANK' keyword is only applicable to integer data, and will be ignored in this HDU. [astropy.io.fits.hdu.image]\n",
      "WARNING: StokesWarning: Cube is a Stokes cube, returning spectral cube for I component [spectral_cube.io.core]\n",
      "WARNING: VerifyWarning: Invalid 'BLANK' keyword in header.  The 'BLANK' keyword is only applicable to integer data, and will be ignored in this HDU. [astropy.io.fits.hdu.image]\n",
      "WARNING: VerifyWarning: Invalid 'BLANK' keyword in header.  The 'BLANK' keyword is only applicable to integer data, and will be ignored in this HDU. [astropy.io.fits.hdu.image]\n"
     ]
    },
    {
     "name": "stdout",
     "output_type": "stream",
     "text": [
      "0.07622165264311508\n",
      "Can only apply 'subtract' function to dimensionless quantities when other argument is not a quantity (unless the latter is all zero/infinity/nan)\n",
      "[Errno 2] No such file or directory: '/Users/denes/Research/High_lat_HI/ATCA_data/data_cubes_4k/Norma/j155927-5734_cube_4k.fits'\n",
      "[Errno 2] No such file or directory: '/Users/denes/Research/High_lat_HI/ATCA_data/data_cubes_4k/Norma/j163952-5713_cube_4k.fits'\n",
      "[Errno 2] No such file or directory: '/Users/denes/Research/High_lat_HI/ATCA_data/data_cubes_4k/Norma/j164502-6002_cube_4k.fits'\n",
      "[Errno 2] No such file or directory: '/Users/denes/Research/High_lat_HI/ATCA_data/data_cubes_4k/Norma/j171151-5654_cube_4k.fits'\n",
      "0.07545023318320099\n",
      "Can only apply 'subtract' function to dimensionless quantities when other argument is not a quantity (unless the latter is all zero/infinity/nan)\n",
      "[Errno 2] No such file or directory: '/Users/denes/Research/High_lat_HI/ATCA_data/data_cubes_4k/Norma/j161107-5706_cube_4k.fits'\n"
     ]
    },
    {
     "name": "stderr",
     "output_type": "stream",
     "text": [
      "WARNING: StokesWarning: Cube is a Stokes cube, returning spectral cube for I component [spectral_cube.io.core]\n",
      "WARNING: VerifyWarning: Invalid 'BLANK' keyword in header.  The 'BLANK' keyword is only applicable to integer data, and will be ignored in this HDU. [astropy.io.fits.hdu.image]\n",
      "WARNING: VerifyWarning: Invalid 'BLANK' keyword in header.  The 'BLANK' keyword is only applicable to integer data, and will be ignored in this HDU. [astropy.io.fits.hdu.image]\n"
     ]
    },
    {
     "name": "stdout",
     "output_type": "stream",
     "text": [
      "[Errno 2] No such file or directory: '/Users/denes/Research/High_lat_HI/ATCA_data/data_cubes_4k/Norma/j160352-5653_cube_4k.fits'\n",
      "[Errno 2] No such file or directory: '/Users/denes/Research/High_lat_HI/ATCA_data/data_cubes_4k/Norma/j172157-6209_cube_4k.fits'\n",
      "[Errno 2] No such file or directory: '/Users/denes/Research/High_lat_HI/ATCA_data/data_cubes_4k/Norma/j163546-5957_cube_4k.fits'\n",
      "[Errno 2] No such file or directory: '/Users/denes/Research/High_lat_HI/ATCA_data/data_cubes_4k/Norma/j163843-6216_cube_4k.fits'\n",
      "0.30809649991385\n",
      "Can only apply 'subtract' function to dimensionless quantities when other argument is not a quantity (unless the latter is all zero/infinity/nan)\n",
      "[Errno 2] No such file or directory: '/Users/denes/Research/High_lat_HI/ATCA_data/data_cubes_4k/Norma/j171513-5712_cube_4k.fits'\n",
      "[Errno 2] No such file or directory: '/Users/denes/Research/High_lat_HI/ATCA_data/data_cubes_4k/Norma/j160146-5718_cube_4k.fits'\n",
      "[Errno 2] No such file or directory: '/Users/denes/Research/High_lat_HI/ATCA_data/data_cubes_4k/Norma/j162704-6133_cube_4k.fits'\n",
      "[Errno 2] No such file or directory: '/Users/denes/Research/High_lat_HI/ATCA_data/data_cubes_4k/Norma/j171852-5840_cube_4k.fits'\n",
      "[Errno 2] No such file or directory: '/Users/denes/Research/High_lat_HI/ATCA_data/data_cubes_4k/Norma/j170338-6002_cube_4k.fits'\n",
      "[Errno 2] No such file or directory: '/Users/denes/Research/High_lat_HI/ATCA_data/data_cubes_4k/Norma/j171100-6129_cube_4k.fits'\n",
      "[Errno 2] No such file or directory: '/Users/denes/Research/High_lat_HI/ATCA_data/data_cubes_4k/Norma/j161457-5626_cube_4k.fits'\n",
      "[Errno 2] No such file or directory: '/Users/denes/Research/High_lat_HI/ATCA_data/data_cubes_4k/Norma/j155952-5710_cube_4k.fits'\n",
      "[Errno 2] No such file or directory: '/Users/denes/Research/High_lat_HI/ATCA_data/data_cubes_4k/Norma/j163641-6044_cube_4k.fits'\n",
      "[Errno 2] No such file or directory: '/Users/denes/Research/High_lat_HI/ATCA_data/data_cubes_4k/Norma/j170115-5847_cube_4k.fits'\n",
      "[Errno 2] No such file or directory: '/Users/denes/Research/High_lat_HI/ATCA_data/data_cubes_4k/Norma/j170633-6102_cube_4k.fits'\n",
      "[Errno 2] No such file or directory: '/Users/denes/Research/High_lat_HI/ATCA_data/data_cubes_4k/Norma/j160202-6009_cube_4k.fits'\n",
      "[Errno 2] No such file or directory: '/Users/denes/Research/High_lat_HI/ATCA_data/data_cubes_4k/Norma/j160352-5653_cube_4k.fits'\n",
      "[Errno 2] No such file or directory: '/Users/denes/Research/High_lat_HI/ATCA_data/data_cubes_4k/Norma/j161144-6012_cube_4k.fits'\n"
     ]
    },
    {
     "name": "stderr",
     "output_type": "stream",
     "text": [
      "WARNING: StokesWarning: Cube is a Stokes cube, returning spectral cube for I component [spectral_cube.io.core]\n",
      "WARNING: VerifyWarning: Invalid 'BLANK' keyword in header.  The 'BLANK' keyword is only applicable to integer data, and will be ignored in this HDU. [astropy.io.fits.hdu.image]\n"
     ]
    }
   ],
   "source": [
    "field = 'Norma'\n",
    "#field = 'Hydra'\n",
    "\n",
    "askap_files = os.listdir('/Users/denes/Research/High_lat_HI/ASKAP_data/spectra/{}/'.format(field))\n",
    "\n",
    "for i in range(len(askap_files)):    \n",
    "    try:\n",
    "        make_plot_v2(askap_files[i], field)\n",
    "\n",
    "    except Exception as e:\n",
    "        print(e)\n",
    "        continue"
   ]
  },
  {
   "cell_type": "code",
   "execution_count": 68,
   "metadata": {},
   "outputs": [
    {
     "data": {
      "text/latex": [
       "$(-4750915.8, 2792906.2, -3200483.7) \\; \\mathrm{m}$"
      ],
      "text/plain": [
       "<EarthLocation (-4750915.837, 2792906.182, -3200483.747) m>"
      ]
     },
     "execution_count": 68,
     "metadata": {},
     "output_type": "execute_result"
    }
   ],
   "source": [
    "ATCA = EarthLocation.from_geocentric(-4750915.837, 2792906.182, -3200483.747, unit='m') \n",
    "ATCA"
   ]
  },
  {
   "cell_type": "code",
   "execution_count": 7,
   "metadata": {},
   "outputs": [
    {
     "data": {
      "text/plain": [
       "Index(['Unnamed: 0', 'id', 'catalogue_id', 'other_sbids', 'first_sbid',\n",
       "       'project_id', 'island_id', 'island_name', 'n_components', 'ra_hms_cont',\n",
       "       'dec_dms_cont', 'ra_deg_cont', 'dec_deg_cont', 'freq', 'maj_axis',\n",
       "       'min_axis', 'pos_ang', 'flux_int', 'flux_int_err', 'flux_peak',\n",
       "       'mean_background', 'background_noise', 'max_residual', 'min_residual',\n",
       "       'mean_residual', 'rms_residual', 'stddev_residual', 'x_min', 'x_max',\n",
       "       'y_min', 'y_max', 'n_pix', 'solid_angle', 'beam_area', 'x_ave', 'y_ave',\n",
       "       'x_cen', 'y_cen', 'x_peak', 'y_peak', 'flag_i1', 'flag_i2', 'flag_i3',\n",
       "       'flag_i4', 'comment', 'quality_level', 'released_date', 'rms_abs',\n",
       "       'tau_max'],\n",
       "      dtype='object')"
      ]
     },
     "execution_count": 7,
     "metadata": {},
     "output_type": "execute_result"
    }
   ],
   "source": [
    "askap_5sig = pd.read_csv('5_sigma_askap_sources.csv')\n",
    "\n",
    "askap_5sig.keys() "
   ]
  },
  {
   "cell_type": "code",
   "execution_count": 12,
   "metadata": {},
   "outputs": [],
   "source": [
    "ra = np.array(askap_5sig['ra_hms_cont'])\n",
    "dec = np.array(askap_5sig['dec_dms_cont'])\n",
    "flux_peak = np.array(askap_5sig['flux_peak'])"
   ]
  },
  {
   "cell_type": "code",
   "execution_count": 13,
   "metadata": {},
   "outputs": [
    {
     "data": {
      "text/plain": [
       "array([ 250.805,  246.479,  697.455,  227.038,  202.523,  694.487,\n",
       "        205.575,  568.857,  112.88 ,  112.849,  123.559,  117.647,\n",
       "        478.062,  111.47 ,  426.476,  365.438,   54.942,  308.885,\n",
       "        271.068,  291.379, 1109.796,  386.44 ,   44.937,  312.936,\n",
       "        161.325,   36.722,  258.492,   26.007,  873.144,  217.951,\n",
       "        263.941,  179.085,  183.046,  155.609,  812.21 ,  116.628,\n",
       "         21.129,  143.358,  147.95 ,  106.828,  115.55 ,  106.423,\n",
       "        738.535,  101.625,  106.391,  107.767,  720.798,   81.522,\n",
       "         82.07 ,  522.06 ,  508.234,  465.812,   56.421,  407.463,\n",
       "         54.567,   48.611])"
      ]
     },
     "execution_count": 13,
     "metadata": {},
     "output_type": "execute_result"
    }
   ],
   "source": [
    "flux_peak"
   ]
  },
  {
   "cell_type": "code",
   "execution_count": 15,
   "metadata": {},
   "outputs": [
    {
     "name": "stdout",
     "output_type": "stream",
     "text": [
      "ok\n"
     ]
    }
   ],
   "source": [
    "askap_name = '100748.6-271803'\n",
    "\n",
    "for i in range(len(ra)):\n",
    "    if askap_name[:8] == ra[i].replace(':',''):\n",
    "        print('ok')"
   ]
  },
  {
   "cell_type": "code",
   "execution_count": null,
   "metadata": {},
   "outputs": [],
   "source": []
  }
 ],
 "metadata": {
  "kernelspec": {
   "display_name": "Python 3",
   "language": "python",
   "name": "python3"
  },
  "language_info": {
   "codemirror_mode": {
    "name": "ipython",
    "version": 3
   },
   "file_extension": ".py",
   "mimetype": "text/x-python",
   "name": "python",
   "nbconvert_exporter": "python",
   "pygments_lexer": "ipython3",
   "version": "3.8.8"
  }
 },
 "nbformat": 4,
 "nbformat_minor": 4
}
